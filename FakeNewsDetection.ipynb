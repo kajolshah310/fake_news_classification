{
  "cells": [
    {
      "cell_type": "markdown",
      "source": [
        "Fake News Classification \n",
        "\n",
        "By Kajol Shah"
      ],
      "metadata": {
        "id": "v0ef7vTvkwGu"
      }
    },
    {
      "cell_type": "code",
      "execution_count": null,
      "metadata": {
        "id": "axkYzIu81fQQ"
      },
      "outputs": [],
      "source": [
        "#Fake news detection\n",
        "import pandas as pd\n",
        "import numpy as np\n",
        "from sklearn.model_selection import train_test_split\n"
      ]
    },
    {
      "cell_type": "code",
      "execution_count": null,
      "metadata": {
        "colab": {
          "base_uri": "https://localhost:8080/",
          "height": 423
        },
        "id": "_Kxt_7jmP86K",
        "outputId": "778fd602-87e9-4a61-b299-b44da35e4ba0",
        "scrolled": true
      },
      "outputs": [
        {
          "output_type": "execute_result",
          "data": {
            "text/plain": [
              "            id    tid1    tid2  \\\n",
              "0       195611       0       1   \n",
              "1       191474       2       3   \n",
              "2        25300       2       4   \n",
              "3       123757       2       8   \n",
              "4       141761       2      11   \n",
              "...        ...     ...     ...   \n",
              "256437  113364  167562   48447   \n",
              "256438   49407  167562   49795   \n",
              "256439  130134  167562  114783   \n",
              "256440  101494  167562  137705   \n",
              "256441   89356  167563   66480   \n",
              "\n",
              "                                                title1_en  \\\n",
              "0       There are two new old-age insurance benefits f...   \n",
              "1       \"If you do not come to Shenzhen, sooner or lat...   \n",
              "2       \"If you do not come to Shenzhen, sooner or lat...   \n",
              "3       \"If you do not come to Shenzhen, sooner or lat...   \n",
              "4       \"If you do not come to Shenzhen, sooner or lat...   \n",
              "...                                                   ...   \n",
              "256437  egypt 's presidential election failed to win m...   \n",
              "256438  egypt 's presidential election failed to win m...   \n",
              "256439  egypt 's presidential election failed to win m...   \n",
              "256440  egypt 's presidential election failed to win m...   \n",
              "256441  Will the United States wage war on Iraq withou...   \n",
              "\n",
              "                                                title2_en      label  \n",
              "0       Police disprove \"bird's nest congress each per...  unrelated  \n",
              "1       Shenzhen's GDP outstrips Hong Kong? Shenzhen S...  unrelated  \n",
              "2       The GDP overtopped Hong Kong? Shenzhen clarifi...  unrelated  \n",
              "3       Shenzhen's GDP overtakes Hong Kong? Bureau of ...  unrelated  \n",
              "4       Shenzhen's GDP outpaces Hong Kong? Defending R...  unrelated  \n",
              "...                                                   ...        ...  \n",
              "256437  Salah is retiring? Football Association offici...  unrelated  \n",
              "256438  Liverpool's bid for Little Germany? The Echo's...  unrelated  \n",
              "256439  West Media Exposing Tallahlach has been recomm...  unrelated  \n",
              "256440  Rumor has it that Egypt is very united and the...  unrelated  \n",
              "256441  Saddam's daughter refutes rumors: no. 2 of Sad...  unrelated  \n",
              "\n",
              "[256442 rows x 6 columns]"
            ],
            "text/html": [
              "\n",
              "  <div id=\"df-ca4bf135-8d26-4995-b788-eb880f9ad9b8\">\n",
              "    <div class=\"colab-df-container\">\n",
              "      <div>\n",
              "<style scoped>\n",
              "    .dataframe tbody tr th:only-of-type {\n",
              "        vertical-align: middle;\n",
              "    }\n",
              "\n",
              "    .dataframe tbody tr th {\n",
              "        vertical-align: top;\n",
              "    }\n",
              "\n",
              "    .dataframe thead th {\n",
              "        text-align: right;\n",
              "    }\n",
              "</style>\n",
              "<table border=\"1\" class=\"dataframe\">\n",
              "  <thead>\n",
              "    <tr style=\"text-align: right;\">\n",
              "      <th></th>\n",
              "      <th>id</th>\n",
              "      <th>tid1</th>\n",
              "      <th>tid2</th>\n",
              "      <th>title1_en</th>\n",
              "      <th>title2_en</th>\n",
              "      <th>label</th>\n",
              "    </tr>\n",
              "  </thead>\n",
              "  <tbody>\n",
              "    <tr>\n",
              "      <th>0</th>\n",
              "      <td>195611</td>\n",
              "      <td>0</td>\n",
              "      <td>1</td>\n",
              "      <td>There are two new old-age insurance benefits f...</td>\n",
              "      <td>Police disprove \"bird's nest congress each per...</td>\n",
              "      <td>unrelated</td>\n",
              "    </tr>\n",
              "    <tr>\n",
              "      <th>1</th>\n",
              "      <td>191474</td>\n",
              "      <td>2</td>\n",
              "      <td>3</td>\n",
              "      <td>\"If you do not come to Shenzhen, sooner or lat...</td>\n",
              "      <td>Shenzhen's GDP outstrips Hong Kong? Shenzhen S...</td>\n",
              "      <td>unrelated</td>\n",
              "    </tr>\n",
              "    <tr>\n",
              "      <th>2</th>\n",
              "      <td>25300</td>\n",
              "      <td>2</td>\n",
              "      <td>4</td>\n",
              "      <td>\"If you do not come to Shenzhen, sooner or lat...</td>\n",
              "      <td>The GDP overtopped Hong Kong? Shenzhen clarifi...</td>\n",
              "      <td>unrelated</td>\n",
              "    </tr>\n",
              "    <tr>\n",
              "      <th>3</th>\n",
              "      <td>123757</td>\n",
              "      <td>2</td>\n",
              "      <td>8</td>\n",
              "      <td>\"If you do not come to Shenzhen, sooner or lat...</td>\n",
              "      <td>Shenzhen's GDP overtakes Hong Kong? Bureau of ...</td>\n",
              "      <td>unrelated</td>\n",
              "    </tr>\n",
              "    <tr>\n",
              "      <th>4</th>\n",
              "      <td>141761</td>\n",
              "      <td>2</td>\n",
              "      <td>11</td>\n",
              "      <td>\"If you do not come to Shenzhen, sooner or lat...</td>\n",
              "      <td>Shenzhen's GDP outpaces Hong Kong? Defending R...</td>\n",
              "      <td>unrelated</td>\n",
              "    </tr>\n",
              "    <tr>\n",
              "      <th>...</th>\n",
              "      <td>...</td>\n",
              "      <td>...</td>\n",
              "      <td>...</td>\n",
              "      <td>...</td>\n",
              "      <td>...</td>\n",
              "      <td>...</td>\n",
              "    </tr>\n",
              "    <tr>\n",
              "      <th>256437</th>\n",
              "      <td>113364</td>\n",
              "      <td>167562</td>\n",
              "      <td>48447</td>\n",
              "      <td>egypt 's presidential election failed to win m...</td>\n",
              "      <td>Salah is retiring? Football Association offici...</td>\n",
              "      <td>unrelated</td>\n",
              "    </tr>\n",
              "    <tr>\n",
              "      <th>256438</th>\n",
              "      <td>49407</td>\n",
              "      <td>167562</td>\n",
              "      <td>49795</td>\n",
              "      <td>egypt 's presidential election failed to win m...</td>\n",
              "      <td>Liverpool's bid for Little Germany? The Echo's...</td>\n",
              "      <td>unrelated</td>\n",
              "    </tr>\n",
              "    <tr>\n",
              "      <th>256439</th>\n",
              "      <td>130134</td>\n",
              "      <td>167562</td>\n",
              "      <td>114783</td>\n",
              "      <td>egypt 's presidential election failed to win m...</td>\n",
              "      <td>West Media Exposing Tallahlach has been recomm...</td>\n",
              "      <td>unrelated</td>\n",
              "    </tr>\n",
              "    <tr>\n",
              "      <th>256440</th>\n",
              "      <td>101494</td>\n",
              "      <td>167562</td>\n",
              "      <td>137705</td>\n",
              "      <td>egypt 's presidential election failed to win m...</td>\n",
              "      <td>Rumor has it that Egypt is very united and the...</td>\n",
              "      <td>unrelated</td>\n",
              "    </tr>\n",
              "    <tr>\n",
              "      <th>256441</th>\n",
              "      <td>89356</td>\n",
              "      <td>167563</td>\n",
              "      <td>66480</td>\n",
              "      <td>Will the United States wage war on Iraq withou...</td>\n",
              "      <td>Saddam's daughter refutes rumors: no. 2 of Sad...</td>\n",
              "      <td>unrelated</td>\n",
              "    </tr>\n",
              "  </tbody>\n",
              "</table>\n",
              "<p>256442 rows × 6 columns</p>\n",
              "</div>\n",
              "      <button class=\"colab-df-convert\" onclick=\"convertToInteractive('df-ca4bf135-8d26-4995-b788-eb880f9ad9b8')\"\n",
              "              title=\"Convert this dataframe to an interactive table.\"\n",
              "              style=\"display:none;\">\n",
              "        \n",
              "  <svg xmlns=\"http://www.w3.org/2000/svg\" height=\"24px\"viewBox=\"0 0 24 24\"\n",
              "       width=\"24px\">\n",
              "    <path d=\"M0 0h24v24H0V0z\" fill=\"none\"/>\n",
              "    <path d=\"M18.56 5.44l.94 2.06.94-2.06 2.06-.94-2.06-.94-.94-2.06-.94 2.06-2.06.94zm-11 1L8.5 8.5l.94-2.06 2.06-.94-2.06-.94L8.5 2.5l-.94 2.06-2.06.94zm10 10l.94 2.06.94-2.06 2.06-.94-2.06-.94-.94-2.06-.94 2.06-2.06.94z\"/><path d=\"M17.41 7.96l-1.37-1.37c-.4-.4-.92-.59-1.43-.59-.52 0-1.04.2-1.43.59L10.3 9.45l-7.72 7.72c-.78.78-.78 2.05 0 2.83L4 21.41c.39.39.9.59 1.41.59.51 0 1.02-.2 1.41-.59l7.78-7.78 2.81-2.81c.8-.78.8-2.07 0-2.86zM5.41 20L4 18.59l7.72-7.72 1.47 1.35L5.41 20z\"/>\n",
              "  </svg>\n",
              "      </button>\n",
              "      \n",
              "  <style>\n",
              "    .colab-df-container {\n",
              "      display:flex;\n",
              "      flex-wrap:wrap;\n",
              "      gap: 12px;\n",
              "    }\n",
              "\n",
              "    .colab-df-convert {\n",
              "      background-color: #E8F0FE;\n",
              "      border: none;\n",
              "      border-radius: 50%;\n",
              "      cursor: pointer;\n",
              "      display: none;\n",
              "      fill: #1967D2;\n",
              "      height: 32px;\n",
              "      padding: 0 0 0 0;\n",
              "      width: 32px;\n",
              "    }\n",
              "\n",
              "    .colab-df-convert:hover {\n",
              "      background-color: #E2EBFA;\n",
              "      box-shadow: 0px 1px 2px rgba(60, 64, 67, 0.3), 0px 1px 3px 1px rgba(60, 64, 67, 0.15);\n",
              "      fill: #174EA6;\n",
              "    }\n",
              "\n",
              "    [theme=dark] .colab-df-convert {\n",
              "      background-color: #3B4455;\n",
              "      fill: #D2E3FC;\n",
              "    }\n",
              "\n",
              "    [theme=dark] .colab-df-convert:hover {\n",
              "      background-color: #434B5C;\n",
              "      box-shadow: 0px 1px 3px 1px rgba(0, 0, 0, 0.15);\n",
              "      filter: drop-shadow(0px 1px 2px rgba(0, 0, 0, 0.3));\n",
              "      fill: #FFFFFF;\n",
              "    }\n",
              "  </style>\n",
              "\n",
              "      <script>\n",
              "        const buttonEl =\n",
              "          document.querySelector('#df-ca4bf135-8d26-4995-b788-eb880f9ad9b8 button.colab-df-convert');\n",
              "        buttonEl.style.display =\n",
              "          google.colab.kernel.accessAllowed ? 'block' : 'none';\n",
              "\n",
              "        async function convertToInteractive(key) {\n",
              "          const element = document.querySelector('#df-ca4bf135-8d26-4995-b788-eb880f9ad9b8');\n",
              "          const dataTable =\n",
              "            await google.colab.kernel.invokeFunction('convertToInteractive',\n",
              "                                                     [key], {});\n",
              "          if (!dataTable) return;\n",
              "\n",
              "          const docLinkHtml = 'Like what you see? Visit the ' +\n",
              "            '<a target=\"_blank\" href=https://colab.research.google.com/notebooks/data_table.ipynb>data table notebook</a>'\n",
              "            + ' to learn more about interactive tables.';\n",
              "          element.innerHTML = '';\n",
              "          dataTable['output_type'] = 'display_data';\n",
              "          await google.colab.output.renderOutput(dataTable, element);\n",
              "          const docLink = document.createElement('div');\n",
              "          docLink.innerHTML = docLinkHtml;\n",
              "          element.appendChild(docLink);\n",
              "        }\n",
              "      </script>\n",
              "    </div>\n",
              "  </div>\n",
              "  "
            ]
          },
          "metadata": {},
          "execution_count": 2
        }
      ],
      "source": [
        "#import training data\n",
        "fake = pd.read_csv(\"train.csv\",header=0,doublequote=True, engine=None)\n",
        "len(fake)\n",
        "fake"
      ]
    },
    {
      "cell_type": "code",
      "execution_count": null,
      "metadata": {
        "colab": {
          "base_uri": "https://localhost:8080/",
          "height": 35
        },
        "id": "6igHs6PnqG_G",
        "outputId": "ea8d0924-92d3-4033-dbb4-ee5f31e67539"
      },
      "outputs": [
        {
          "output_type": "execute_result",
          "data": {
            "text/plain": [
              "'Police disprove \"bird\\'s nest congress each person gets 50,000 yuan\" still old people insist on going to beijing'"
            ],
            "application/vnd.google.colaboratory.intrinsic+json": {
              "type": "string"
            }
          },
          "metadata": {},
          "execution_count": 3
        }
      ],
      "source": [
        "fake['title2_en'].iloc[0]\n"
      ]
    },
    {
      "cell_type": "code",
      "execution_count": null,
      "metadata": {
        "colab": {
          "base_uri": "https://localhost:8080/",
          "height": 423
        },
        "id": "UZLdYRwX_smS",
        "outputId": "a6117a37-644c-466d-9b23-4aa717ab085a",
        "scrolled": true
      },
      "outputs": [
        {
          "output_type": "execute_result",
          "data": {
            "text/plain": [
              "           id    tid1    tid2  \\\n",
              "0      256442  100672  100673   \n",
              "1      256443  162269  162270   \n",
              "2      256444  157826  157854   \n",
              "3      256445  109579   74076   \n",
              "4      256446   15068   15085   \n",
              "...       ...     ...     ...   \n",
              "64105  320547   94862   94863   \n",
              "64106  320548    7451    7452   \n",
              "64107  320549  144163  144164   \n",
              "64108  320550   96842   96856   \n",
              "64109  320551  137151  132243   \n",
              "\n",
              "                                               title1_en  \\\n",
              "0      The great coat brother Zhu Zhu Wen, in the man...   \n",
              "1      NASA reveals facts about UFO wreckage found on...   \n",
              "2          The hollow tomatoes are loaded with hormones.   \n",
              "3      Ange Pavilion Geoshui: How accurate is Matrimo...   \n",
              "4      A 50-year-old bus-bus blows up an 8-year-old c...   \n",
              "...                                                  ...   \n",
              "64105  The lead content of domestic faucet exceeds th...   \n",
              "64106  In 2018, the household registration system has...   \n",
              "64107  Onion can not be eaten with this, serious also...   \n",
              "64108  Grass-root teacher salaries, the last increase...   \n",
              "64109  Li Weijia Weeping, Crying, Drugs? Sick? See ho...   \n",
              "\n",
              "                                               title2_en  \n",
              "0      Lin xinsheng after the birth of \"hard milking,...  \n",
              "1      The UFO found in Yuancun, Jiaocheng County, Sh...  \n",
              "2      Li chenfan bingbing home photos, netizen: this...  \n",
              "3      Master one: the eight-character presumption of...  \n",
              "4      < i > Joe Johnson's disgruntled timing and ord...  \n",
              "...                                                  ...  \n",
              "64105  The multi-brand faucet is overtaxed, who is en...  \n",
              "64106  In 2018, the household registration system wil...  \n",
              "64107  Onion can not eat with this, serious also can ...  \n",
              "64108  Teachers wage reform, there will be these thre...  \n",
              "64109  Li Weijia on the hot air, netizens: Li Weijia ...  \n",
              "\n",
              "[64110 rows x 5 columns]"
            ],
            "text/html": [
              "\n",
              "  <div id=\"df-de827a01-6cad-427e-9cc3-03a4f53de45e\">\n",
              "    <div class=\"colab-df-container\">\n",
              "      <div>\n",
              "<style scoped>\n",
              "    .dataframe tbody tr th:only-of-type {\n",
              "        vertical-align: middle;\n",
              "    }\n",
              "\n",
              "    .dataframe tbody tr th {\n",
              "        vertical-align: top;\n",
              "    }\n",
              "\n",
              "    .dataframe thead th {\n",
              "        text-align: right;\n",
              "    }\n",
              "</style>\n",
              "<table border=\"1\" class=\"dataframe\">\n",
              "  <thead>\n",
              "    <tr style=\"text-align: right;\">\n",
              "      <th></th>\n",
              "      <th>id</th>\n",
              "      <th>tid1</th>\n",
              "      <th>tid2</th>\n",
              "      <th>title1_en</th>\n",
              "      <th>title2_en</th>\n",
              "    </tr>\n",
              "  </thead>\n",
              "  <tbody>\n",
              "    <tr>\n",
              "      <th>0</th>\n",
              "      <td>256442</td>\n",
              "      <td>100672</td>\n",
              "      <td>100673</td>\n",
              "      <td>The great coat brother Zhu Zhu Wen, in the man...</td>\n",
              "      <td>Lin xinsheng after the birth of \"hard milking,...</td>\n",
              "    </tr>\n",
              "    <tr>\n",
              "      <th>1</th>\n",
              "      <td>256443</td>\n",
              "      <td>162269</td>\n",
              "      <td>162270</td>\n",
              "      <td>NASA reveals facts about UFO wreckage found on...</td>\n",
              "      <td>The UFO found in Yuancun, Jiaocheng County, Sh...</td>\n",
              "    </tr>\n",
              "    <tr>\n",
              "      <th>2</th>\n",
              "      <td>256444</td>\n",
              "      <td>157826</td>\n",
              "      <td>157854</td>\n",
              "      <td>The hollow tomatoes are loaded with hormones.</td>\n",
              "      <td>Li chenfan bingbing home photos, netizen: this...</td>\n",
              "    </tr>\n",
              "    <tr>\n",
              "      <th>3</th>\n",
              "      <td>256445</td>\n",
              "      <td>109579</td>\n",
              "      <td>74076</td>\n",
              "      <td>Ange Pavilion Geoshui: How accurate is Matrimo...</td>\n",
              "      <td>Master one: the eight-character presumption of...</td>\n",
              "    </tr>\n",
              "    <tr>\n",
              "      <th>4</th>\n",
              "      <td>256446</td>\n",
              "      <td>15068</td>\n",
              "      <td>15085</td>\n",
              "      <td>A 50-year-old bus-bus blows up an 8-year-old c...</td>\n",
              "      <td>&lt; i &gt; Joe Johnson's disgruntled timing and ord...</td>\n",
              "    </tr>\n",
              "    <tr>\n",
              "      <th>...</th>\n",
              "      <td>...</td>\n",
              "      <td>...</td>\n",
              "      <td>...</td>\n",
              "      <td>...</td>\n",
              "      <td>...</td>\n",
              "    </tr>\n",
              "    <tr>\n",
              "      <th>64105</th>\n",
              "      <td>320547</td>\n",
              "      <td>94862</td>\n",
              "      <td>94863</td>\n",
              "      <td>The lead content of domestic faucet exceeds th...</td>\n",
              "      <td>The multi-brand faucet is overtaxed, who is en...</td>\n",
              "    </tr>\n",
              "    <tr>\n",
              "      <th>64106</th>\n",
              "      <td>320548</td>\n",
              "      <td>7451</td>\n",
              "      <td>7452</td>\n",
              "      <td>In 2018, the household registration system has...</td>\n",
              "      <td>In 2018, the household registration system wil...</td>\n",
              "    </tr>\n",
              "    <tr>\n",
              "      <th>64107</th>\n",
              "      <td>320549</td>\n",
              "      <td>144163</td>\n",
              "      <td>144164</td>\n",
              "      <td>Onion can not be eaten with this, serious also...</td>\n",
              "      <td>Onion can not eat with this, serious also can ...</td>\n",
              "    </tr>\n",
              "    <tr>\n",
              "      <th>64108</th>\n",
              "      <td>320550</td>\n",
              "      <td>96842</td>\n",
              "      <td>96856</td>\n",
              "      <td>Grass-root teacher salaries, the last increase...</td>\n",
              "      <td>Teachers wage reform, there will be these thre...</td>\n",
              "    </tr>\n",
              "    <tr>\n",
              "      <th>64109</th>\n",
              "      <td>320551</td>\n",
              "      <td>137151</td>\n",
              "      <td>132243</td>\n",
              "      <td>Li Weijia Weeping, Crying, Drugs? Sick? See ho...</td>\n",
              "      <td>Li Weijia on the hot air, netizens: Li Weijia ...</td>\n",
              "    </tr>\n",
              "  </tbody>\n",
              "</table>\n",
              "<p>64110 rows × 5 columns</p>\n",
              "</div>\n",
              "      <button class=\"colab-df-convert\" onclick=\"convertToInteractive('df-de827a01-6cad-427e-9cc3-03a4f53de45e')\"\n",
              "              title=\"Convert this dataframe to an interactive table.\"\n",
              "              style=\"display:none;\">\n",
              "        \n",
              "  <svg xmlns=\"http://www.w3.org/2000/svg\" height=\"24px\"viewBox=\"0 0 24 24\"\n",
              "       width=\"24px\">\n",
              "    <path d=\"M0 0h24v24H0V0z\" fill=\"none\"/>\n",
              "    <path d=\"M18.56 5.44l.94 2.06.94-2.06 2.06-.94-2.06-.94-.94-2.06-.94 2.06-2.06.94zm-11 1L8.5 8.5l.94-2.06 2.06-.94-2.06-.94L8.5 2.5l-.94 2.06-2.06.94zm10 10l.94 2.06.94-2.06 2.06-.94-2.06-.94-.94-2.06-.94 2.06-2.06.94z\"/><path d=\"M17.41 7.96l-1.37-1.37c-.4-.4-.92-.59-1.43-.59-.52 0-1.04.2-1.43.59L10.3 9.45l-7.72 7.72c-.78.78-.78 2.05 0 2.83L4 21.41c.39.39.9.59 1.41.59.51 0 1.02-.2 1.41-.59l7.78-7.78 2.81-2.81c.8-.78.8-2.07 0-2.86zM5.41 20L4 18.59l7.72-7.72 1.47 1.35L5.41 20z\"/>\n",
              "  </svg>\n",
              "      </button>\n",
              "      \n",
              "  <style>\n",
              "    .colab-df-container {\n",
              "      display:flex;\n",
              "      flex-wrap:wrap;\n",
              "      gap: 12px;\n",
              "    }\n",
              "\n",
              "    .colab-df-convert {\n",
              "      background-color: #E8F0FE;\n",
              "      border: none;\n",
              "      border-radius: 50%;\n",
              "      cursor: pointer;\n",
              "      display: none;\n",
              "      fill: #1967D2;\n",
              "      height: 32px;\n",
              "      padding: 0 0 0 0;\n",
              "      width: 32px;\n",
              "    }\n",
              "\n",
              "    .colab-df-convert:hover {\n",
              "      background-color: #E2EBFA;\n",
              "      box-shadow: 0px 1px 2px rgba(60, 64, 67, 0.3), 0px 1px 3px 1px rgba(60, 64, 67, 0.15);\n",
              "      fill: #174EA6;\n",
              "    }\n",
              "\n",
              "    [theme=dark] .colab-df-convert {\n",
              "      background-color: #3B4455;\n",
              "      fill: #D2E3FC;\n",
              "    }\n",
              "\n",
              "    [theme=dark] .colab-df-convert:hover {\n",
              "      background-color: #434B5C;\n",
              "      box-shadow: 0px 1px 3px 1px rgba(0, 0, 0, 0.15);\n",
              "      filter: drop-shadow(0px 1px 2px rgba(0, 0, 0, 0.3));\n",
              "      fill: #FFFFFF;\n",
              "    }\n",
              "  </style>\n",
              "\n",
              "      <script>\n",
              "        const buttonEl =\n",
              "          document.querySelector('#df-de827a01-6cad-427e-9cc3-03a4f53de45e button.colab-df-convert');\n",
              "        buttonEl.style.display =\n",
              "          google.colab.kernel.accessAllowed ? 'block' : 'none';\n",
              "\n",
              "        async function convertToInteractive(key) {\n",
              "          const element = document.querySelector('#df-de827a01-6cad-427e-9cc3-03a4f53de45e');\n",
              "          const dataTable =\n",
              "            await google.colab.kernel.invokeFunction('convertToInteractive',\n",
              "                                                     [key], {});\n",
              "          if (!dataTable) return;\n",
              "\n",
              "          const docLinkHtml = 'Like what you see? Visit the ' +\n",
              "            '<a target=\"_blank\" href=https://colab.research.google.com/notebooks/data_table.ipynb>data table notebook</a>'\n",
              "            + ' to learn more about interactive tables.';\n",
              "          element.innerHTML = '';\n",
              "          dataTable['output_type'] = 'display_data';\n",
              "          await google.colab.output.renderOutput(dataTable, element);\n",
              "          const docLink = document.createElement('div');\n",
              "          docLink.innerHTML = docLinkHtml;\n",
              "          element.appendChild(docLink);\n",
              "        }\n",
              "      </script>\n",
              "    </div>\n",
              "  </div>\n",
              "  "
            ]
          },
          "metadata": {},
          "execution_count": 4
        }
      ],
      "source": [
        "#import test data\n",
        "fake_test = pd.read_csv(\"test.csv\",header=0,doublequote=True, engine=None)\n",
        "len(fake_test)\n",
        "fake_test"
      ]
    },
    {
      "cell_type": "code",
      "execution_count": null,
      "metadata": {
        "id": "RUMC6pyTVO70"
      },
      "outputs": [],
      "source": [
        "# import imblearn\n",
        "from collections import Counter\n",
        "from matplotlib import pyplot\n",
        "from sklearn.preprocessing import LabelEncoder"
      ]
    },
    {
      "cell_type": "code",
      "execution_count": null,
      "metadata": {
        "colab": {
          "base_uri": "https://localhost:8080/",
          "height": 317
        },
        "id": "DfQvqluQVenN",
        "outputId": "cb6154e9-cefd-4a17-af86-3ed0832c6a9b"
      },
      "outputs": [
        {
          "output_type": "stream",
          "name": "stdout",
          "text": [
            "Class=2, n=175598 (68.475%)\n",
            "Class=0, n=74238 (28.949%)\n",
            "Class=1, n=6606 (2.576%)\n"
          ]
        },
        {
          "output_type": "display_data",
          "data": {
            "text/plain": [
              "<Figure size 432x288 with 1 Axes>"
            ],
            "image/png": "[encoded data removed]"
          },
          "metadata": {
            "needs_background": "light"
          }
        }
      ],
      "source": [
        "fake_data = fake.values\n",
        "# split into input and output elements\n",
        "X, y = fake_data[:, :-1], fake_data[:, -1]\n",
        "# label encode the target variable\n",
        "y = LabelEncoder().fit_transform(y)\n",
        "# summarize distribution\n",
        "counter = Counter(y)\n",
        "for k,v in counter.items():\n",
        "\tper = v / len(y) * 100\n",
        "\tprint('Class=%d, n=%d (%.3f%%)' % (k, v, per))\n",
        "# plot the distribution\n",
        "pyplot.bar(counter.keys(), counter.values())\n",
        "pyplot.show()"
      ]
    },
    {
      "cell_type": "code",
      "execution_count": null,
      "metadata": {
        "colab": {
          "base_uri": "https://localhost:8080/",
          "height": 423
        },
        "id": "h2G4w7d0RbKt",
        "outputId": "e8aa9e06-b124-48e2-8a58-d6ba9daf26a1"
      },
      "outputs": [
        {
          "output_type": "execute_result",
          "data": {
            "text/plain": [
              "           id   tid1   tid2  title1_en  title2_en  label\n",
              "0       False  False  False      False      False  False\n",
              "1       False  False  False      False      False  False\n",
              "2       False  False  False      False      False  False\n",
              "3       False  False  False      False      False  False\n",
              "4       False  False  False      False      False  False\n",
              "...       ...    ...    ...        ...        ...    ...\n",
              "256437  False  False  False      False      False  False\n",
              "256438  False  False  False      False      False  False\n",
              "256439  False  False  False      False      False  False\n",
              "256440  False  False  False      False      False  False\n",
              "256441  False  False  False      False      False  False\n",
              "\n",
              "[256442 rows x 6 columns]"
            ],
            "text/html": [
              "\n",
              "  <div id=\"df-625114a3-974c-4160-be8b-db144736fd6f\">\n",
              "    <div class=\"colab-df-container\">\n",
              "      <div>\n",
              "<style scoped>\n",
              "    .dataframe tbody tr th:only-of-type {\n",
              "        vertical-align: middle;\n",
              "    }\n",
              "\n",
              "    .dataframe tbody tr th {\n",
              "        vertical-align: top;\n",
              "    }\n",
              "\n",
              "    .dataframe thead th {\n",
              "        text-align: right;\n",
              "    }\n",
              "</style>\n",
              "<table border=\"1\" class=\"dataframe\">\n",
              "  <thead>\n",
              "    <tr style=\"text-align: right;\">\n",
              "      <th></th>\n",
              "      <th>id</th>\n",
              "      <th>tid1</th>\n",
              "      <th>tid2</th>\n",
              "      <th>title1_en</th>\n",
              "      <th>title2_en</th>\n",
              "      <th>label</th>\n",
              "    </tr>\n",
              "  </thead>\n",
              "  <tbody>\n",
              "    <tr>\n",
              "      <th>0</th>\n",
              "      <td>False</td>\n",
              "      <td>False</td>\n",
              "      <td>False</td>\n",
              "      <td>False</td>\n",
              "      <td>False</td>\n",
              "      <td>False</td>\n",
              "    </tr>\n",
              "    <tr>\n",
              "      <th>1</th>\n",
              "      <td>False</td>\n",
              "      <td>False</td>\n",
              "      <td>False</td>\n",
              "      <td>False</td>\n",
              "      <td>False</td>\n",
              "      <td>False</td>\n",
              "    </tr>\n",
              "    <tr>\n",
              "      <th>2</th>\n",
              "      <td>False</td>\n",
              "      <td>False</td>\n",
              "      <td>False</td>\n",
              "      <td>False</td>\n",
              "      <td>False</td>\n",
              "      <td>False</td>\n",
              "    </tr>\n",
              "    <tr>\n",
              "      <th>3</th>\n",
              "      <td>False</td>\n",
              "      <td>False</td>\n",
              "      <td>False</td>\n",
              "      <td>False</td>\n",
              "      <td>False</td>\n",
              "      <td>False</td>\n",
              "    </tr>\n",
              "    <tr>\n",
              "      <th>4</th>\n",
              "      <td>False</td>\n",
              "      <td>False</td>\n",
              "      <td>False</td>\n",
              "      <td>False</td>\n",
              "      <td>False</td>\n",
              "      <td>False</td>\n",
              "    </tr>\n",
              "    <tr>\n",
              "      <th>...</th>\n",
              "      <td>...</td>\n",
              "      <td>...</td>\n",
              "      <td>...</td>\n",
              "      <td>...</td>\n",
              "      <td>...</td>\n",
              "      <td>...</td>\n",
              "    </tr>\n",
              "    <tr>\n",
              "      <th>256437</th>\n",
              "      <td>False</td>\n",
              "      <td>False</td>\n",
              "      <td>False</td>\n",
              "      <td>False</td>\n",
              "      <td>False</td>\n",
              "      <td>False</td>\n",
              "    </tr>\n",
              "    <tr>\n",
              "      <th>256438</th>\n",
              "      <td>False</td>\n",
              "      <td>False</td>\n",
              "      <td>False</td>\n",
              "      <td>False</td>\n",
              "      <td>False</td>\n",
              "      <td>False</td>\n",
              "    </tr>\n",
              "    <tr>\n",
              "      <th>256439</th>\n",
              "      <td>False</td>\n",
              "      <td>False</td>\n",
              "      <td>False</td>\n",
              "      <td>False</td>\n",
              "      <td>False</td>\n",
              "      <td>False</td>\n",
              "    </tr>\n",
              "    <tr>\n",
              "      <th>256440</th>\n",
              "      <td>False</td>\n",
              "      <td>False</td>\n",
              "      <td>False</td>\n",
              "      <td>False</td>\n",
              "      <td>False</td>\n",
              "      <td>False</td>\n",
              "    </tr>\n",
              "    <tr>\n",
              "      <th>256441</th>\n",
              "      <td>False</td>\n",
              "      <td>False</td>\n",
              "      <td>False</td>\n",
              "      <td>False</td>\n",
              "      <td>False</td>\n",
              "      <td>False</td>\n",
              "    </tr>\n",
              "  </tbody>\n",
              "</table>\n",
              "<p>256442 rows × 6 columns</p>\n",
              "</div>\n",
              "      <button class=\"colab-df-convert\" onclick=\"convertToInteractive('df-625114a3-974c-4160-be8b-db144736fd6f')\"\n",
              "              title=\"Convert this dataframe to an interactive table.\"\n",
              "              style=\"display:none;\">\n",
              "        \n",
              "  <svg xmlns=\"http://www.w3.org/2000/svg\" height=\"24px\"viewBox=\"0 0 24 24\"\n",
              "       width=\"24px\">\n",
              "    <path d=\"M0 0h24v24H0V0z\" fill=\"none\"/>\n",
              "    <path d=\"M18.56 5.44l.94 2.06.94-2.06 2.06-.94-2.06-.94-.94-2.06-.94 2.06-2.06.94zm-11 1L8.5 8.5l.94-2.06 2.06-.94-2.06-.94L8.5 2.5l-.94 2.06-2.06.94zm10 10l.94 2.06.94-2.06 2.06-.94-2.06-.94-.94-2.06-.94 2.06-2.06.94z\"/><path d=\"M17.41 7.96l-1.37-1.37c-.4-.4-.92-.59-1.43-.59-.52 0-1.04.2-1.43.59L10.3 9.45l-7.72 7.72c-.78.78-.78 2.05 0 2.83L4 21.41c.39.39.9.59 1.41.59.51 0 1.02-.2 1.41-.59l7.78-7.78 2.81-2.81c.8-.78.8-2.07 0-2.86zM5.41 20L4 18.59l7.72-7.72 1.47 1.35L5.41 20z\"/>\n",
              "  </svg>\n",
              "      </button>\n",
              "      \n",
              "  <style>\n",
              "    .colab-df-container {\n",
              "      display:flex;\n",
              "      flex-wrap:wrap;\n",
              "      gap: 12px;\n",
              "    }\n",
              "\n",
              "    .colab-df-convert {\n",
              "      background-color: #E8F0FE;\n",
              "      border: none;\n",
              "      border-radius: 50%;\n",
              "      cursor: pointer;\n",
              "      display: none;\n",
              "      fill: #1967D2;\n",
              "      height: 32px;\n",
              "      padding: 0 0 0 0;\n",
              "      width: 32px;\n",
              "    }\n",
              "\n",
              "    .colab-df-convert:hover {\n",
              "      background-color: #E2EBFA;\n",
              "      box-shadow: 0px 1px 2px rgba(60, 64, 67, 0.3), 0px 1px 3px 1px rgba(60, 64, 67, 0.15);\n",
              "      fill: #174EA6;\n",
              "    }\n",
              "\n",
              "    [theme=dark] .colab-df-convert {\n",
              "      background-color: #3B4455;\n",
              "      fill: #D2E3FC;\n",
              "    }\n",
              "\n",
              "    [theme=dark] .colab-df-convert:hover {\n",
              "      background-color: #434B5C;\n",
              "      box-shadow: 0px 1px 3px 1px rgba(0, 0, 0, 0.15);\n",
              "      filter: drop-shadow(0px 1px 2px rgba(0, 0, 0, 0.3));\n",
              "      fill: #FFFFFF;\n",
              "    }\n",
              "  </style>\n",
              "\n",
              "      <script>\n",
              "        const buttonEl =\n",
              "          document.querySelector('#df-625114a3-974c-4160-be8b-db144736fd6f button.colab-df-convert');\n",
              "        buttonEl.style.display =\n",
              "          google.colab.kernel.accessAllowed ? 'block' : 'none';\n",
              "\n",
              "        async function convertToInteractive(key) {\n",
              "          const element = document.querySelector('#df-625114a3-974c-4160-be8b-db144736fd6f');\n",
              "          const dataTable =\n",
              "            await google.colab.kernel.invokeFunction('convertToInteractive',\n",
              "                                                     [key], {});\n",
              "          if (!dataTable) return;\n",
              "\n",
              "          const docLinkHtml = 'Like what you see? Visit the ' +\n",
              "            '<a target=\"_blank\" href=https://colab.research.google.com/notebooks/data_table.ipynb>data table notebook</a>'\n",
              "            + ' to learn more about interactive tables.';\n",
              "          element.innerHTML = '';\n",
              "          dataTable['output_type'] = 'display_data';\n",
              "          await google.colab.output.renderOutput(dataTable, element);\n",
              "          const docLink = document.createElement('div');\n",
              "          docLink.innerHTML = docLinkHtml;\n",
              "          element.appendChild(docLink);\n",
              "        }\n",
              "      </script>\n",
              "    </div>\n",
              "  </div>\n",
              "  "
            ]
          },
          "metadata": {},
          "execution_count": 7
        }
      ],
      "source": [
        "fake.isna()"
      ]
    },
    {
      "cell_type": "code",
      "execution_count": null,
      "metadata": {
        "colab": {
          "base_uri": "https://localhost:8080/",
          "height": 423
        },
        "id": "OEyBJNn8__QI",
        "outputId": "0438b550-bd4e-402b-9e6c-d975c5af5da1"
      },
      "outputs": [
        {
          "output_type": "execute_result",
          "data": {
            "text/plain": [
              "          id   tid1   tid2  title1_en  title2_en\n",
              "0      False  False  False      False      False\n",
              "1      False  False  False      False      False\n",
              "2      False  False  False      False      False\n",
              "3      False  False  False      False      False\n",
              "4      False  False  False      False      False\n",
              "...      ...    ...    ...        ...        ...\n",
              "64105  False  False  False      False      False\n",
              "64106  False  False  False      False      False\n",
              "64107  False  False  False      False      False\n",
              "64108  False  False  False      False      False\n",
              "64109  False  False  False      False      False\n",
              "\n",
              "[64110 rows x 5 columns]"
            ],
            "text/html": [
              "\n",
              "  <div id=\"df-464115c2-3446-42af-bb3e-6b1cbdc2a5d4\">\n",
              "    <div class=\"colab-df-container\">\n",
              "      <div>\n",
              "<style scoped>\n",
              "    .dataframe tbody tr th:only-of-type {\n",
              "        vertical-align: middle;\n",
              "    }\n",
              "\n",
              "    .dataframe tbody tr th {\n",
              "        vertical-align: top;\n",
              "    }\n",
              "\n",
              "    .dataframe thead th {\n",
              "        text-align: right;\n",
              "    }\n",
              "</style>\n",
              "<table border=\"1\" class=\"dataframe\">\n",
              "  <thead>\n",
              "    <tr style=\"text-align: right;\">\n",
              "      <th></th>\n",
              "      <th>id</th>\n",
              "      <th>tid1</th>\n",
              "      <th>tid2</th>\n",
              "      <th>title1_en</th>\n",
              "      <th>title2_en</th>\n",
              "    </tr>\n",
              "  </thead>\n",
              "  <tbody>\n",
              "    <tr>\n",
              "      <th>0</th>\n",
              "      <td>False</td>\n",
              "      <td>False</td>\n",
              "      <td>False</td>\n",
              "      <td>False</td>\n",
              "      <td>False</td>\n",
              "    </tr>\n",
              "    <tr>\n",
              "      <th>1</th>\n",
              "      <td>False</td>\n",
              "      <td>False</td>\n",
              "      <td>False</td>\n",
              "      <td>False</td>\n",
              "      <td>False</td>\n",
              "    </tr>\n",
              "    <tr>\n",
              "      <th>2</th>\n",
              "      <td>False</td>\n",
              "      <td>False</td>\n",
              "      <td>False</td>\n",
              "      <td>False</td>\n",
              "      <td>False</td>\n",
              "    </tr>\n",
              "    <tr>\n",
              "      <th>3</th>\n",
              "      <td>False</td>\n",
              "      <td>False</td>\n",
              "      <td>False</td>\n",
              "      <td>False</td>\n",
              "      <td>False</td>\n",
              "    </tr>\n",
              "    <tr>\n",
              "      <th>4</th>\n",
              "      <td>False</td>\n",
              "      <td>False</td>\n",
              "      <td>False</td>\n",
              "      <td>False</td>\n",
              "      <td>False</td>\n",
              "    </tr>\n",
              "    <tr>\n",
              "      <th>...</th>\n",
              "      <td>...</td>\n",
              "      <td>...</td>\n",
              "      <td>...</td>\n",
              "      <td>...</td>\n",
              "      <td>...</td>\n",
              "    </tr>\n",
              "    <tr>\n",
              "      <th>64105</th>\n",
              "      <td>False</td>\n",
              "      <td>False</td>\n",
              "      <td>False</td>\n",
              "      <td>False</td>\n",
              "      <td>False</td>\n",
              "    </tr>\n",
              "    <tr>\n",
              "      <th>64106</th>\n",
              "      <td>False</td>\n",
              "      <td>False</td>\n",
              "      <td>False</td>\n",
              "      <td>False</td>\n",
              "      <td>False</td>\n",
              "    </tr>\n",
              "    <tr>\n",
              "      <th>64107</th>\n",
              "      <td>False</td>\n",
              "      <td>False</td>\n",
              "      <td>False</td>\n",
              "      <td>False</td>\n",
              "      <td>False</td>\n",
              "    </tr>\n",
              "    <tr>\n",
              "      <th>64108</th>\n",
              "      <td>False</td>\n",
              "      <td>False</td>\n",
              "      <td>False</td>\n",
              "      <td>False</td>\n",
              "      <td>False</td>\n",
              "    </tr>\n",
              "    <tr>\n",
              "      <th>64109</th>\n",
              "      <td>False</td>\n",
              "      <td>False</td>\n",
              "      <td>False</td>\n",
              "      <td>False</td>\n",
              "      <td>False</td>\n",
              "    </tr>\n",
              "  </tbody>\n",
              "</table>\n",
              "<p>64110 rows × 5 columns</p>\n",
              "</div>\n",
              "      <button class=\"colab-df-convert\" onclick=\"convertToInteractive('df-464115c2-3446-42af-bb3e-6b1cbdc2a5d4')\"\n",
              "              title=\"Convert this dataframe to an interactive table.\"\n",
              "              style=\"display:none;\">\n",
              "        \n",
              "  <svg xmlns=\"http://www.w3.org/2000/svg\" height=\"24px\"viewBox=\"0 0 24 24\"\n",
              "       width=\"24px\">\n",
              "    <path d=\"M0 0h24v24H0V0z\" fill=\"none\"/>\n",
              "    <path d=\"M18.56 5.44l.94 2.06.94-2.06 2.06-.94-2.06-.94-.94-2.06-.94 2.06-2.06.94zm-11 1L8.5 8.5l.94-2.06 2.06-.94-2.06-.94L8.5 2.5l-.94 2.06-2.06.94zm10 10l.94 2.06.94-2.06 2.06-.94-2.06-.94-.94-2.06-.94 2.06-2.06.94z\"/><path d=\"M17.41 7.96l-1.37-1.37c-.4-.4-.92-.59-1.43-.59-.52 0-1.04.2-1.43.59L10.3 9.45l-7.72 7.72c-.78.78-.78 2.05 0 2.83L4 21.41c.39.39.9.59 1.41.59.51 0 1.02-.2 1.41-.59l7.78-7.78 2.81-2.81c.8-.78.8-2.07 0-2.86zM5.41 20L4 18.59l7.72-7.72 1.47 1.35L5.41 20z\"/>\n",
              "  </svg>\n",
              "      </button>\n",
              "      \n",
              "  <style>\n",
              "    .colab-df-container {\n",
              "      display:flex;\n",
              "      flex-wrap:wrap;\n",
              "      gap: 12px;\n",
              "    }\n",
              "\n",
              "    .colab-df-convert {\n",
              "      background-color: #E8F0FE;\n",
              "      border: none;\n",
              "      border-radius: 50%;\n",
              "      cursor: pointer;\n",
              "      display: none;\n",
              "      fill: #1967D2;\n",
              "      height: 32px;\n",
              "      padding: 0 0 0 0;\n",
              "      width: 32px;\n",
              "    }\n",
              "\n",
              "    .colab-df-convert:hover {\n",
              "      background-color: #E2EBFA;\n",
              "      box-shadow: 0px 1px 2px rgba(60, 64, 67, 0.3), 0px 1px 3px 1px rgba(60, 64, 67, 0.15);\n",
              "      fill: #174EA6;\n",
              "    }\n",
              "\n",
              "    [theme=dark] .colab-df-convert {\n",
              "      background-color: #3B4455;\n",
              "      fill: #D2E3FC;\n",
              "    }\n",
              "\n",
              "    [theme=dark] .colab-df-convert:hover {\n",
              "      background-color: #434B5C;\n",
              "      box-shadow: 0px 1px 3px 1px rgba(0, 0, 0, 0.15);\n",
              "      filter: drop-shadow(0px 1px 2px rgba(0, 0, 0, 0.3));\n",
              "      fill: #FFFFFF;\n",
              "    }\n",
              "  </style>\n",
              "\n",
              "      <script>\n",
              "        const buttonEl =\n",
              "          document.querySelector('#df-464115c2-3446-42af-bb3e-6b1cbdc2a5d4 button.colab-df-convert');\n",
              "        buttonEl.style.display =\n",
              "          google.colab.kernel.accessAllowed ? 'block' : 'none';\n",
              "\n",
              "        async function convertToInteractive(key) {\n",
              "          const element = document.querySelector('#df-464115c2-3446-42af-bb3e-6b1cbdc2a5d4');\n",
              "          const dataTable =\n",
              "            await google.colab.kernel.invokeFunction('convertToInteractive',\n",
              "                                                     [key], {});\n",
              "          if (!dataTable) return;\n",
              "\n",
              "          const docLinkHtml = 'Like what you see? Visit the ' +\n",
              "            '<a target=\"_blank\" href=https://colab.research.google.com/notebooks/data_table.ipynb>data table notebook</a>'\n",
              "            + ' to learn more about interactive tables.';\n",
              "          element.innerHTML = '';\n",
              "          dataTable['output_type'] = 'display_data';\n",
              "          await google.colab.output.renderOutput(dataTable, element);\n",
              "          const docLink = document.createElement('div');\n",
              "          docLink.innerHTML = docLinkHtml;\n",
              "          element.appendChild(docLink);\n",
              "        }\n",
              "      </script>\n",
              "    </div>\n",
              "  </div>\n",
              "  "
            ]
          },
          "metadata": {},
          "execution_count": 8
        }
      ],
      "source": [
        "fake_test.isna()"
      ]
    },
    {
      "cell_type": "code",
      "execution_count": null,
      "metadata": {
        "colab": {
          "base_uri": "https://localhost:8080/",
          "height": 423
        },
        "id": "IuFbnJa2RfBq",
        "outputId": "689112e9-607a-44d0-def9-a4208333953d"
      },
      "outputs": [
        {
          "output_type": "execute_result",
          "data": {
            "text/plain": [
              "          id  tid1  tid2  title1_en  title2_en  label\n",
              "0       True  True  True       True       True   True\n",
              "1       True  True  True       True       True   True\n",
              "2       True  True  True       True       True   True\n",
              "3       True  True  True       True       True   True\n",
              "4       True  True  True       True       True   True\n",
              "...      ...   ...   ...        ...        ...    ...\n",
              "256437  True  True  True       True       True   True\n",
              "256438  True  True  True       True       True   True\n",
              "256439  True  True  True       True       True   True\n",
              "256440  True  True  True       True       True   True\n",
              "256441  True  True  True       True       True   True\n",
              "\n",
              "[256442 rows x 6 columns]"
            ],
            "text/html": [
              "\n",
              "  <div id=\"df-eb622c8c-5494-4394-8f5f-273e8c3879ec\">\n",
              "    <div class=\"colab-df-container\">\n",
              "      <div>\n",
              "<style scoped>\n",
              "    .dataframe tbody tr th:only-of-type {\n",
              "        vertical-align: middle;\n",
              "    }\n",
              "\n",
              "    .dataframe tbody tr th {\n",
              "        vertical-align: top;\n",
              "    }\n",
              "\n",
              "    .dataframe thead th {\n",
              "        text-align: right;\n",
              "    }\n",
              "</style>\n",
              "<table border=\"1\" class=\"dataframe\">\n",
              "  <thead>\n",
              "    <tr style=\"text-align: right;\">\n",
              "      <th></th>\n",
              "      <th>id</th>\n",
              "      <th>tid1</th>\n",
              "      <th>tid2</th>\n",
              "      <th>title1_en</th>\n",
              "      <th>title2_en</th>\n",
              "      <th>label</th>\n",
              "    </tr>\n",
              "  </thead>\n",
              "  <tbody>\n",
              "    <tr>\n",
              "      <th>0</th>\n",
              "      <td>True</td>\n",
              "      <td>True</td>\n",
              "      <td>True</td>\n",
              "      <td>True</td>\n",
              "      <td>True</td>\n",
              "      <td>True</td>\n",
              "    </tr>\n",
              "    <tr>\n",
              "      <th>1</th>\n",
              "      <td>True</td>\n",
              "      <td>True</td>\n",
              "      <td>True</td>\n",
              "      <td>True</td>\n",
              "      <td>True</td>\n",
              "      <td>True</td>\n",
              "    </tr>\n",
              "    <tr>\n",
              "      <th>2</th>\n",
              "      <td>True</td>\n",
              "      <td>True</td>\n",
              "      <td>True</td>\n",
              "      <td>True</td>\n",
              "      <td>True</td>\n",
              "      <td>True</td>\n",
              "    </tr>\n",
              "    <tr>\n",
              "      <th>3</th>\n",
              "      <td>True</td>\n",
              "      <td>True</td>\n",
              "      <td>True</td>\n",
              "      <td>True</td>\n",
              "      <td>True</td>\n",
              "      <td>True</td>\n",
              "    </tr>\n",
              "    <tr>\n",
              "      <th>4</th>\n",
              "      <td>True</td>\n",
              "      <td>True</td>\n",
              "      <td>True</td>\n",
              "      <td>True</td>\n",
              "      <td>True</td>\n",
              "      <td>True</td>\n",
              "    </tr>\n",
              "    <tr>\n",
              "      <th>...</th>\n",
              "      <td>...</td>\n",
              "      <td>...</td>\n",
              "      <td>...</td>\n",
              "      <td>...</td>\n",
              "      <td>...</td>\n",
              "      <td>...</td>\n",
              "    </tr>\n",
              "    <tr>\n",
              "      <th>256437</th>\n",
              "      <td>True</td>\n",
              "      <td>True</td>\n",
              "      <td>True</td>\n",
              "      <td>True</td>\n",
              "      <td>True</td>\n",
              "      <td>True</td>\n",
              "    </tr>\n",
              "    <tr>\n",
              "      <th>256438</th>\n",
              "      <td>True</td>\n",
              "      <td>True</td>\n",
              "      <td>True</td>\n",
              "      <td>True</td>\n",
              "      <td>True</td>\n",
              "      <td>True</td>\n",
              "    </tr>\n",
              "    <tr>\n",
              "      <th>256439</th>\n",
              "      <td>True</td>\n",
              "      <td>True</td>\n",
              "      <td>True</td>\n",
              "      <td>True</td>\n",
              "      <td>True</td>\n",
              "      <td>True</td>\n",
              "    </tr>\n",
              "    <tr>\n",
              "      <th>256440</th>\n",
              "      <td>True</td>\n",
              "      <td>True</td>\n",
              "      <td>True</td>\n",
              "      <td>True</td>\n",
              "      <td>True</td>\n",
              "      <td>True</td>\n",
              "    </tr>\n",
              "    <tr>\n",
              "      <th>256441</th>\n",
              "      <td>True</td>\n",
              "      <td>True</td>\n",
              "      <td>True</td>\n",
              "      <td>True</td>\n",
              "      <td>True</td>\n",
              "      <td>True</td>\n",
              "    </tr>\n",
              "  </tbody>\n",
              "</table>\n",
              "<p>256442 rows × 6 columns</p>\n",
              "</div>\n",
              "      <button class=\"colab-df-convert\" onclick=\"convertToInteractive('df-eb622c8c-5494-4394-8f5f-273e8c3879ec')\"\n",
              "              title=\"Convert this dataframe to an interactive table.\"\n",
              "              style=\"display:none;\">\n",
              "        \n",
              "  <svg xmlns=\"http://www.w3.org/2000/svg\" height=\"24px\"viewBox=\"0 0 24 24\"\n",
              "       width=\"24px\">\n",
              "    <path d=\"M0 0h24v24H0V0z\" fill=\"none\"/>\n",
              "    <path d=\"M18.56 5.44l.94 2.06.94-2.06 2.06-.94-2.06-.94-.94-2.06-.94 2.06-2.06.94zm-11 1L8.5 8.5l.94-2.06 2.06-.94-2.06-.94L8.5 2.5l-.94 2.06-2.06.94zm10 10l.94 2.06.94-2.06 2.06-.94-2.06-.94-.94-2.06-.94 2.06-2.06.94z\"/><path d=\"M17.41 7.96l-1.37-1.37c-.4-.4-.92-.59-1.43-.59-.52 0-1.04.2-1.43.59L10.3 9.45l-7.72 7.72c-.78.78-.78 2.05 0 2.83L4 21.41c.39.39.9.59 1.41.59.51 0 1.02-.2 1.41-.59l7.78-7.78 2.81-2.81c.8-.78.8-2.07 0-2.86zM5.41 20L4 18.59l7.72-7.72 1.47 1.35L5.41 20z\"/>\n",
              "  </svg>\n",
              "      </button>\n",
              "      \n",
              "  <style>\n",
              "    .colab-df-container {\n",
              "      display:flex;\n",
              "      flex-wrap:wrap;\n",
              "      gap: 12px;\n",
              "    }\n",
              "\n",
              "    .colab-df-convert {\n",
              "      background-color: #E8F0FE;\n",
              "      border: none;\n",
              "      border-radius: 50%;\n",
              "      cursor: pointer;\n",
              "      display: none;\n",
              "      fill: #1967D2;\n",
              "      height: 32px;\n",
              "      padding: 0 0 0 0;\n",
              "      width: 32px;\n",
              "    }\n",
              "\n",
              "    .colab-df-convert:hover {\n",
              "      background-color: #E2EBFA;\n",
              "      box-shadow: 0px 1px 2px rgba(60, 64, 67, 0.3), 0px 1px 3px 1px rgba(60, 64, 67, 0.15);\n",
              "      fill: #174EA6;\n",
              "    }\n",
              "\n",
              "    [theme=dark] .colab-df-convert {\n",
              "      background-color: #3B4455;\n",
              "      fill: #D2E3FC;\n",
              "    }\n",
              "\n",
              "    [theme=dark] .colab-df-convert:hover {\n",
              "      background-color: #434B5C;\n",
              "      box-shadow: 0px 1px 3px 1px rgba(0, 0, 0, 0.15);\n",
              "      filter: drop-shadow(0px 1px 2px rgba(0, 0, 0, 0.3));\n",
              "      fill: #FFFFFF;\n",
              "    }\n",
              "  </style>\n",
              "\n",
              "      <script>\n",
              "        const buttonEl =\n",
              "          document.querySelector('#df-eb622c8c-5494-4394-8f5f-273e8c3879ec button.colab-df-convert');\n",
              "        buttonEl.style.display =\n",
              "          google.colab.kernel.accessAllowed ? 'block' : 'none';\n",
              "\n",
              "        async function convertToInteractive(key) {\n",
              "          const element = document.querySelector('#df-eb622c8c-5494-4394-8f5f-273e8c3879ec');\n",
              "          const dataTable =\n",
              "            await google.colab.kernel.invokeFunction('convertToInteractive',\n",
              "                                                     [key], {});\n",
              "          if (!dataTable) return;\n",
              "\n",
              "          const docLinkHtml = 'Like what you see? Visit the ' +\n",
              "            '<a target=\"_blank\" href=https://colab.research.google.com/notebooks/data_table.ipynb>data table notebook</a>'\n",
              "            + ' to learn more about interactive tables.';\n",
              "          element.innerHTML = '';\n",
              "          dataTable['output_type'] = 'display_data';\n",
              "          await google.colab.output.renderOutput(dataTable, element);\n",
              "          const docLink = document.createElement('div');\n",
              "          docLink.innerHTML = docLinkHtml;\n",
              "          element.appendChild(docLink);\n",
              "        }\n",
              "      </script>\n",
              "    </div>\n",
              "  </div>\n",
              "  "
            ]
          },
          "metadata": {},
          "execution_count": 9
        }
      ],
      "source": [
        "fake.notnull()"
      ]
    },
    {
      "cell_type": "code",
      "execution_count": null,
      "metadata": {
        "colab": {
          "base_uri": "https://localhost:8080/",
          "height": 423
        },
        "id": "R13pBiCdADZC",
        "outputId": "35a29ef9-3044-43c2-d827-869dbf297765"
      },
      "outputs": [
        {
          "output_type": "execute_result",
          "data": {
            "text/plain": [
              "         id  tid1  tid2  title1_en  title2_en\n",
              "0      True  True  True       True       True\n",
              "1      True  True  True       True       True\n",
              "2      True  True  True       True       True\n",
              "3      True  True  True       True       True\n",
              "4      True  True  True       True       True\n",
              "...     ...   ...   ...        ...        ...\n",
              "64105  True  True  True       True       True\n",
              "64106  True  True  True       True       True\n",
              "64107  True  True  True       True       True\n",
              "64108  True  True  True       True       True\n",
              "64109  True  True  True       True       True\n",
              "\n",
              "[64110 rows x 5 columns]"
            ],
            "text/html": [
              "\n",
              "  <div id=\"df-30360597-f83e-4acf-8ab8-8789b4429ba3\">\n",
              "    <div class=\"colab-df-container\">\n",
              "      <div>\n",
              "<style scoped>\n",
              "    .dataframe tbody tr th:only-of-type {\n",
              "        vertical-align: middle;\n",
              "    }\n",
              "\n",
              "    .dataframe tbody tr th {\n",
              "        vertical-align: top;\n",
              "    }\n",
              "\n",
              "    .dataframe thead th {\n",
              "        text-align: right;\n",
              "    }\n",
              "</style>\n",
              "<table border=\"1\" class=\"dataframe\">\n",
              "  <thead>\n",
              "    <tr style=\"text-align: right;\">\n",
              "      <th></th>\n",
              "      <th>id</th>\n",
              "      <th>tid1</th>\n",
              "      <th>tid2</th>\n",
              "      <th>title1_en</th>\n",
              "      <th>title2_en</th>\n",
              "    </tr>\n",
              "  </thead>\n",
              "  <tbody>\n",
              "    <tr>\n",
              "      <th>0</th>\n",
              "      <td>True</td>\n",
              "      <td>True</td>\n",
              "      <td>True</td>\n",
              "      <td>True</td>\n",
              "      <td>True</td>\n",
              "    </tr>\n",
              "    <tr>\n",
              "      <th>1</th>\n",
              "      <td>True</td>\n",
              "      <td>True</td>\n",
              "      <td>True</td>\n",
              "      <td>True</td>\n",
              "      <td>True</td>\n",
              "    </tr>\n",
              "    <tr>\n",
              "      <th>2</th>\n",
              "      <td>True</td>\n",
              "      <td>True</td>\n",
              "      <td>True</td>\n",
              "      <td>True</td>\n",
              "      <td>True</td>\n",
              "    </tr>\n",
              "    <tr>\n",
              "      <th>3</th>\n",
              "      <td>True</td>\n",
              "      <td>True</td>\n",
              "      <td>True</td>\n",
              "      <td>True</td>\n",
              "      <td>True</td>\n",
              "    </tr>\n",
              "    <tr>\n",
              "      <th>4</th>\n",
              "      <td>True</td>\n",
              "      <td>True</td>\n",
              "      <td>True</td>\n",
              "      <td>True</td>\n",
              "      <td>True</td>\n",
              "    </tr>\n",
              "    <tr>\n",
              "      <th>...</th>\n",
              "      <td>...</td>\n",
              "      <td>...</td>\n",
              "      <td>...</td>\n",
              "      <td>...</td>\n",
              "      <td>...</td>\n",
              "    </tr>\n",
              "    <tr>\n",
              "      <th>64105</th>\n",
              "      <td>True</td>\n",
              "      <td>True</td>\n",
              "      <td>True</td>\n",
              "      <td>True</td>\n",
              "      <td>True</td>\n",
              "    </tr>\n",
              "    <tr>\n",
              "      <th>64106</th>\n",
              "      <td>True</td>\n",
              "      <td>True</td>\n",
              "      <td>True</td>\n",
              "      <td>True</td>\n",
              "      <td>True</td>\n",
              "    </tr>\n",
              "    <tr>\n",
              "      <th>64107</th>\n",
              "      <td>True</td>\n",
              "      <td>True</td>\n",
              "      <td>True</td>\n",
              "      <td>True</td>\n",
              "      <td>True</td>\n",
              "    </tr>\n",
              "    <tr>\n",
              "      <th>64108</th>\n",
              "      <td>True</td>\n",
              "      <td>True</td>\n",
              "      <td>True</td>\n",
              "      <td>True</td>\n",
              "      <td>True</td>\n",
              "    </tr>\n",
              "    <tr>\n",
              "      <th>64109</th>\n",
              "      <td>True</td>\n",
              "      <td>True</td>\n",
              "      <td>True</td>\n",
              "      <td>True</td>\n",
              "      <td>True</td>\n",
              "    </tr>\n",
              "  </tbody>\n",
              "</table>\n",
              "<p>64110 rows × 5 columns</p>\n",
              "</div>\n",
              "      <button class=\"colab-df-convert\" onclick=\"convertToInteractive('df-30360597-f83e-4acf-8ab8-8789b4429ba3')\"\n",
              "              title=\"Convert this dataframe to an interactive table.\"\n",
              "              style=\"display:none;\">\n",
              "        \n",
              "  <svg xmlns=\"http://www.w3.org/2000/svg\" height=\"24px\"viewBox=\"0 0 24 24\"\n",
              "       width=\"24px\">\n",
              "    <path d=\"M0 0h24v24H0V0z\" fill=\"none\"/>\n",
              "    <path d=\"M18.56 5.44l.94 2.06.94-2.06 2.06-.94-2.06-.94-.94-2.06-.94 2.06-2.06.94zm-11 1L8.5 8.5l.94-2.06 2.06-.94-2.06-.94L8.5 2.5l-.94 2.06-2.06.94zm10 10l.94 2.06.94-2.06 2.06-.94-2.06-.94-.94-2.06-.94 2.06-2.06.94z\"/><path d=\"M17.41 7.96l-1.37-1.37c-.4-.4-.92-.59-1.43-.59-.52 0-1.04.2-1.43.59L10.3 9.45l-7.72 7.72c-.78.78-.78 2.05 0 2.83L4 21.41c.39.39.9.59 1.41.59.51 0 1.02-.2 1.41-.59l7.78-7.78 2.81-2.81c.8-.78.8-2.07 0-2.86zM5.41 20L4 18.59l7.72-7.72 1.47 1.35L5.41 20z\"/>\n",
              "  </svg>\n",
              "      </button>\n",
              "      \n",
              "  <style>\n",
              "    .colab-df-container {\n",
              "      display:flex;\n",
              "      flex-wrap:wrap;\n",
              "      gap: 12px;\n",
              "    }\n",
              "\n",
              "    .colab-df-convert {\n",
              "      background-color: #E8F0FE;\n",
              "      border: none;\n",
              "      border-radius: 50%;\n",
              "      cursor: pointer;\n",
              "      display: none;\n",
              "      fill: #1967D2;\n",
              "      height: 32px;\n",
              "      padding: 0 0 0 0;\n",
              "      width: 32px;\n",
              "    }\n",
              "\n",
              "    .colab-df-convert:hover {\n",
              "      background-color: #E2EBFA;\n",
              "      box-shadow: 0px 1px 2px rgba(60, 64, 67, 0.3), 0px 1px 3px 1px rgba(60, 64, 67, 0.15);\n",
              "      fill: #174EA6;\n",
              "    }\n",
              "\n",
              "    [theme=dark] .colab-df-convert {\n",
              "      background-color: #3B4455;\n",
              "      fill: #D2E3FC;\n",
              "    }\n",
              "\n",
              "    [theme=dark] .colab-df-convert:hover {\n",
              "      background-color: #434B5C;\n",
              "      box-shadow: 0px 1px 3px 1px rgba(0, 0, 0, 0.15);\n",
              "      filter: drop-shadow(0px 1px 2px rgba(0, 0, 0, 0.3));\n",
              "      fill: #FFFFFF;\n",
              "    }\n",
              "  </style>\n",
              "\n",
              "      <script>\n",
              "        const buttonEl =\n",
              "          document.querySelector('#df-30360597-f83e-4acf-8ab8-8789b4429ba3 button.colab-df-convert');\n",
              "        buttonEl.style.display =\n",
              "          google.colab.kernel.accessAllowed ? 'block' : 'none';\n",
              "\n",
              "        async function convertToInteractive(key) {\n",
              "          const element = document.querySelector('#df-30360597-f83e-4acf-8ab8-8789b4429ba3');\n",
              "          const dataTable =\n",
              "            await google.colab.kernel.invokeFunction('convertToInteractive',\n",
              "                                                     [key], {});\n",
              "          if (!dataTable) return;\n",
              "\n",
              "          const docLinkHtml = 'Like what you see? Visit the ' +\n",
              "            '<a target=\"_blank\" href=https://colab.research.google.com/notebooks/data_table.ipynb>data table notebook</a>'\n",
              "            + ' to learn more about interactive tables.';\n",
              "          element.innerHTML = '';\n",
              "          dataTable['output_type'] = 'display_data';\n",
              "          await google.colab.output.renderOutput(dataTable, element);\n",
              "          const docLink = document.createElement('div');\n",
              "          docLink.innerHTML = docLinkHtml;\n",
              "          element.appendChild(docLink);\n",
              "        }\n",
              "      </script>\n",
              "    </div>\n",
              "  </div>\n",
              "  "
            ]
          },
          "metadata": {},
          "execution_count": 10
        }
      ],
      "source": [
        "fake_test.notnull()"
      ]
    },
    {
      "cell_type": "code",
      "execution_count": null,
      "metadata": {
        "colab": {
          "base_uri": "https://localhost:8080/"
        },
        "id": "EP3bfy7iE78i",
        "outputId": "a3ace021-d976-4b79-ab53-aedcc77d76b1"
      },
      "outputs": [
        {
          "output_type": "stream",
          "name": "stdout",
          "text": [
            "0         there are two new old-age insurance benefits f...\n",
            "1         \"if you do not come to shenzhen, sooner or lat...\n",
            "2         \"if you do not come to shenzhen, sooner or lat...\n",
            "3         \"if you do not come to shenzhen, sooner or lat...\n",
            "4         \"if you do not come to shenzhen, sooner or lat...\n",
            "                                ...                        \n",
            "256437    egypt 's presidential election failed to win m...\n",
            "256438    egypt 's presidential election failed to win m...\n",
            "256439    egypt 's presidential election failed to win m...\n",
            "256440    egypt 's presidential election failed to win m...\n",
            "256441    will the united states wage war on iraq withou...\n",
            "Name: title1_en, Length: 256442, dtype: object\n"
          ]
        }
      ],
      "source": [
        "#converting strings to lowercase\n",
        "#data['msg_lower']= data['clean_msg'].apply(lambda x: x.lower())\n",
        "fake[\"title1_en\"] = fake[\"title1_en\"].apply(lambda x: x.lower())\n",
        "fake[\"title2_en\"] = fake[\"title2_en\"].apply(lambda x: x.lower())\n",
        "print(fake[\"title1_en\"])"
      ]
    },
    {
      "cell_type": "code",
      "execution_count": null,
      "metadata": {
        "colab": {
          "base_uri": "https://localhost:8080/"
        },
        "id": "RhwT-4sRANWK",
        "outputId": "f84c6b76-28ba-47ac-9371-d05b40848a82",
        "scrolled": true
      },
      "outputs": [
        {
          "output_type": "stream",
          "name": "stdout",
          "text": [
            "0        the great coat brother zhu zhu wen, in the man...\n",
            "1        nasa reveals facts about ufo wreckage found on...\n",
            "2            the hollow tomatoes are loaded with hormones.\n",
            "3        ange pavilion geoshui: how accurate is matrimo...\n",
            "4        a 50-year-old bus-bus blows up an 8-year-old c...\n",
            "                               ...                        \n",
            "64105    the lead content of domestic faucet exceeds th...\n",
            "64106    in 2018, the household registration system has...\n",
            "64107    onion can not be eaten with this, serious also...\n",
            "64108    grass-root teacher salaries, the last increase...\n",
            "64109    li weijia weeping, crying, drugs? sick? see ho...\n",
            "Name: title1_en, Length: 64110, dtype: object\n"
          ]
        }
      ],
      "source": [
        "#converting strings to lowercase for test data set\n",
        "fake_test[\"title1_en\"] = fake_test[\"title1_en\"].apply(lambda x: x.lower())\n",
        "fake_test[\"title2_en\"] = fake_test[\"title2_en\"].apply(lambda x: x.lower())\n",
        "print(fake_test[\"title1_en\"])"
      ]
    },
    {
      "cell_type": "code",
      "execution_count": null,
      "metadata": {
        "colab": {
          "base_uri": "https://localhost:8080/"
        },
        "id": "6iTSeD5RqG_L",
        "outputId": "3827f748-3bd8-4acb-9c7d-16931bc87782"
      },
      "outputs": [
        {
          "output_type": "stream",
          "name": "stdout",
          "text": [
            "0        lin xinsheng after the birth of \"hard milking,...\n",
            "1        the ufo found in yuancun, jiaocheng county, sh...\n",
            "2        li chenfan bingbing home photos, netizen: this...\n",
            "3        master one: the eight-character presumption of...\n",
            "4        < i > joe johnson's disgruntled timing and ord...\n",
            "                               ...                        \n",
            "64105    the multi-brand faucet is overtaxed, who is en...\n",
            "64106    in 2018, the household registration system wil...\n",
            "64107    onion can not eat with this, serious also can ...\n",
            "64108    teachers wage reform, there will be these thre...\n",
            "64109    li weijia on the hot air, netizens: li weijia ...\n",
            "Name: title2_en, Length: 64110, dtype: object\n"
          ]
        }
      ],
      "source": [
        "print(fake_test[\"title2_en\"])"
      ]
    },
    {
      "cell_type": "code",
      "execution_count": null,
      "metadata": {
        "colab": {
          "base_uri": "https://localhost:8080/"
        },
        "id": "pB5oD0fRRhKW",
        "outputId": "c9f3f293-4baa-4e28-e7d6-374903cdfeed"
      },
      "outputs": [
        {
          "output_type": "stream",
          "name": "stdout",
          "text": [
            "[nltk_data] Downloading package stopwords to /root/nltk_data...\n",
            "[nltk_data]   Unzipping corpora/stopwords.zip.\n",
            "{'mightn', 'has', \"mightn't\", 'it', 'here', \"should've\", 'all', 'ma', 'i', 'then', 'aren', \"doesn't\", 'each', 'again', 'by', \"shan't\", 'any', 'y', 'of', 'why', 'shouldn', 'doing', 're', 'between', \"isn't\", 'most', 'a', 'own', 'be', 'these', 'as', 'are', 'who', 'after', 'hadn', \"you're\", 's', 'you', 'does', \"haven't\", 'very', \"won't\", \"you've\", \"she's\", \"didn't\", 'theirs', 'same', \"needn't\", 'while', 'll', 'his', \"wasn't\", 'into', 'didn', 'herself', 'but', 'above', 'can', 'nor', 'won', \"don't\", 'its', 'what', 'too', 'needn', 'or', 'because', 'couldn', 'hasn', 'with', 'she', 'him', 'on', 'where', 'have', 'from', 'isn', 'than', 'were', 'himself', 'more', 'up', 'some', 'an', 'now', 'this', \"aren't\", 'your', 'me', \"wouldn't\", 'yourself', 'whom', 'ourselves', \"it's\", \"you'll\", 't', 'those', 'yourselves', 'is', 'over', 'should', 'itself', 'and', 'doesn', 'don', 'for', 'myself', 'when', \"hadn't\", 'through', 'her', 'ours', 'having', 'both', 'below', 'my', 'wouldn', 'd', \"mustn't\", \"weren't\", 'them', 'until', 'wasn', 'was', 'off', 'further', 'being', 'ain', 'did', 'no', 'hers', 've', 'do', 'had', 'to', 'haven', 'just', 'they', 'before', 'such', 'few', 'under', \"hasn't\", 'at', 'we', 'in', 'other', 'how', 'if', 'o', 'm', 'mustn', 'which', 'he', 'about', \"you'd\", 'weren', \"that'll\", 'during', 'once', 'that', 'am', 'not', 'only', \"couldn't\", 'our', 'so', 'the', 'will', 'down', 'yours', 'out', 'their', \"shouldn't\", 'shan', 'themselves', 'there', 'been', 'against'}\n",
            "                                                title1_en  \\\n",
            "0       two new old-age insurance benefits old people ...   \n",
            "1       \"if come shenzhen, sooner later son also come....   \n",
            "2       \"if come shenzhen, sooner later son also come....   \n",
            "3       \"if come shenzhen, sooner later son also come....   \n",
            "4       \"if come shenzhen, sooner later son also come....   \n",
            "...                                                   ...   \n",
            "256437  egypt 's presidential election failed win mill...   \n",
            "256438  egypt 's presidential election failed win mill...   \n",
            "256439  egypt 's presidential election failed win mill...   \n",
            "256440  egypt 's presidential election failed win mill...   \n",
            "256441  united states wage war iraq without destructio...   \n",
            "\n",
            "                                                title2_en  \n",
            "0       police disprove \"bird's nest congress person g...  \n",
            "1       shenzhen's gdp outstrips hong kong? shenzhen s...  \n",
            "2       gdp overtopped hong kong? shenzhen clarified: ...  \n",
            "3       shenzhen's gdp overtakes hong kong? bureau sta...  \n",
            "4       shenzhen's gdp outpaces hong kong? defending r...  \n",
            "...                                                   ...  \n",
            "256437  salah retiring? football association officials...  \n",
            "256438  liverpool's bid little germany? echo's disclai...  \n",
            "256439  west media exposing tallahlach recommended bar...  \n",
            "256440                 rumor egypt united differences us.  \n",
            "256441  saddam's daughter refutes rumors: no. 2 saddam...  \n",
            "\n",
            "[256442 rows x 2 columns]\n"
          ]
        }
      ],
      "source": [
        "#stopwords removal\n",
        "import nltk\n",
        "nltk.download('stopwords')\n",
        "from nltk.corpus import stopwords\n",
        "#from nltk.tokenize import word_tokenize\n",
        "stop_words = set(stopwords.words('english')) \n",
        "print(stop_words)\n",
        "fake[\"title1_en\"] = fake[\"title1_en\"].apply(lambda x: ' '.join([word for word in str(x).split() if word not in (stop_words)]))\n",
        "fake[\"title2_en\"] = fake[\"title2_en\"].apply(lambda x: ' '.join([word for word in str(x).split() if word not in (stop_words)]))\n",
        "print(fake[[\"title1_en\", \"title2_en\"]])"
      ]
    },
    {
      "cell_type": "code",
      "execution_count": null,
      "metadata": {
        "colab": {
          "base_uri": "https://localhost:8080/"
        },
        "id": "Q8CL6U28Cw8l",
        "outputId": "8ee2c8fd-a00c-4def-d4e0-7f15b419350f"
      },
      "outputs": [
        {
          "output_type": "stream",
          "name": "stdout",
          "text": [
            "                                               title1_en  \\\n",
            "0      great coat brother zhu zhu wen, mandarin love ...   \n",
            "1            nasa reveals facts ufo wreckage found moon.   \n",
            "2                       hollow tomatoes loaded hormones.   \n",
            "3      ange pavilion geoshui: accurate matrimony matc...   \n",
            "4      50-year-old bus-bus blows 8-year-old child. ru...   \n",
            "...                                                  ...   \n",
            "64105  lead content domestic faucet exceeds standard ...   \n",
            "64106  2018, household registration system changed, 3...   \n",
            "64107  onion eaten this, serious also cause eye blind...   \n",
            "64108  grass-root teacher salaries, last increase end...   \n",
            "64109  li weijia weeping, crying, drugs? sick? see re...   \n",
            "\n",
            "                                               title2_en  \n",
            "0      lin xinsheng birth \"hard milking,\" huo jianhua...  \n",
            "1      ufo found yuancun, jiaocheng county, shanxi, s...  \n",
            "2      li chenfan bingbing home photos, netizen: call...  \n",
            "3      master one: eight-character presumption marria...  \n",
            "4      < > joe johnson's disgruntled timing order myt...  \n",
            "...                                                  ...  \n",
            "64105  multi-brand faucet overtaxed, endangering drin...  \n",
            "64106  2018, household registration system changed, t...  \n",
            "64107  onion eat this, serious also cause eyesight bl...  \n",
            "64108  teachers wage reform, three changes, wages fin...  \n",
            "64109  li weijia hot air, netizens: li weijia ho chi ...  \n",
            "\n",
            "[64110 rows x 2 columns]\n"
          ]
        }
      ],
      "source": [
        "#stopwords removal for test dataset\n",
        "fake_test[\"title1_en\"] = fake_test[\"title1_en\"].apply(lambda x: ' '.join([word for word in str(x).split() if word not in (stop_words)]))\n",
        "fake_test[\"title2_en\"] = fake_test[\"title2_en\"].apply(lambda x: ' '.join([word for word in str(x).split() if word not in (stop_words)]))\n",
        "print(fake_test[[\"title1_en\", \"title2_en\"]])"
      ]
    },
    {
      "cell_type": "code",
      "execution_count": null,
      "metadata": {
        "colab": {
          "base_uri": "https://localhost:8080/"
        },
        "id": "V7Sh4MU0RmWR",
        "outputId": "9df3dab4-09a3-4ed6-e456-d158d61ca00a"
      },
      "outputs": [
        {
          "output_type": "stream",
          "name": "stdout",
          "text": [
            "                                                title1_en  \\\n",
            "0       two new oldage insurance benefits old people r...   \n",
            "1       if come shenzhen sooner later son also come le...   \n",
            "2       if come shenzhen sooner later son also come le...   \n",
            "3       if come shenzhen sooner later son also come le...   \n",
            "4       if come shenzhen sooner later son also come le...   \n",
            "...                                                   ...   \n",
            "256437  egypt s presidential election failed win milli...   \n",
            "256438  egypt s presidential election failed win milli...   \n",
            "256439  egypt s presidential election failed win milli...   \n",
            "256440  egypt s presidential election failed win milli...   \n",
            "256441  united states wage war iraq without destructio...   \n",
            "\n",
            "                                                title2_en  \n",
            "0       police disprove birds nest congress person get...  \n",
            "1       shenzhens gdp outstrips hong kong shenzhen sta...  \n",
            "2       gdp overtopped hong kong shenzhen clarified li...  \n",
            "3       shenzhens gdp overtakes hong kong bureau stati...  \n",
            "4       shenzhens gdp outpaces hong kong defending rum...  \n",
            "...                                                   ...  \n",
            "256437  salah retiring football association officials ...  \n",
            "256438  liverpools bid little germany echos disclaimer...  \n",
            "256439  west media exposing tallahlach recommended bar...  \n",
            "256440                  rumor egypt united differences us  \n",
            "256441  saddams daughter refutes rumors no 2 saddams r...  \n",
            "\n",
            "[256442 rows x 2 columns]\n"
          ]
        }
      ],
      "source": [
        "#punctuation removal\n",
        "import string\n",
        "string.punctuation\n",
        "fake[\"title1_en\"] = fake[\"title1_en\"].apply(lambda x: ''.join([word for word in str(x) if word not in (string.punctuation)]))\n",
        "fake[\"title2_en\"] = fake[\"title2_en\"].apply(lambda x: ''.join([word for word in str(x) if word not in (string.punctuation)]))\n",
        "print(fake[[\"title1_en\", \"title2_en\"]])"
      ]
    },
    {
      "cell_type": "code",
      "execution_count": null,
      "metadata": {
        "colab": {
          "base_uri": "https://localhost:8080/"
        },
        "id": "wT_s54P5DClf",
        "outputId": "1d831f30-88c2-478d-ad1b-e37153d61618"
      },
      "outputs": [
        {
          "output_type": "stream",
          "name": "stdout",
          "text": [
            "                                               title1_en  \\\n",
            "0      great coat brother zhu zhu wen mandarin love s...   \n",
            "1             nasa reveals facts ufo wreckage found moon   \n",
            "2                        hollow tomatoes loaded hormones   \n",
            "3      ange pavilion geoshui accurate matrimony match...   \n",
            "4      50yearold busbus blows 8yearold child rumors r...   \n",
            "...                                                  ...   \n",
            "64105  lead content domestic faucet exceeds standard ...   \n",
            "64106  2018 household registration system changed 3 t...   \n",
            "64107  onion eaten this serious also cause eye blindn...   \n",
            "64108  grassroot teacher salaries last increase end y...   \n",
            "64109   li weijia weeping crying drugs sick see responds   \n",
            "\n",
            "                                               title2_en  \n",
            "0      lin xinsheng birth hard milking huo jianhua se...  \n",
            "1      ufo found yuancun jiaocheng county shanxi shoc...  \n",
            "2      li chenfan bingbing home photos netizen called...  \n",
            "3      master one eightcharacter presumption marriage...  \n",
            "4          joe johnsons disgruntled timing order myth     \n",
            "...                                                  ...  \n",
            "64105  multibrand faucet overtaxed endangering drinki...  \n",
            "64106  2018 household registration system changed thr...  \n",
            "64107  onion eat this serious also cause eyesight bli...  \n",
            "64108  teachers wage reform three changes wages final...  \n",
            "64109  li weijia hot air netizens li weijia ho chi to...  \n",
            "\n",
            "[64110 rows x 2 columns]\n"
          ]
        }
      ],
      "source": [
        "#punctuation removal for test dataset\n",
        "fake_test[\"title1_en\"] = fake_test[\"title1_en\"].apply(lambda x: ''.join([word for word in str(x) if word not in (string.punctuation)]))\n",
        "fake_test[\"title2_en\"] = fake_test[\"title2_en\"].apply(lambda x: ''.join([word for word in str(x) if word not in (string.punctuation)]))\n",
        "print(fake_test[[\"title1_en\", \"title2_en\"]])"
      ]
    },
    {
      "cell_type": "code",
      "execution_count": null,
      "metadata": {
        "colab": {
          "base_uri": "https://localhost:8080/"
        },
        "id": "79EQjRu0RpA9",
        "outputId": "f9e7fda9-2605-4df3-a02e-c72c84dd0472"
      },
      "outputs": [
        {
          "output_type": "stream",
          "name": "stdout",
          "text": [
            "[nltk_data] Downloading package wordnet to /root/nltk_data...\n",
            "[nltk_data]   Unzipping corpora/wordnet.zip.\n"
          ]
        }
      ],
      "source": [
        "#lemmatization\n",
        "nltk.download('wordnet')\n",
        "from nltk.stem import WordNetLemmatizer\n",
        "wnl = WordNetLemmatizer()\n",
        "\n",
        "fake[\"title1_en\"] = fake[\"title1_en\"].apply(lambda x: ' '.join([wnl.lemmatize(word) for word in str(x).split()]))\n",
        "fake[\"title2_en\"] = fake[\"title2_en\"].apply(lambda x: ' '.join([wnl.lemmatize(word) for word in str(x).split()]))\n"
      ]
    },
    {
      "cell_type": "code",
      "execution_count": null,
      "metadata": {
        "colab": {
          "base_uri": "https://localhost:8080/"
        },
        "id": "QKi3u_FqRr-2",
        "outputId": "09eefed5-fa07-4c3f-b343-3040e146a8ee",
        "scrolled": true
      },
      "outputs": [
        {
          "output_type": "stream",
          "name": "stdout",
          "text": [
            "                                                title1_en  \\\n",
            "0       two new oldage insurance benefit old people ru...   \n",
            "1       if come shenzhen sooner later son also come le...   \n",
            "2       if come shenzhen sooner later son also come le...   \n",
            "3       if come shenzhen sooner later son also come le...   \n",
            "4       if come shenzhen sooner later son also come le...   \n",
            "...                                                   ...   \n",
            "256437  egypt s presidential election failed win milli...   \n",
            "256438  egypt s presidential election failed win milli...   \n",
            "256439  egypt s presidential election failed win milli...   \n",
            "256440  egypt s presidential election failed win milli...   \n",
            "256441  united state wage war iraq without destruction...   \n",
            "\n",
            "                                                title2_en  \n",
            "0       police disprove bird nest congress person get ...  \n",
            "1       shenzhens gdp outstrips hong kong shenzhen sta...  \n",
            "2       gdp overtopped hong kong shenzhen clarified li...  \n",
            "3       shenzhens gdp overtakes hong kong bureau stati...  \n",
            "4       shenzhens gdp outpaces hong kong defending rum...  \n",
            "...                                                   ...  \n",
            "256437  salah retiring football association official l...  \n",
            "256438  liverpool bid little germany echo disclaimer s...  \n",
            "256439  west medium exposing tallahlach recommended ba...  \n",
            "256440                    rumor egypt united difference u  \n",
            "256441  saddam daughter refutes rumor no 2 saddam regi...  \n",
            "\n",
            "[256442 rows x 2 columns]\n"
          ]
        }
      ],
      "source": [
        "print(fake[[\"title1_en\", \"title2_en\"]])"
      ]
    },
    {
      "cell_type": "code",
      "execution_count": null,
      "metadata": {
        "id": "89qYrB-ED4UY",
        "scrolled": true
      },
      "outputs": [],
      "source": [
        "#applying lemmatization to test data\n",
        "fake_test[\"title1_en\"] = fake_test[\"title1_en\"].apply(lambda x: ' '.join([wnl.lemmatize(word) for word in str(x).split()]))\n",
        "fake_test[\"title2_en\"] = fake_test[\"title2_en\"].apply(lambda x: ' '.join([wnl.lemmatize(word) for word in str(x).split()]))\n"
      ]
    },
    {
      "cell_type": "code",
      "execution_count": null,
      "metadata": {
        "colab": {
          "base_uri": "https://localhost:8080/"
        },
        "id": "752vhSweEGzV",
        "outputId": "9b056bec-caad-428c-8de8-15de32bcef1f",
        "scrolled": true
      },
      "outputs": [
        {
          "output_type": "stream",
          "name": "stdout",
          "text": [
            "                                               title1_en  \\\n",
            "0      great coat brother zhu zhu wen mandarin love s...   \n",
            "1              nasa reveals fact ufo wreckage found moon   \n",
            "2                           hollow tomato loaded hormone   \n",
            "3      ange pavilion geoshui accurate matrimony match...   \n",
            "4      50yearold busbus blow 8yearold child rumor rum...   \n",
            "...                                                  ...   \n",
            "64105  lead content domestic faucet exceeds standard ...   \n",
            "64106  2018 household registration system changed 3 t...   \n",
            "64107  onion eaten this serious also cause eye blindn...   \n",
            "64108  grassroot teacher salary last increase end yea...   \n",
            "64109       li weijia weeping cry drug sick see responds   \n",
            "\n",
            "                                               title2_en  \n",
            "0      lin xinsheng birth hard milking huo jianhua se...  \n",
            "1      ufo found yuancun jiaocheng county shanxi shoc...  \n",
            "2      li chenfan bingbing home photo netizen called ...  \n",
            "3      master one eightcharacter presumption marriage...  \n",
            "4              joe johnson disgruntled timing order myth  \n",
            "...                                                  ...  \n",
            "64105  multibrand faucet overtaxed endangering drinki...  \n",
            "64106  2018 household registration system changed thr...  \n",
            "64107  onion eat this serious also cause eyesight bli...  \n",
            "64108  teacher wage reform three change wage finally ...  \n",
            "64109  li weijia hot air netizens li weijia ho chi to...  \n",
            "\n",
            "[64110 rows x 2 columns]\n"
          ]
        }
      ],
      "source": [
        "print(fake_test[[\"title1_en\", \"title2_en\"]])"
      ]
    },
    {
      "cell_type": "code",
      "execution_count": null,
      "metadata": {
        "colab": {
          "base_uri": "https://localhost:8080/"
        },
        "id": "_qyJUUaIPq3q",
        "outputId": "e3928e1f-35fc-439c-ff6c-79dd1a223d9f",
        "scrolled": false
      },
      "outputs": [
        {
          "output_type": "stream",
          "name": "stdout",
          "text": [
            "0         two new oldage insurance benefit old people ru...\n",
            "1         if come shenzhen sooner later son also come le...\n",
            "2         if come shenzhen sooner later son also come le...\n",
            "3         if come shenzhen sooner later son also come le...\n",
            "4         if come shenzhen sooner later son also come le...\n",
            "                                ...                        \n",
            "256437    egypt s presidential election failed win milli...\n",
            "256438    egypt s presidential election failed win milli...\n",
            "256439    egypt s presidential election failed win milli...\n",
            "256440    egypt s presidential election failed win milli...\n",
            "256441    united state wage war iraq without destruction...\n",
            "Name: com_title, Length: 256442, dtype: object\n"
          ]
        }
      ],
      "source": [
        "#combining title 1 and title 2\n",
        "fake[\"com_title\"] = fake[\"title1_en\"] + fake[\"title2_en\"]\n",
        "print(fake[\"com_title\"])"
      ]
    },
    {
      "cell_type": "code",
      "execution_count": null,
      "metadata": {
        "colab": {
          "base_uri": "https://localhost:8080/"
        },
        "id": "-QdG08l8EbAK",
        "outputId": "8ca025df-e9db-4293-b882-252e413d3428",
        "scrolled": true
      },
      "outputs": [
        {
          "output_type": "stream",
          "name": "stdout",
          "text": [
            "0        great coat brother zhu zhu wen mandarin love s...\n",
            "1        nasa reveals fact ufo wreckage found moonufo f...\n",
            "2        hollow tomato loaded hormoneli chenfan bingbin...\n",
            "3        ange pavilion geoshui accurate matrimony match...\n",
            "4        50yearold busbus blow 8yearold child rumor rum...\n",
            "                               ...                        \n",
            "64105    lead content domestic faucet exceeds standard ...\n",
            "64106    2018 household registration system changed 3 t...\n",
            "64107    onion eaten this serious also cause eye blindn...\n",
            "64108    grassroot teacher salary last increase end yea...\n",
            "64109    li weijia weeping cry drug sick see respondsli...\n",
            "Name: com_title, Length: 64110, dtype: object\n"
          ]
        }
      ],
      "source": [
        "#combining title 1 and title 2 for test dataset\n",
        "fake_test[\"com_title\"] = fake_test[\"title1_en\"] + fake_test[\"title2_en\"]\n",
        "print(fake_test[\"com_title\"])"
      ]
    },
    {
      "cell_type": "code",
      "execution_count": null,
      "metadata": {
        "colab": {
          "base_uri": "https://localhost:8080/"
        },
        "id": "jBJ1mDSVupBU",
        "outputId": "db9f9ba8-6370-456f-8f97-e3e55beb278b",
        "scrolled": true
      },
      "outputs": [
        {
          "output_type": "stream",
          "name": "stdout",
          "text": [
            "0         unrelated\n",
            "1         unrelated\n",
            "2         unrelated\n",
            "3         unrelated\n",
            "4         unrelated\n",
            "            ...    \n",
            "256437    unrelated\n",
            "256438    unrelated\n",
            "256439    unrelated\n",
            "256440    unrelated\n",
            "256441    unrelated\n",
            "Name: label, Length: 256442, dtype: object\n"
          ]
        }
      ],
      "source": [
        "print(fake[\"label\"])"
      ]
    },
    {
      "cell_type": "code",
      "execution_count": null,
      "metadata": {
        "id": "n2J7H3qcsVTs"
      },
      "outputs": [],
      "source": [
        "one_hot_fake= pd.get_dummies(fake, columns = ['label'])"
      ]
    },
    {
      "cell_type": "code",
      "execution_count": null,
      "metadata": {
        "colab": {
          "base_uri": "https://localhost:8080/",
          "height": 814
        },
        "id": "oqLpgNx51AGc",
        "outputId": "d40315f1-37dd-4a88-902b-6b0daf700e22"
      },
      "outputs": [
        {
          "output_type": "execute_result",
          "data": {
            "text/plain": [
              "            id    tid1    tid2  \\\n",
              "0       195611       0       1   \n",
              "1       191474       2       3   \n",
              "2        25300       2       4   \n",
              "3       123757       2       8   \n",
              "4       141761       2      11   \n",
              "...        ...     ...     ...   \n",
              "256437  113364  167562   48447   \n",
              "256438   49407  167562   49795   \n",
              "256439  130134  167562  114783   \n",
              "256440  101494  167562  137705   \n",
              "256441   89356  167563   66480   \n",
              "\n",
              "                                                title1_en  \\\n",
              "0       two new oldage insurance benefit old people ru...   \n",
              "1       if come shenzhen sooner later son also come le...   \n",
              "2       if come shenzhen sooner later son also come le...   \n",
              "3       if come shenzhen sooner later son also come le...   \n",
              "4       if come shenzhen sooner later son also come le...   \n",
              "...                                                   ...   \n",
              "256437  egypt s presidential election failed win milli...   \n",
              "256438  egypt s presidential election failed win milli...   \n",
              "256439  egypt s presidential election failed win milli...   \n",
              "256440  egypt s presidential election failed win milli...   \n",
              "256441  united state wage war iraq without destruction...   \n",
              "\n",
              "                                                title2_en  \\\n",
              "0       police disprove bird nest congress person get ...   \n",
              "1       shenzhens gdp outstrips hong kong shenzhen sta...   \n",
              "2       gdp overtopped hong kong shenzhen clarified li...   \n",
              "3       shenzhens gdp overtakes hong kong bureau stati...   \n",
              "4       shenzhens gdp outpaces hong kong defending rum...   \n",
              "...                                                   ...   \n",
              "256437  salah retiring football association official l...   \n",
              "256438  liverpool bid little germany echo disclaimer s...   \n",
              "256439  west medium exposing tallahlach recommended ba...   \n",
              "256440                    rumor egypt united difference u   \n",
              "256441  saddam daughter refutes rumor no 2 saddam regi...   \n",
              "\n",
              "                                                com_title  label_agreed  \\\n",
              "0       two new oldage insurance benefit old people ru...             0   \n",
              "1       if come shenzhen sooner later son also come le...             0   \n",
              "2       if come shenzhen sooner later son also come le...             0   \n",
              "3       if come shenzhen sooner later son also come le...             0   \n",
              "4       if come shenzhen sooner later son also come le...             0   \n",
              "...                                                   ...           ...   \n",
              "256437  egypt s presidential election failed win milli...             0   \n",
              "256438  egypt s presidential election failed win milli...             0   \n",
              "256439  egypt s presidential election failed win milli...             0   \n",
              "256440  egypt s presidential election failed win milli...             0   \n",
              "256441  united state wage war iraq without destruction...             0   \n",
              "\n",
              "        label_disagreed  label_unrelated  \n",
              "0                     0                1  \n",
              "1                     0                1  \n",
              "2                     0                1  \n",
              "3                     0                1  \n",
              "4                     0                1  \n",
              "...                 ...              ...  \n",
              "256437                0                1  \n",
              "256438                0                1  \n",
              "256439                0                1  \n",
              "256440                0                1  \n",
              "256441                0                1  \n",
              "\n",
              "[256442 rows x 9 columns]"
            ],
            "text/html": [
              "\n",
              "  <div id=\"df-0d9a1484-c593-48b8-b42c-b5e82e7fbae9\">\n",
              "    <div class=\"colab-df-container\">\n",
              "      <div>\n",
              "<style scoped>\n",
              "    .dataframe tbody tr th:only-of-type {\n",
              "        vertical-align: middle;\n",
              "    }\n",
              "\n",
              "    .dataframe tbody tr th {\n",
              "        vertical-align: top;\n",
              "    }\n",
              "\n",
              "    .dataframe thead th {\n",
              "        text-align: right;\n",
              "    }\n",
              "</style>\n",
              "<table border=\"1\" class=\"dataframe\">\n",
              "  <thead>\n",
              "    <tr style=\"text-align: right;\">\n",
              "      <th></th>\n",
              "      <th>id</th>\n",
              "      <th>tid1</th>\n",
              "      <th>tid2</th>\n",
              "      <th>title1_en</th>\n",
              "      <th>title2_en</th>\n",
              "      <th>com_title</th>\n",
              "      <th>label_agreed</th>\n",
              "      <th>label_disagreed</th>\n",
              "      <th>label_unrelated</th>\n",
              "    </tr>\n",
              "  </thead>\n",
              "  <tbody>\n",
              "    <tr>\n",
              "      <th>0</th>\n",
              "      <td>195611</td>\n",
              "      <td>0</td>\n",
              "      <td>1</td>\n",
              "      <td>two new oldage insurance benefit old people ru...</td>\n",
              "      <td>police disprove bird nest congress person get ...</td>\n",
              "      <td>two new oldage insurance benefit old people ru...</td>\n",
              "      <td>0</td>\n",
              "      <td>0</td>\n",
              "      <td>1</td>\n",
              "    </tr>\n",
              "    <tr>\n",
              "      <th>1</th>\n",
              "      <td>191474</td>\n",
              "      <td>2</td>\n",
              "      <td>3</td>\n",
              "      <td>if come shenzhen sooner later son also come le...</td>\n",
              "      <td>shenzhens gdp outstrips hong kong shenzhen sta...</td>\n",
              "      <td>if come shenzhen sooner later son also come le...</td>\n",
              "      <td>0</td>\n",
              "      <td>0</td>\n",
              "      <td>1</td>\n",
              "    </tr>\n",
              "    <tr>\n",
              "      <th>2</th>\n",
              "      <td>25300</td>\n",
              "      <td>2</td>\n",
              "      <td>4</td>\n",
              "      <td>if come shenzhen sooner later son also come le...</td>\n",
              "      <td>gdp overtopped hong kong shenzhen clarified li...</td>\n",
              "      <td>if come shenzhen sooner later son also come le...</td>\n",
              "      <td>0</td>\n",
              "      <td>0</td>\n",
              "      <td>1</td>\n",
              "    </tr>\n",
              "    <tr>\n",
              "      <th>3</th>\n",
              "      <td>123757</td>\n",
              "      <td>2</td>\n",
              "      <td>8</td>\n",
              "      <td>if come shenzhen sooner later son also come le...</td>\n",
              "      <td>shenzhens gdp overtakes hong kong bureau stati...</td>\n",
              "      <td>if come shenzhen sooner later son also come le...</td>\n",
              "      <td>0</td>\n",
              "      <td>0</td>\n",
              "      <td>1</td>\n",
              "    </tr>\n",
              "    <tr>\n",
              "      <th>4</th>\n",
              "      <td>141761</td>\n",
              "      <td>2</td>\n",
              "      <td>11</td>\n",
              "      <td>if come shenzhen sooner later son also come le...</td>\n",
              "      <td>shenzhens gdp outpaces hong kong defending rum...</td>\n",
              "      <td>if come shenzhen sooner later son also come le...</td>\n",
              "      <td>0</td>\n",
              "      <td>0</td>\n",
              "      <td>1</td>\n",
              "    </tr>\n",
              "    <tr>\n",
              "      <th>...</th>\n",
              "      <td>...</td>\n",
              "      <td>...</td>\n",
              "      <td>...</td>\n",
              "      <td>...</td>\n",
              "      <td>...</td>\n",
              "      <td>...</td>\n",
              "      <td>...</td>\n",
              "      <td>...</td>\n",
              "      <td>...</td>\n",
              "    </tr>\n",
              "    <tr>\n",
              "      <th>256437</th>\n",
              "      <td>113364</td>\n",
              "      <td>167562</td>\n",
              "      <td>48447</td>\n",
              "      <td>egypt s presidential election failed win milli...</td>\n",
              "      <td>salah retiring football association official l...</td>\n",
              "      <td>egypt s presidential election failed win milli...</td>\n",
              "      <td>0</td>\n",
              "      <td>0</td>\n",
              "      <td>1</td>\n",
              "    </tr>\n",
              "    <tr>\n",
              "      <th>256438</th>\n",
              "      <td>49407</td>\n",
              "      <td>167562</td>\n",
              "      <td>49795</td>\n",
              "      <td>egypt s presidential election failed win milli...</td>\n",
              "      <td>liverpool bid little germany echo disclaimer s...</td>\n",
              "      <td>egypt s presidential election failed win milli...</td>\n",
              "      <td>0</td>\n",
              "      <td>0</td>\n",
              "      <td>1</td>\n",
              "    </tr>\n",
              "    <tr>\n",
              "      <th>256439</th>\n",
              "      <td>130134</td>\n",
              "      <td>167562</td>\n",
              "      <td>114783</td>\n",
              "      <td>egypt s presidential election failed win milli...</td>\n",
              "      <td>west medium exposing tallahlach recommended ba...</td>\n",
              "      <td>egypt s presidential election failed win milli...</td>\n",
              "      <td>0</td>\n",
              "      <td>0</td>\n",
              "      <td>1</td>\n",
              "    </tr>\n",
              "    <tr>\n",
              "      <th>256440</th>\n",
              "      <td>101494</td>\n",
              "      <td>167562</td>\n",
              "      <td>137705</td>\n",
              "      <td>egypt s presidential election failed win milli...</td>\n",
              "      <td>rumor egypt united difference u</td>\n",
              "      <td>egypt s presidential election failed win milli...</td>\n",
              "      <td>0</td>\n",
              "      <td>0</td>\n",
              "      <td>1</td>\n",
              "    </tr>\n",
              "    <tr>\n",
              "      <th>256441</th>\n",
              "      <td>89356</td>\n",
              "      <td>167563</td>\n",
              "      <td>66480</td>\n",
              "      <td>united state wage war iraq without destruction...</td>\n",
              "      <td>saddam daughter refutes rumor no 2 saddam regi...</td>\n",
              "      <td>united state wage war iraq without destruction...</td>\n",
              "      <td>0</td>\n",
              "      <td>0</td>\n",
              "      <td>1</td>\n",
              "    </tr>\n",
              "  </tbody>\n",
              "</table>\n",
              "<p>256442 rows × 9 columns</p>\n",
              "</div>\n",
              "      <button class=\"colab-df-convert\" onclick=\"convertToInteractive('df-0d9a1484-c593-48b8-b42c-b5e82e7fbae9')\"\n",
              "              title=\"Convert this dataframe to an interactive table.\"\n",
              "              style=\"display:none;\">\n",
              "        \n",
              "  <svg xmlns=\"http://www.w3.org/2000/svg\" height=\"24px\"viewBox=\"0 0 24 24\"\n",
              "       width=\"24px\">\n",
              "    <path d=\"M0 0h24v24H0V0z\" fill=\"none\"/>\n",
              "    <path d=\"M18.56 5.44l.94 2.06.94-2.06 2.06-.94-2.06-.94-.94-2.06-.94 2.06-2.06.94zm-11 1L8.5 8.5l.94-2.06 2.06-.94-2.06-.94L8.5 2.5l-.94 2.06-2.06.94zm10 10l.94 2.06.94-2.06 2.06-.94-2.06-.94-.94-2.06-.94 2.06-2.06.94z\"/><path d=\"M17.41 7.96l-1.37-1.37c-.4-.4-.92-.59-1.43-.59-.52 0-1.04.2-1.43.59L10.3 9.45l-7.72 7.72c-.78.78-.78 2.05 0 2.83L4 21.41c.39.39.9.59 1.41.59.51 0 1.02-.2 1.41-.59l7.78-7.78 2.81-2.81c.8-.78.8-2.07 0-2.86zM5.41 20L4 18.59l7.72-7.72 1.47 1.35L5.41 20z\"/>\n",
              "  </svg>\n",
              "      </button>\n",
              "      \n",
              "  <style>\n",
              "    .colab-df-container {\n",
              "      display:flex;\n",
              "      flex-wrap:wrap;\n",
              "      gap: 12px;\n",
              "    }\n",
              "\n",
              "    .colab-df-convert {\n",
              "      background-color: #E8F0FE;\n",
              "      border: none;\n",
              "      border-radius: 50%;\n",
              "      cursor: pointer;\n",
              "      display: none;\n",
              "      fill: #1967D2;\n",
              "      height: 32px;\n",
              "      padding: 0 0 0 0;\n",
              "      width: 32px;\n",
              "    }\n",
              "\n",
              "    .colab-df-convert:hover {\n",
              "      background-color: #E2EBFA;\n",
              "      box-shadow: 0px 1px 2px rgba(60, 64, 67, 0.3), 0px 1px 3px 1px rgba(60, 64, 67, 0.15);\n",
              "      fill: #174EA6;\n",
              "    }\n",
              "\n",
              "    [theme=dark] .colab-df-convert {\n",
              "      background-color: #3B4455;\n",
              "      fill: #D2E3FC;\n",
              "    }\n",
              "\n",
              "    [theme=dark] .colab-df-convert:hover {\n",
              "      background-color: #434B5C;\n",
              "      box-shadow: 0px 1px 3px 1px rgba(0, 0, 0, 0.15);\n",
              "      filter: drop-shadow(0px 1px 2px rgba(0, 0, 0, 0.3));\n",
              "      fill: #FFFFFF;\n",
              "    }\n",
              "  </style>\n",
              "\n",
              "      <script>\n",
              "        const buttonEl =\n",
              "          document.querySelector('#df-0d9a1484-c593-48b8-b42c-b5e82e7fbae9 button.colab-df-convert');\n",
              "        buttonEl.style.display =\n",
              "          google.colab.kernel.accessAllowed ? 'block' : 'none';\n",
              "\n",
              "        async function convertToInteractive(key) {\n",
              "          const element = document.querySelector('#df-0d9a1484-c593-48b8-b42c-b5e82e7fbae9');\n",
              "          const dataTable =\n",
              "            await google.colab.kernel.invokeFunction('convertToInteractive',\n",
              "                                                     [key], {});\n",
              "          if (!dataTable) return;\n",
              "\n",
              "          const docLinkHtml = 'Like what you see? Visit the ' +\n",
              "            '<a target=\"_blank\" href=https://colab.research.google.com/notebooks/data_table.ipynb>data table notebook</a>'\n",
              "            + ' to learn more about interactive tables.';\n",
              "          element.innerHTML = '';\n",
              "          dataTable['output_type'] = 'display_data';\n",
              "          await google.colab.output.renderOutput(dataTable, element);\n",
              "          const docLink = document.createElement('div');\n",
              "          docLink.innerHTML = docLinkHtml;\n",
              "          element.appendChild(docLink);\n",
              "        }\n",
              "      </script>\n",
              "    </div>\n",
              "  </div>\n",
              "  "
            ]
          },
          "metadata": {},
          "execution_count": 26
        }
      ],
      "source": [
        "one_hot_fake"
      ]
    },
    {
      "cell_type": "code",
      "execution_count": null,
      "metadata": {
        "id": "ZXBQTqNNspqy"
      },
      "outputs": [],
      "source": [
        "#splitting dataset into training and validation set\n",
        "x_train1, x_val1, y_train1, y_val1 = train_test_split(one_hot_fake[[\"com_title\"]], one_hot_fake[[\"label_agreed\", \"label_disagreed\", \"label_unrelated\"]], test_size = 0.3, shuffle = True)"
      ]
    },
    {
      "cell_type": "code",
      "execution_count": null,
      "metadata": {
        "colab": {
          "base_uri": "https://localhost:8080/",
          "height": 423
        },
        "id": "1JtVR72VDkLn",
        "outputId": "2825c191-3876-4a7f-d089-3a137ed3d2a2"
      },
      "outputs": [
        {
          "output_type": "execute_result",
          "data": {
            "text/plain": [
              "        label_agreed  label_disagreed  label_unrelated\n",
              "222939             1                0                0\n",
              "56615              0                0                1\n",
              "140977             0                0                1\n",
              "250715             0                0                1\n",
              "108030             0                0                1\n",
              "...              ...              ...              ...\n",
              "84279              0                1                0\n",
              "52147              0                0                1\n",
              "126778             1                0                0\n",
              "192419             0                0                1\n",
              "91193              0                1                0\n",
              "\n",
              "[179509 rows x 3 columns]"
            ],
            "text/html": [
              "\n",
              "  <div id=\"df-3da396d6-b898-4c53-bd5e-0524e86cab29\">\n",
              "    <div class=\"colab-df-container\">\n",
              "      <div>\n",
              "<style scoped>\n",
              "    .dataframe tbody tr th:only-of-type {\n",
              "        vertical-align: middle;\n",
              "    }\n",
              "\n",
              "    .dataframe tbody tr th {\n",
              "        vertical-align: top;\n",
              "    }\n",
              "\n",
              "    .dataframe thead th {\n",
              "        text-align: right;\n",
              "    }\n",
              "</style>\n",
              "<table border=\"1\" class=\"dataframe\">\n",
              "  <thead>\n",
              "    <tr style=\"text-align: right;\">\n",
              "      <th></th>\n",
              "      <th>label_agreed</th>\n",
              "      <th>label_disagreed</th>\n",
              "      <th>label_unrelated</th>\n",
              "    </tr>\n",
              "  </thead>\n",
              "  <tbody>\n",
              "    <tr>\n",
              "      <th>222939</th>\n",
              "      <td>1</td>\n",
              "      <td>0</td>\n",
              "      <td>0</td>\n",
              "    </tr>\n",
              "    <tr>\n",
              "      <th>56615</th>\n",
              "      <td>0</td>\n",
              "      <td>0</td>\n",
              "      <td>1</td>\n",
              "    </tr>\n",
              "    <tr>\n",
              "      <th>140977</th>\n",
              "      <td>0</td>\n",
              "      <td>0</td>\n",
              "      <td>1</td>\n",
              "    </tr>\n",
              "    <tr>\n",
              "      <th>250715</th>\n",
              "      <td>0</td>\n",
              "      <td>0</td>\n",
              "      <td>1</td>\n",
              "    </tr>\n",
              "    <tr>\n",
              "      <th>108030</th>\n",
              "      <td>0</td>\n",
              "      <td>0</td>\n",
              "      <td>1</td>\n",
              "    </tr>\n",
              "    <tr>\n",
              "      <th>...</th>\n",
              "      <td>...</td>\n",
              "      <td>...</td>\n",
              "      <td>...</td>\n",
              "    </tr>\n",
              "    <tr>\n",
              "      <th>84279</th>\n",
              "      <td>0</td>\n",
              "      <td>1</td>\n",
              "      <td>0</td>\n",
              "    </tr>\n",
              "    <tr>\n",
              "      <th>52147</th>\n",
              "      <td>0</td>\n",
              "      <td>0</td>\n",
              "      <td>1</td>\n",
              "    </tr>\n",
              "    <tr>\n",
              "      <th>126778</th>\n",
              "      <td>1</td>\n",
              "      <td>0</td>\n",
              "      <td>0</td>\n",
              "    </tr>\n",
              "    <tr>\n",
              "      <th>192419</th>\n",
              "      <td>0</td>\n",
              "      <td>0</td>\n",
              "      <td>1</td>\n",
              "    </tr>\n",
              "    <tr>\n",
              "      <th>91193</th>\n",
              "      <td>0</td>\n",
              "      <td>1</td>\n",
              "      <td>0</td>\n",
              "    </tr>\n",
              "  </tbody>\n",
              "</table>\n",
              "<p>179509 rows × 3 columns</p>\n",
              "</div>\n",
              "      <button class=\"colab-df-convert\" onclick=\"convertToInteractive('df-3da396d6-b898-4c53-bd5e-0524e86cab29')\"\n",
              "              title=\"Convert this dataframe to an interactive table.\"\n",
              "              style=\"display:none;\">\n",
              "        \n",
              "  <svg xmlns=\"http://www.w3.org/2000/svg\" height=\"24px\"viewBox=\"0 0 24 24\"\n",
              "       width=\"24px\">\n",
              "    <path d=\"M0 0h24v24H0V0z\" fill=\"none\"/>\n",
              "    <path d=\"M18.56 5.44l.94 2.06.94-2.06 2.06-.94-2.06-.94-.94-2.06-.94 2.06-2.06.94zm-11 1L8.5 8.5l.94-2.06 2.06-.94-2.06-.94L8.5 2.5l-.94 2.06-2.06.94zm10 10l.94 2.06.94-2.06 2.06-.94-2.06-.94-.94-2.06-.94 2.06-2.06.94z\"/><path d=\"M17.41 7.96l-1.37-1.37c-.4-.4-.92-.59-1.43-.59-.52 0-1.04.2-1.43.59L10.3 9.45l-7.72 7.72c-.78.78-.78 2.05 0 2.83L4 21.41c.39.39.9.59 1.41.59.51 0 1.02-.2 1.41-.59l7.78-7.78 2.81-2.81c.8-.78.8-2.07 0-2.86zM5.41 20L4 18.59l7.72-7.72 1.47 1.35L5.41 20z\"/>\n",
              "  </svg>\n",
              "      </button>\n",
              "      \n",
              "  <style>\n",
              "    .colab-df-container {\n",
              "      display:flex;\n",
              "      flex-wrap:wrap;\n",
              "      gap: 12px;\n",
              "    }\n",
              "\n",
              "    .colab-df-convert {\n",
              "      background-color: #E8F0FE;\n",
              "      border: none;\n",
              "      border-radius: 50%;\n",
              "      cursor: pointer;\n",
              "      display: none;\n",
              "      fill: #1967D2;\n",
              "      height: 32px;\n",
              "      padding: 0 0 0 0;\n",
              "      width: 32px;\n",
              "    }\n",
              "\n",
              "    .colab-df-convert:hover {\n",
              "      background-color: #E2EBFA;\n",
              "      box-shadow: 0px 1px 2px rgba(60, 64, 67, 0.3), 0px 1px 3px 1px rgba(60, 64, 67, 0.15);\n",
              "      fill: #174EA6;\n",
              "    }\n",
              "\n",
              "    [theme=dark] .colab-df-convert {\n",
              "      background-color: #3B4455;\n",
              "      fill: #D2E3FC;\n",
              "    }\n",
              "\n",
              "    [theme=dark] .colab-df-convert:hover {\n",
              "      background-color: #434B5C;\n",
              "      box-shadow: 0px 1px 3px 1px rgba(0, 0, 0, 0.15);\n",
              "      filter: drop-shadow(0px 1px 2px rgba(0, 0, 0, 0.3));\n",
              "      fill: #FFFFFF;\n",
              "    }\n",
              "  </style>\n",
              "\n",
              "      <script>\n",
              "        const buttonEl =\n",
              "          document.querySelector('#df-3da396d6-b898-4c53-bd5e-0524e86cab29 button.colab-df-convert');\n",
              "        buttonEl.style.display =\n",
              "          google.colab.kernel.accessAllowed ? 'block' : 'none';\n",
              "\n",
              "        async function convertToInteractive(key) {\n",
              "          const element = document.querySelector('#df-3da396d6-b898-4c53-bd5e-0524e86cab29');\n",
              "          const dataTable =\n",
              "            await google.colab.kernel.invokeFunction('convertToInteractive',\n",
              "                                                     [key], {});\n",
              "          if (!dataTable) return;\n",
              "\n",
              "          const docLinkHtml = 'Like what you see? Visit the ' +\n",
              "            '<a target=\"_blank\" href=https://colab.research.google.com/notebooks/data_table.ipynb>data table notebook</a>'\n",
              "            + ' to learn more about interactive tables.';\n",
              "          element.innerHTML = '';\n",
              "          dataTable['output_type'] = 'display_data';\n",
              "          await google.colab.output.renderOutput(dataTable, element);\n",
              "          const docLink = document.createElement('div');\n",
              "          docLink.innerHTML = docLinkHtml;\n",
              "          element.appendChild(docLink);\n",
              "        }\n",
              "      </script>\n",
              "    </div>\n",
              "  </div>\n",
              "  "
            ]
          },
          "metadata": {},
          "execution_count": 28
        }
      ],
      "source": [
        "y_train1\n",
        "#y_train1 = asarray(y_train1)"
      ]
    },
    {
      "cell_type": "code",
      "execution_count": null,
      "metadata": {
        "id": "sSM8bu7u6Nsi"
      },
      "outputs": [],
      "source": [
        "#Bag of words\n",
        "from sklearn.feature_extraction.text import CountVectorizer"
      ]
    },
    {
      "cell_type": "code",
      "execution_count": null,
      "metadata": {
        "colab": {
          "base_uri": "https://localhost:8080/"
        },
        "id": "opErOnyi6jVi",
        "outputId": "bb234003-ba0f-4045-b624-7ddffac3832d"
      },
      "outputs": [
        {
          "output_type": "execute_result",
          "data": {
            "text/plain": [
              "(179509, 1)"
            ]
          },
          "metadata": {},
          "execution_count": 30
        }
      ],
      "source": [
        "x_train1.shape"
      ]
    },
    {
      "cell_type": "code",
      "execution_count": null,
      "metadata": {
        "colab": {
          "base_uri": "https://localhost:8080/"
        },
        "id": "Z0I_vHO16jVk",
        "outputId": "597a46d4-09a9-44f6-a1a5-fa05f9084818"
      },
      "outputs": [
        {
          "output_type": "execute_result",
          "data": {
            "text/plain": [
              "(179509, 157262)"
            ]
          },
          "metadata": {},
          "execution_count": 31
        }
      ],
      "source": [
        "count_vect1 = CountVectorizer()\n",
        "x_train1_counts = count_vect1.fit_transform(x_train1.iloc[:,0])\n",
        "x_train1_counts.shape"
      ]
    },
    {
      "cell_type": "code",
      "execution_count": null,
      "metadata": {
        "colab": {
          "base_uri": "https://localhost:8080/"
        },
        "id": "D3X5aW6u6jVl",
        "outputId": "0220d680-2600-4ac2-954f-76e9a51f2c8a"
      },
      "outputs": [
        {
          "output_type": "execute_result",
          "data": {
            "text/plain": [
              "<179509x157262 sparse matrix of type '<class 'numpy.int64'>'\n",
              "\twith 3015361 stored elements in Compressed Sparse Row format>"
            ]
          },
          "metadata": {},
          "execution_count": 32
        }
      ],
      "source": [
        "x_train1_counts"
      ]
    },
    {
      "cell_type": "code",
      "execution_count": null,
      "metadata": {
        "colab": {
          "base_uri": "https://localhost:8080/"
        },
        "id": "e449FiG46jVl",
        "outputId": "9c214ce8-5e56-4ff5-b7dc-213a357d5423"
      },
      "outputs": [
        {
          "output_type": "execute_result",
          "data": {
            "text/plain": [
              "7824"
            ]
          },
          "metadata": {},
          "execution_count": 33
        }
      ],
      "source": [
        "count_vect1.vocabulary_.get(u'algorithm')"
      ]
    },
    {
      "cell_type": "code",
      "execution_count": null,
      "metadata": {
        "colab": {
          "base_uri": "https://localhost:8080/"
        },
        "id": "AHhpx-968Gi-",
        "outputId": "a38b4205-5f43-47ee-c8c9-a35f1ab795bd"
      },
      "outputs": [
        {
          "output_type": "execute_result",
          "data": {
            "text/plain": [
              "(179509, 157262)"
            ]
          },
          "metadata": {},
          "execution_count": 34
        }
      ],
      "source": [
        "#tf-idf\n",
        "from sklearn.feature_extraction.text import TfidfTransformer\n",
        "\n",
        "tfidf1 = TfidfTransformer()\n",
        "x_train1_tfidf = tfidf1.fit_transform(x_train1_counts)\n",
        "\n",
        "x_train1_tfidf.shape"
      ]
    },
    {
      "cell_type": "code",
      "execution_count": null,
      "metadata": {
        "colab": {
          "base_uri": "https://localhost:8080/",
          "height": 423
        },
        "id": "zl_Z-uasGPAH",
        "outputId": "6fd284c2-dfc7-40d1-cf3e-d3696f04959c"
      },
      "outputs": [
        {
          "output_type": "execute_result",
          "data": {
            "text/plain": [
              "        label_agreed  label_disagreed  label_unrelated\n",
              "222939             1                0                0\n",
              "56615              0                0                1\n",
              "140977             0                0                1\n",
              "250715             0                0                1\n",
              "108030             0                0                1\n",
              "...              ...              ...              ...\n",
              "84279              0                1                0\n",
              "52147              0                0                1\n",
              "126778             1                0                0\n",
              "192419             0                0                1\n",
              "91193              0                1                0\n",
              "\n",
              "[179509 rows x 3 columns]"
            ],
            "text/html": [
              "\n",
              "  <div id=\"df-82c9aa42-f742-41fc-bb7f-45a29b072ab0\">\n",
              "    <div class=\"colab-df-container\">\n",
              "      <div>\n",
              "<style scoped>\n",
              "    .dataframe tbody tr th:only-of-type {\n",
              "        vertical-align: middle;\n",
              "    }\n",
              "\n",
              "    .dataframe tbody tr th {\n",
              "        vertical-align: top;\n",
              "    }\n",
              "\n",
              "    .dataframe thead th {\n",
              "        text-align: right;\n",
              "    }\n",
              "</style>\n",
              "<table border=\"1\" class=\"dataframe\">\n",
              "  <thead>\n",
              "    <tr style=\"text-align: right;\">\n",
              "      <th></th>\n",
              "      <th>label_agreed</th>\n",
              "      <th>label_disagreed</th>\n",
              "      <th>label_unrelated</th>\n",
              "    </tr>\n",
              "  </thead>\n",
              "  <tbody>\n",
              "    <tr>\n",
              "      <th>222939</th>\n",
              "      <td>1</td>\n",
              "      <td>0</td>\n",
              "      <td>0</td>\n",
              "    </tr>\n",
              "    <tr>\n",
              "      <th>56615</th>\n",
              "      <td>0</td>\n",
              "      <td>0</td>\n",
              "      <td>1</td>\n",
              "    </tr>\n",
              "    <tr>\n",
              "      <th>140977</th>\n",
              "      <td>0</td>\n",
              "      <td>0</td>\n",
              "      <td>1</td>\n",
              "    </tr>\n",
              "    <tr>\n",
              "      <th>250715</th>\n",
              "      <td>0</td>\n",
              "      <td>0</td>\n",
              "      <td>1</td>\n",
              "    </tr>\n",
              "    <tr>\n",
              "      <th>108030</th>\n",
              "      <td>0</td>\n",
              "      <td>0</td>\n",
              "      <td>1</td>\n",
              "    </tr>\n",
              "    <tr>\n",
              "      <th>...</th>\n",
              "      <td>...</td>\n",
              "      <td>...</td>\n",
              "      <td>...</td>\n",
              "    </tr>\n",
              "    <tr>\n",
              "      <th>84279</th>\n",
              "      <td>0</td>\n",
              "      <td>1</td>\n",
              "      <td>0</td>\n",
              "    </tr>\n",
              "    <tr>\n",
              "      <th>52147</th>\n",
              "      <td>0</td>\n",
              "      <td>0</td>\n",
              "      <td>1</td>\n",
              "    </tr>\n",
              "    <tr>\n",
              "      <th>126778</th>\n",
              "      <td>1</td>\n",
              "      <td>0</td>\n",
              "      <td>0</td>\n",
              "    </tr>\n",
              "    <tr>\n",
              "      <th>192419</th>\n",
              "      <td>0</td>\n",
              "      <td>0</td>\n",
              "      <td>1</td>\n",
              "    </tr>\n",
              "    <tr>\n",
              "      <th>91193</th>\n",
              "      <td>0</td>\n",
              "      <td>1</td>\n",
              "      <td>0</td>\n",
              "    </tr>\n",
              "  </tbody>\n",
              "</table>\n",
              "<p>179509 rows × 3 columns</p>\n",
              "</div>\n",
              "      <button class=\"colab-df-convert\" onclick=\"convertToInteractive('df-82c9aa42-f742-41fc-bb7f-45a29b072ab0')\"\n",
              "              title=\"Convert this dataframe to an interactive table.\"\n",
              "              style=\"display:none;\">\n",
              "        \n",
              "  <svg xmlns=\"http://www.w3.org/2000/svg\" height=\"24px\"viewBox=\"0 0 24 24\"\n",
              "       width=\"24px\">\n",
              "    <path d=\"M0 0h24v24H0V0z\" fill=\"none\"/>\n",
              "    <path d=\"M18.56 5.44l.94 2.06.94-2.06 2.06-.94-2.06-.94-.94-2.06-.94 2.06-2.06.94zm-11 1L8.5 8.5l.94-2.06 2.06-.94-2.06-.94L8.5 2.5l-.94 2.06-2.06.94zm10 10l.94 2.06.94-2.06 2.06-.94-2.06-.94-.94-2.06-.94 2.06-2.06.94z\"/><path d=\"M17.41 7.96l-1.37-1.37c-.4-.4-.92-.59-1.43-.59-.52 0-1.04.2-1.43.59L10.3 9.45l-7.72 7.72c-.78.78-.78 2.05 0 2.83L4 21.41c.39.39.9.59 1.41.59.51 0 1.02-.2 1.41-.59l7.78-7.78 2.81-2.81c.8-.78.8-2.07 0-2.86zM5.41 20L4 18.59l7.72-7.72 1.47 1.35L5.41 20z\"/>\n",
              "  </svg>\n",
              "      </button>\n",
              "      \n",
              "  <style>\n",
              "    .colab-df-container {\n",
              "      display:flex;\n",
              "      flex-wrap:wrap;\n",
              "      gap: 12px;\n",
              "    }\n",
              "\n",
              "    .colab-df-convert {\n",
              "      background-color: #E8F0FE;\n",
              "      border: none;\n",
              "      border-radius: 50%;\n",
              "      cursor: pointer;\n",
              "      display: none;\n",
              "      fill: #1967D2;\n",
              "      height: 32px;\n",
              "      padding: 0 0 0 0;\n",
              "      width: 32px;\n",
              "    }\n",
              "\n",
              "    .colab-df-convert:hover {\n",
              "      background-color: #E2EBFA;\n",
              "      box-shadow: 0px 1px 2px rgba(60, 64, 67, 0.3), 0px 1px 3px 1px rgba(60, 64, 67, 0.15);\n",
              "      fill: #174EA6;\n",
              "    }\n",
              "\n",
              "    [theme=dark] .colab-df-convert {\n",
              "      background-color: #3B4455;\n",
              "      fill: #D2E3FC;\n",
              "    }\n",
              "\n",
              "    [theme=dark] .colab-df-convert:hover {\n",
              "      background-color: #434B5C;\n",
              "      box-shadow: 0px 1px 3px 1px rgba(0, 0, 0, 0.15);\n",
              "      filter: drop-shadow(0px 1px 2px rgba(0, 0, 0, 0.3));\n",
              "      fill: #FFFFFF;\n",
              "    }\n",
              "  </style>\n",
              "\n",
              "      <script>\n",
              "        const buttonEl =\n",
              "          document.querySelector('#df-82c9aa42-f742-41fc-bb7f-45a29b072ab0 button.colab-df-convert');\n",
              "        buttonEl.style.display =\n",
              "          google.colab.kernel.accessAllowed ? 'block' : 'none';\n",
              "\n",
              "        async function convertToInteractive(key) {\n",
              "          const element = document.querySelector('#df-82c9aa42-f742-41fc-bb7f-45a29b072ab0');\n",
              "          const dataTable =\n",
              "            await google.colab.kernel.invokeFunction('convertToInteractive',\n",
              "                                                     [key], {});\n",
              "          if (!dataTable) return;\n",
              "\n",
              "          const docLinkHtml = 'Like what you see? Visit the ' +\n",
              "            '<a target=\"_blank\" href=https://colab.research.google.com/notebooks/data_table.ipynb>data table notebook</a>'\n",
              "            + ' to learn more about interactive tables.';\n",
              "          element.innerHTML = '';\n",
              "          dataTable['output_type'] = 'display_data';\n",
              "          await google.colab.output.renderOutput(dataTable, element);\n",
              "          const docLink = document.createElement('div');\n",
              "          docLink.innerHTML = docLinkHtml;\n",
              "          element.appendChild(docLink);\n",
              "        }\n",
              "      </script>\n",
              "    </div>\n",
              "  </div>\n",
              "  "
            ]
          },
          "metadata": {},
          "execution_count": 35
        }
      ],
      "source": [
        "y_train1"
      ]
    },
    {
      "cell_type": "code",
      "execution_count": null,
      "metadata": {
        "id": "8rQKV-pxGB6P",
        "scrolled": false
      },
      "outputs": [],
      "source": [
        "y_train1=y_train1.apply(lambda x: x.argmax(), axis=1).values"
      ]
    },
    {
      "cell_type": "code",
      "execution_count": null,
      "metadata": {
        "colab": {
          "base_uri": "https://localhost:8080/"
        },
        "id": "weoxMNI4jhMD",
        "outputId": "93a8f6ce-07e2-4acf-c6cc-6646c79d802d"
      },
      "outputs": [
        {
          "output_type": "execute_result",
          "data": {
            "text/plain": [
              "array([0, 2, 2, ..., 0, 2, 1])"
            ]
          },
          "metadata": {},
          "execution_count": 37
        }
      ],
      "source": [
        "y_train1"
      ]
    },
    {
      "cell_type": "code",
      "execution_count": null,
      "metadata": {
        "id": "iRZY5srJiQKx"
      },
      "outputs": [],
      "source": [
        "#label 0 - agreed\n",
        "#label 1 - disagreed\n",
        "#label 2 - unrelated"
      ]
    },
    {
      "cell_type": "code",
      "execution_count": null,
      "metadata": {
        "colab": {
          "base_uri": "https://localhost:8080/"
        },
        "id": "fG86oP3t7o-9",
        "outputId": "780ac84c-e3e6-4bac-ad7d-dced796f0928"
      },
      "outputs": [
        {
          "output_type": "stream",
          "name": "stdout",
          "text": [
            "                                                com_title\n",
            "254225  luohuohui full body full body wish marriage bo...\n",
            "139259  love li yifeng publicly acknowledged love spri...\n",
            "71199   nigeria refuse repatriate 80000 chinese chinan...\n",
            "68924   traditional chinese medicine recommends reduci...\n",
            "5524    latest market price guangxu silver coin yuan d...\n",
            "...                                                   ...\n",
            "232546  cell phone exploding aftershock remaining sams...\n",
            "220374  fourth set rmb 100 yuan whole bundle appreciat...\n",
            "227698  wangs exgirlfriend sydney love love sweet wang...\n",
            "163029  child onceinalifetime brain development peak m...\n",
            "219048  onion bowl caterpillar fungus easy clear blood...\n",
            "\n",
            "[76933 rows x 1 columns]\n"
          ]
        }
      ],
      "source": [
        "#Training a naive bayes classifier on training dataset\n",
        "from sklearn.naive_bayes import MultinomialNB\n",
        "nb1 = MultinomialNB().fit(x_train1_tfidf, y_train1)\n",
        "print(x_val1)"
      ]
    },
    {
      "cell_type": "code",
      "execution_count": null,
      "metadata": {
        "colab": {
          "base_uri": "https://localhost:8080/"
        },
        "id": "81tS0tXI7o-_",
        "outputId": "ddf6b51a-5ee0-4211-a4dd-1c0c07a259a7"
      },
      "outputs": [
        {
          "output_type": "stream",
          "name": "stdout",
          "text": [
            "(76933, 157262)\n",
            "[2 2 0 ... 2 0 2]\n"
          ]
        }
      ],
      "source": [
        "x_val1_counts = count_vect1.transform(x_val1.iloc[:,0])\n",
        "x_val1_tfidf = tfidf1.transform(x_val1_counts)\n",
        "pred = nb1.predict(x_val1_tfidf)\n",
        "print(x_val1_counts.shape)\n",
        "print(pred)"
      ]
    },
    {
      "cell_type": "code",
      "execution_count": null,
      "metadata": {
        "id": "wG7VcAyHHFim"
      },
      "outputs": [],
      "source": [
        "y_val1 = y_val1.apply(lambda x: x.argmax(), axis=1).values"
      ]
    },
    {
      "cell_type": "code",
      "execution_count": null,
      "metadata": {
        "colab": {
          "base_uri": "https://localhost:8080/"
        },
        "id": "WFhIL7fR7o_A",
        "outputId": "5dba6808-e809-4fc5-8712-668e92820369"
      },
      "outputs": [
        {
          "output_type": "execute_result",
          "data": {
            "text/plain": [
              "0.731805597077977"
            ]
          },
          "metadata": {},
          "execution_count": 42
        }
      ],
      "source": [
        "#calculate accuracy\n",
        "from sklearn.metrics import accuracy_score\n",
        "accu_score1 = accuracy_score(y_val1, pred)\n",
        "accu_score1"
      ]
    },
    {
      "cell_type": "code",
      "execution_count": null,
      "metadata": {
        "colab": {
          "base_uri": "https://localhost:8080/"
        },
        "id": "HAv7Q5S77o_B",
        "outputId": "240b1fa2-98f1-4625-d6c8-09405bf41a03"
      },
      "outputs": [
        {
          "output_type": "execute_result",
          "data": {
            "text/plain": [
              "array([[ 4274,     0, 17923],\n",
              "       [    4,     9,  2029],\n",
              "       [  677,     0, 52017]])"
            ]
          },
          "metadata": {},
          "execution_count": 43
        }
      ],
      "source": [
        "#confusion matrix\n",
        "from sklearn import metrics\n",
        "\n",
        "metrics.confusion_matrix(y_val1, pred)"
      ]
    },
    {
      "cell_type": "code",
      "execution_count": null,
      "metadata": {
        "colab": {
          "base_uri": "https://localhost:8080/"
        },
        "id": "Tz8IVHJ37o_C",
        "outputId": "587613eb-d8ba-4d0d-dd1f-13738cab3b50"
      },
      "outputs": [
        {
          "output_type": "stream",
          "name": "stdout",
          "text": [
            "              precision    recall  f1-score   support\n",
            "\n",
            "           0       0.86      0.19      0.31     22197\n",
            "           1       1.00      0.00      0.01      2042\n",
            "           2       0.72      0.99      0.83     52694\n",
            "\n",
            "    accuracy                           0.73     76933\n",
            "   macro avg       0.86      0.39      0.39     76933\n",
            "weighted avg       0.77      0.73      0.66     76933\n",
            "\n"
          ]
        }
      ],
      "source": [
        "print(metrics.classification_report(list(y_val1), list(pred)))"
      ]
    },
    {
      "cell_type": "code",
      "execution_count": null,
      "metadata": {
        "colab": {
          "base_uri": "https://localhost:8080/"
        },
        "id": "kQukYuQe7o_D",
        "outputId": "6e758ebf-0838-4898-a878-0df210a7e1e5"
      },
      "outputs": [
        {
          "output_type": "execute_result",
          "data": {
            "text/plain": [
              "array([0.72310735, 0.72263384, 0.72057267, 0.7215754 , 0.72465948])"
            ]
          },
          "metadata": {},
          "execution_count": 45
        }
      ],
      "source": [
        "from sklearn.model_selection import cross_val_score\n",
        "\n",
        "accuracy1 = cross_val_score(nb1, x_train1_tfidf, y_train1.ravel(), scoring = 'accuracy', cv = 5)\n",
        "accuracy1"
      ]
    },
    {
      "cell_type": "code",
      "execution_count": null,
      "metadata": {
        "id": "yPMEw9UlKeGb"
      },
      "outputs": [],
      "source": [
        "from sklearn.linear_model import SGDClassifier\n",
        "\n",
        "#svm = SGDClassifier(loss='hinge', penalty='l2', alpha=1e-3, random_state=42, max_iter=5, tol=None).fit(x_train_tfidf, y_train)\n",
        "svm1 = SGDClassifier(loss='hinge', penalty='l2', alpha=1e-3, random_state=42, max_iter=5, tol=None).fit(x_train1_tfidf, y_train1.ravel())"
      ]
    },
    {
      "cell_type": "code",
      "execution_count": null,
      "metadata": {
        "colab": {
          "base_uri": "https://localhost:8080/"
        },
        "id": "hLn4-C1mKeGd",
        "outputId": "be58f9aa-1462-489d-e512-2ae1b6271a12"
      },
      "outputs": [
        {
          "output_type": "stream",
          "name": "stdout",
          "text": [
            "[2 2 2 ... 2 2 2]\n"
          ]
        }
      ],
      "source": [
        "#predicting using SGD model for dataset \n",
        "pred2 = svm1.predict(x_val1_tfidf)\n",
        "print(pred2)"
      ]
    },
    {
      "cell_type": "code",
      "execution_count": null,
      "metadata": {
        "colab": {
          "base_uri": "https://localhost:8080/"
        },
        "id": "w8KE5zPZKeGd",
        "outputId": "53c03a1c-f83c-4b44-9fb9-e9da00b972af"
      },
      "outputs": [
        {
          "output_type": "execute_result",
          "data": {
            "text/plain": [
              "0.6849336435599808"
            ]
          },
          "metadata": {},
          "execution_count": 48
        }
      ],
      "source": [
        "accu_score2 = accuracy_score(y_val1, pred2)\n",
        "accu_score2"
      ]
    },
    {
      "cell_type": "code",
      "execution_count": null,
      "metadata": {
        "colab": {
          "base_uri": "https://localhost:8080/"
        },
        "id": "hDTjicmAKeGe",
        "outputId": "cf6e47a6-4542-4aeb-f93a-9af05d20c6d5"
      },
      "outputs": [
        {
          "output_type": "execute_result",
          "data": {
            "text/plain": [
              "array([[    0,     0, 22197],\n",
              "       [    0,     0,  2042],\n",
              "       [    0,     0, 52694]])"
            ]
          },
          "metadata": {},
          "execution_count": 49
        }
      ],
      "source": [
        "#confusion matrix\n",
        "\n",
        "metrics.confusion_matrix(y_val1, pred2)"
      ]
    },
    {
      "cell_type": "code",
      "execution_count": null,
      "metadata": {
        "colab": {
          "base_uri": "https://localhost:8080/"
        },
        "id": "HoqJcJr8KeGe",
        "outputId": "c6ac4ebb-c38f-441f-e969-2ec01b348406"
      },
      "outputs": [
        {
          "output_type": "stream",
          "name": "stdout",
          "text": [
            "              precision    recall  f1-score   support\n",
            "\n",
            "           0       0.00      0.00      0.00     22197\n",
            "           1       0.00      0.00      0.00      2042\n",
            "           2       0.68      1.00      0.81     52694\n",
            "\n",
            "    accuracy                           0.68     76933\n",
            "   macro avg       0.23      0.33      0.27     76933\n",
            "weighted avg       0.47      0.68      0.56     76933\n",
            "\n"
          ]
        },
        {
          "output_type": "stream",
          "name": "stderr",
          "text": [
            "/usr/local/lib/python3.7/dist-packages/sklearn/metrics/_classification.py:1318: UndefinedMetricWarning: Precision and F-score are ill-defined and being set to 0.0 in labels with no predicted samples. Use `zero_division` parameter to control this behavior.\n",
            "  _warn_prf(average, modifier, msg_start, len(result))\n",
            "/usr/local/lib/python3.7/dist-packages/sklearn/metrics/_classification.py:1318: UndefinedMetricWarning: Precision and F-score are ill-defined and being set to 0.0 in labels with no predicted samples. Use `zero_division` parameter to control this behavior.\n",
            "  _warn_prf(average, modifier, msg_start, len(result))\n",
            "/usr/local/lib/python3.7/dist-packages/sklearn/metrics/_classification.py:1318: UndefinedMetricWarning: Precision and F-score are ill-defined and being set to 0.0 in labels with no predicted samples. Use `zero_division` parameter to control this behavior.\n",
            "  _warn_prf(average, modifier, msg_start, len(result))\n"
          ]
        }
      ],
      "source": [
        "print(metrics.classification_report(list(y_val1), list(pred2)))"
      ]
    },
    {
      "cell_type": "code",
      "execution_count": null,
      "metadata": {
        "colab": {
          "base_uri": "https://localhost:8080/"
        },
        "id": "IGjiW4b2KeGf",
        "outputId": "6aac55d1-8fd9-4fd5-a561-75da2daeadab"
      },
      "outputs": [
        {
          "output_type": "execute_result",
          "data": {
            "text/plain": [
              "array([0.68464152, 0.68466938, 0.68466938, 0.68466938, 0.68468845])"
            ]
          },
          "metadata": {},
          "execution_count": 51
        }
      ],
      "source": [
        "from sklearn.model_selection import cross_val_score\n",
        "#accuracy2 = cross_val_score(svm, x_val_tfidf, y_val.ravel(), scoring = 'accuracy', cv = 5)\n",
        "accuracy2 = cross_val_score(svm1, x_train1_tfidf, y_train1.ravel(), scoring = 'accuracy', cv = 5)\n",
        "accuracy2"
      ]
    },
    {
      "cell_type": "code",
      "execution_count": null,
      "metadata": {
        "colab": {
          "base_uri": "https://localhost:8080/"
        },
        "id": "6Qp3MfBWKeGf",
        "outputId": "35b42f54-1ea4-440c-c46d-ec4f7bd4a161"
      },
      "outputs": [
        {
          "output_type": "stream",
          "name": "stdout",
          "text": [
            "[LibLinear][2 0 0 ... 0 0 2]\n"
          ]
        }
      ],
      "source": [
        "#Logistic Regression\n",
        "from sklearn.linear_model import LogisticRegression\n",
        "#lr = LogisticRegression(verbose=1, solver = 'liblinear', random_state=0, C=5, penalty='l2',max_iter=1000).fit(x_train_tfidf, y_train)\n",
        "lr1 = LogisticRegression(verbose=1, solver = 'liblinear', random_state=0, C=5, penalty='l2',max_iter=1000).fit(x_train1_tfidf, y_train1.ravel())\n",
        "#predicting using SVM model for dataset \n",
        "pred3 = lr1.predict(x_val1_tfidf)\n",
        "print(pred3)"
      ]
    },
    {
      "cell_type": "code",
      "execution_count": null,
      "metadata": {
        "colab": {
          "base_uri": "https://localhost:8080/"
        },
        "id": "0yPGfEz_KeGg",
        "outputId": "2d80ca36-4b00-48fa-f933-4913e5a16319"
      },
      "outputs": [
        {
          "output_type": "execute_result",
          "data": {
            "text/plain": [
              "0.8091066252453434"
            ]
          },
          "metadata": {},
          "execution_count": 53
        }
      ],
      "source": [
        "accu_score3 = accuracy_score(y_val1, pred3)\n",
        "accu_score3"
      ]
    },
    {
      "cell_type": "code",
      "execution_count": null,
      "metadata": {
        "colab": {
          "base_uri": "https://localhost:8080/"
        },
        "id": "N9anFcppKeGg",
        "outputId": "680db589-8624-48e4-ecf9-76b270a6734b"
      },
      "outputs": [
        {
          "output_type": "execute_result",
          "data": {
            "text/plain": [
              "array([[13870,    22,  8305],\n",
              "       [   80,   422,  1540],\n",
              "       [ 4612,   127, 47955]])"
            ]
          },
          "metadata": {},
          "execution_count": 54
        }
      ],
      "source": [
        "metrics.confusion_matrix(y_val1, pred3)"
      ]
    },
    {
      "cell_type": "code",
      "execution_count": null,
      "metadata": {
        "colab": {
          "base_uri": "https://localhost:8080/"
        },
        "id": "BbR7XU0-KeGh",
        "outputId": "5c47039b-520c-4af6-89aa-9d01a4c166a6"
      },
      "outputs": [
        {
          "output_type": "stream",
          "name": "stdout",
          "text": [
            "              precision    recall  f1-score   support\n",
            "\n",
            "           0       0.75      0.62      0.68     22197\n",
            "           1       0.74      0.21      0.32      2042\n",
            "           2       0.83      0.91      0.87     52694\n",
            "\n",
            "    accuracy                           0.81     76933\n",
            "   macro avg       0.77      0.58      0.62     76933\n",
            "weighted avg       0.80      0.81      0.80     76933\n",
            "\n"
          ]
        }
      ],
      "source": [
        "print(metrics.classification_report(list(y_val1), list(pred3)))"
      ]
    },
    {
      "cell_type": "code",
      "execution_count": null,
      "metadata": {
        "colab": {
          "base_uri": "https://localhost:8080/"
        },
        "id": "WjmDe1RqKeGh",
        "outputId": "9d2f3f03-d0ee-4102-b6da-de468cca13ef"
      },
      "outputs": [
        {
          "output_type": "stream",
          "name": "stdout",
          "text": [
            "[LibLinear][LibLinear][LibLinear][LibLinear][LibLinear]"
          ]
        },
        {
          "output_type": "execute_result",
          "data": {
            "text/plain": [
              "array([0.80469055, 0.80182163, 0.80313074, 0.80151524, 0.80231748])"
            ]
          },
          "metadata": {},
          "execution_count": 56
        }
      ],
      "source": [
        "from sklearn.model_selection import cross_val_score\n",
        "accuracy3 = cross_val_score(lr1, x_train1_tfidf, y_train1.ravel(), scoring = 'accuracy', cv = 5)\n",
        "accuracy3"
      ]
    },
    {
      "cell_type": "code",
      "execution_count": null,
      "metadata": {
        "colab": {
          "base_uri": "https://localhost:8080/"
        },
        "id": "QA341PtgKeGh",
        "outputId": "1ec83a3b-4205-4f01-c3b3-d3c3095da4ea"
      },
      "outputs": [
        {
          "output_type": "stream",
          "name": "stdout",
          "text": [
            "[2 2 2 ... 2 2 2]\n"
          ]
        }
      ],
      "source": [
        "#Ramdom Forest\n",
        "from sklearn.ensemble import RandomForestClassifier\n",
        "rf1 = RandomForestClassifier(max_depth = 2, random_state = 0).fit(x_train1_tfidf, y_train1.ravel())\n",
        "pred4 = rf1.predict(x_val1_tfidf)\n",
        "print(pred4)"
      ]
    },
    {
      "cell_type": "code",
      "execution_count": null,
      "metadata": {
        "colab": {
          "base_uri": "https://localhost:8080/"
        },
        "id": "v9qUnR1IKeGi",
        "outputId": "87ef1804-0524-4a0f-9648-300303afd302"
      },
      "outputs": [
        {
          "output_type": "execute_result",
          "data": {
            "text/plain": [
              "array([[    0,     0, 22197],\n",
              "       [    0,     0,  2042],\n",
              "       [    0,     0, 52694]])"
            ]
          },
          "metadata": {},
          "execution_count": 58
        }
      ],
      "source": [
        "metrics.confusion_matrix(y_val1, pred4)"
      ]
    },
    {
      "cell_type": "code",
      "execution_count": null,
      "metadata": {
        "colab": {
          "base_uri": "https://localhost:8080/"
        },
        "id": "ZSBZqSocKeGi",
        "outputId": "9d7467c6-c1d6-4cb7-923f-025bc7636d76"
      },
      "outputs": [
        {
          "output_type": "execute_result",
          "data": {
            "text/plain": [
              "0.6849336435599808"
            ]
          },
          "metadata": {},
          "execution_count": 59
        }
      ],
      "source": [
        "accu_score4 = accuracy_score(y_val1, pred4)\n",
        "accu_score4"
      ]
    },
    {
      "cell_type": "code",
      "execution_count": null,
      "metadata": {
        "colab": {
          "base_uri": "https://localhost:8080/"
        },
        "id": "KhcEyHxNKeGi",
        "outputId": "f067424d-5346-4260-cc93-fc5b0c6d8418"
      },
      "outputs": [
        {
          "output_type": "stream",
          "name": "stdout",
          "text": [
            "              precision    recall  f1-score   support\n",
            "\n",
            "           0       0.00      0.00      0.00     22197\n",
            "           1       0.00      0.00      0.00      2042\n",
            "           2       0.68      1.00      0.81     52694\n",
            "\n",
            "    accuracy                           0.68     76933\n",
            "   macro avg       0.23      0.33      0.27     76933\n",
            "weighted avg       0.47      0.68      0.56     76933\n",
            "\n"
          ]
        },
        {
          "output_type": "stream",
          "name": "stderr",
          "text": [
            "/usr/local/lib/python3.7/dist-packages/sklearn/metrics/_classification.py:1318: UndefinedMetricWarning: Precision and F-score are ill-defined and being set to 0.0 in labels with no predicted samples. Use `zero_division` parameter to control this behavior.\n",
            "  _warn_prf(average, modifier, msg_start, len(result))\n",
            "/usr/local/lib/python3.7/dist-packages/sklearn/metrics/_classification.py:1318: UndefinedMetricWarning: Precision and F-score are ill-defined and being set to 0.0 in labels with no predicted samples. Use `zero_division` parameter to control this behavior.\n",
            "  _warn_prf(average, modifier, msg_start, len(result))\n",
            "/usr/local/lib/python3.7/dist-packages/sklearn/metrics/_classification.py:1318: UndefinedMetricWarning: Precision and F-score are ill-defined and being set to 0.0 in labels with no predicted samples. Use `zero_division` parameter to control this behavior.\n",
            "  _warn_prf(average, modifier, msg_start, len(result))\n"
          ]
        }
      ],
      "source": [
        "print(metrics.classification_report(list(y_val1), list(pred4)))"
      ]
    },
    {
      "cell_type": "code",
      "execution_count": null,
      "metadata": {
        "colab": {
          "base_uri": "https://localhost:8080/"
        },
        "id": "LSpMzOYqKeGj",
        "outputId": "95fbc2e6-5bf3-4bbb-bd75-ea5c60929c07"
      },
      "outputs": [
        {
          "output_type": "execute_result",
          "data": {
            "text/plain": [
              "array([0.68464152, 0.68466938, 0.68466938, 0.68466938, 0.68468845])"
            ]
          },
          "metadata": {},
          "execution_count": 61
        }
      ],
      "source": [
        "accuracy4 = cross_val_score(rf1, x_train1_tfidf, y_train1.ravel(), scoring = 'accuracy', cv = 5)\n",
        "accuracy4"
      ]
    },
    {
      "cell_type": "code",
      "execution_count": null,
      "metadata": {
        "colab": {
          "base_uri": "https://localhost:8080/"
        },
        "id": "SyZYwh44KeGj",
        "outputId": "48285281-b903-44a4-96f6-101254e957bc"
      },
      "outputs": [
        {
          "output_type": "stream",
          "name": "stdout",
          "text": [
            "[2 2 0 ... 0 0 2]\n"
          ]
        }
      ],
      "source": [
        "#Support Vector Classifier\n",
        "from sklearn.svm import LinearSVC\n",
        "svc1 = LinearSVC(random_state = 0).fit(x_train1_tfidf, y_train1.ravel())\n",
        "pred5 = svc1.predict(x_val1_tfidf)\n",
        "print(pred5)"
      ]
    },
    {
      "cell_type": "code",
      "execution_count": null,
      "metadata": {
        "colab": {
          "base_uri": "https://localhost:8080/"
        },
        "id": "0Q08zV7AKeGj",
        "outputId": "9a9cf7a3-984f-44de-fdc6-29b8ab9263b0"
      },
      "outputs": [
        {
          "output_type": "execute_result",
          "data": {
            "text/plain": [
              "0.8163206946303927"
            ]
          },
          "metadata": {},
          "execution_count": 63
        }
      ],
      "source": [
        "accu_score5 = accuracy_score(y_val1, pred5)\n",
        "accu_score5"
      ]
    },
    {
      "cell_type": "code",
      "execution_count": null,
      "metadata": {
        "colab": {
          "base_uri": "https://localhost:8080/"
        },
        "id": "zqAgiSFeKeGk",
        "outputId": "3a1ffd99-7b8e-412f-d92b-12c63f256df2"
      },
      "outputs": [
        {
          "output_type": "execute_result",
          "data": {
            "text/plain": [
              "array([0.80970419, 0.80881288, 0.80959278, 0.80619464, 0.80869614])"
            ]
          },
          "metadata": {},
          "execution_count": 64
        }
      ],
      "source": [
        "accuracy5 = cross_val_score(svc1, x_train1_tfidf, y_train1.ravel(), scoring = 'accuracy', cv = 5)\n",
        "accuracy5"
      ]
    },
    {
      "cell_type": "code",
      "execution_count": null,
      "metadata": {
        "colab": {
          "base_uri": "https://localhost:8080/"
        },
        "id": "kEi4WCQKKeGk",
        "outputId": "d37c2fac-eec0-4592-c0a0-2acc615f1981"
      },
      "outputs": [
        {
          "output_type": "execute_result",
          "data": {
            "text/plain": [
              "array([[14521,    26,  7650],\n",
              "       [   80,   538,  1424],\n",
              "       [ 4783,   168, 47743]])"
            ]
          },
          "metadata": {},
          "execution_count": 65
        }
      ],
      "source": [
        "metrics.confusion_matrix(y_val1, pred5)"
      ]
    },
    {
      "cell_type": "code",
      "execution_count": null,
      "metadata": {
        "colab": {
          "base_uri": "https://localhost:8080/"
        },
        "id": "4wQdPuUvKeGl",
        "outputId": "122988cd-d202-4853-f382-8aed7a73bd21"
      },
      "outputs": [
        {
          "output_type": "stream",
          "name": "stdout",
          "text": [
            "              precision    recall  f1-score   support\n",
            "\n",
            "           0       0.75      0.65      0.70     22197\n",
            "           1       0.73      0.26      0.39      2042\n",
            "           2       0.84      0.91      0.87     52694\n",
            "\n",
            "    accuracy                           0.82     76933\n",
            "   macro avg       0.77      0.61      0.65     76933\n",
            "weighted avg       0.81      0.82      0.81     76933\n",
            "\n"
          ]
        }
      ],
      "source": [
        "print(metrics.classification_report(list(y_val1), list(pred5)))"
      ]
    },
    {
      "cell_type": "code",
      "execution_count": null,
      "metadata": {
        "colab": {
          "base_uri": "https://localhost:8080/"
        },
        "id": "v29SBu2oS6Vl",
        "outputId": "e4f630c5-b5fd-4450-a61b-11c90165403e"
      },
      "outputs": [
        {
          "output_type": "execute_result",
          "data": {
            "text/plain": [
              "(256442, 197530)"
            ]
          },
          "metadata": {},
          "execution_count": 67
        }
      ],
      "source": [
        "count_vect2 = CountVectorizer()\n",
        "x_train2_counts = count_vect2.fit_transform(one_hot_fake[[\"com_title\"]].iloc[:,0])\n",
        "x_train2_counts.shape"
      ]
    },
    {
      "cell_type": "code",
      "execution_count": null,
      "metadata": {
        "colab": {
          "base_uri": "https://localhost:8080/"
        },
        "id": "EqF8K5lvS6Vm",
        "outputId": "5dd0cb37-e965-4ee7-a42b-5d5734c913ca"
      },
      "outputs": [
        {
          "output_type": "execute_result",
          "data": {
            "text/plain": [
              "<256442x197530 sparse matrix of type '<class 'numpy.int64'>'\n",
              "\twith 4304323 stored elements in Compressed Sparse Row format>"
            ]
          },
          "metadata": {},
          "execution_count": 68
        }
      ],
      "source": [
        "x_train2_counts"
      ]
    },
    {
      "cell_type": "code",
      "execution_count": null,
      "metadata": {
        "colab": {
          "base_uri": "https://localhost:8080/"
        },
        "id": "3c3Dl1o2S6Vn",
        "outputId": "78b97f77-3952-4474-ebcb-49477279dc50"
      },
      "outputs": [
        {
          "output_type": "execute_result",
          "data": {
            "text/plain": [
              "9713"
            ]
          },
          "metadata": {},
          "execution_count": 69
        }
      ],
      "source": [
        "count_vect2.vocabulary_.get(u'algorithm')\n"
      ]
    },
    {
      "cell_type": "code",
      "execution_count": null,
      "metadata": {
        "id": "U1E7os8RUovO"
      },
      "outputs": [],
      "source": [
        "\n",
        "y_train2 = one_hot_fake[[\"label_agreed\", \"label_disagreed\", \"label_unrelated\"]].apply(lambda x: x.argmax(), axis=1).values"
      ]
    },
    {
      "cell_type": "code",
      "execution_count": null,
      "metadata": {
        "colab": {
          "base_uri": "https://localhost:8080/"
        },
        "id": "z5ZajCp9VMzM",
        "outputId": "11a091c5-83bf-442c-c033-2a4ec9150222"
      },
      "outputs": [
        {
          "output_type": "execute_result",
          "data": {
            "text/plain": [
              "array([2, 2, 2, ..., 2, 2, 2])"
            ]
          },
          "metadata": {},
          "execution_count": 71
        }
      ],
      "source": [
        "y_train2"
      ]
    },
    {
      "cell_type": "code",
      "execution_count": null,
      "metadata": {
        "colab": {
          "base_uri": "https://localhost:8080/",
          "height": 317
        },
        "id": "pCSgrm_1ec9Q",
        "outputId": "ed7705ce-be7a-4b17-86ea-2aae7638b843"
      },
      "outputs": [
        {
          "output_type": "stream",
          "name": "stdout",
          "text": [
            "Class=2, n=175598 (33.333%)\n",
            "Class=0, n=175598 (33.333%)\n",
            "Class=1, n=175598 (33.333%)\n"
          ]
        },
        {
          "output_type": "display_data",
          "data": {
            "text/plain": [
              "<Figure size 432x288 with 1 Axes>"
            ],
            "image/png": "[encoded data removed]"
          },
          "metadata": {
            "needs_background": "light"
          }
        }
      ],
      "source": [
        "#data augmentation - oversampling\n",
        "from imblearn.over_sampling import SMOTE\n",
        "oversample = SMOTE()\n",
        "#x_train = pd.DataFrame(x_train)\n",
        "#X_resampled, y_resampled = oversample.fit_resample(x_train_counts, y_train)\n",
        "X_resampled, y_resampled = oversample.fit_resample(x_train2_counts, y_train2)\n",
        "#X, y = oversample.fit_resample(X, y)\n",
        "# summarize distribution\n",
        "counter = Counter(y_resampled)\n",
        "for k,v in counter.items():\n",
        "\tper = v / len(y_resampled) * 100\n",
        "#\tprint('Class=%s, n=%d (%.3f%%)' % (k, v, per))\n",
        "\tprint('Class=%s, n=%d (%.3f%%)' % (k, v, per))\n",
        "# plot the distribution\n",
        "pyplot.bar(counter.keys(), counter.values())\n",
        "pyplot.show()"
      ]
    },
    {
      "cell_type": "code",
      "execution_count": null,
      "metadata": {
        "colab": {
          "base_uri": "https://localhost:8080/"
        },
        "id": "h_GxpKxkQOex",
        "outputId": "74d823c1-c263-4f02-fabb-7af068fc30d8"
      },
      "outputs": [
        {
          "output_type": "execute_result",
          "data": {
            "text/plain": [
              "9713"
            ]
          },
          "metadata": {},
          "execution_count": 73
        }
      ],
      "source": [
        "count_vect2.vocabulary_.get(u'algorithm')\n"
      ]
    },
    {
      "cell_type": "code",
      "execution_count": null,
      "metadata": {
        "id": "wTjXwfK5Q5gz"
      },
      "outputs": [],
      "source": [
        "x_train2 = X_resampled\n",
        "y_train2 = y_resampled\n"
      ]
    },
    {
      "cell_type": "code",
      "execution_count": null,
      "metadata": {
        "id": "Xm8orLspV3Kj"
      },
      "outputs": [],
      "source": [
        "#splitting dataset into training and validation set\n",
        "x_train2, x_val2, y_train2, y_val2 = train_test_split(x_train2, y_train2, test_size = 0.3, shuffle = True)"
      ]
    },
    {
      "cell_type": "code",
      "execution_count": null,
      "metadata": {
        "colab": {
          "base_uri": "https://localhost:8080/"
        },
        "id": "4cukqNuNS6Vn",
        "outputId": "e29c7eb1-0aaf-46d4-a5d6-56ffff9d53c7"
      },
      "outputs": [
        {
          "output_type": "execute_result",
          "data": {
            "text/plain": [
              "(368755, 197530)"
            ]
          },
          "metadata": {},
          "execution_count": 76
        }
      ],
      "source": [
        "#tf-idf\n",
        "from sklearn.feature_extraction.text import TfidfTransformer\n",
        "\n",
        "tfidf2 = TfidfTransformer()\n",
        "x_train2_tfidf = tfidf2.fit_transform(x_train2)\n",
        "\n",
        "x_train2_tfidf.shape"
      ]
    },
    {
      "cell_type": "code",
      "execution_count": null,
      "metadata": {
        "id": "7huoiz-5QohA"
      },
      "outputs": [],
      "source": [
        "#Training a naive bayes classifier on training dataset\n",
        "from sklearn.naive_bayes import MultinomialNB\n",
        "\n",
        "nb2 = MultinomialNB().fit(x_train2_tfidf, y_train2.ravel())\n"
      ]
    },
    {
      "cell_type": "code",
      "execution_count": null,
      "metadata": {
        "colab": {
          "base_uri": "https://localhost:8080/"
        },
        "id": "ZyMT_SjLQp-G",
        "outputId": "083c5e59-2a4f-4ce2-afe6-1b0064951df2"
      },
      "outputs": [
        {
          "output_type": "stream",
          "name": "stdout",
          "text": [
            "(158039, 197530)\n",
            "[2 0 2 ... 2 0 1]\n"
          ]
        }
      ],
      "source": [
        "#x_val_counts = count_vect.transform(x_val.iloc[:,0])\n",
        "x_val2_tfidf = tfidf2.transform(x_val2)\n",
        "dpred = nb2.predict(x_val2_tfidf)\n",
        "print(x_val2.shape)\n",
        "print(dpred)"
      ]
    },
    {
      "cell_type": "code",
      "execution_count": null,
      "metadata": {
        "colab": {
          "base_uri": "https://localhost:8080/"
        },
        "id": "1a0NThriXjj-",
        "outputId": "e39a0f9b-0084-4a2a-fe51-7cbfe88dfb1f"
      },
      "outputs": [
        {
          "output_type": "execute_result",
          "data": {
            "text/plain": [
              "0.7802884098228918"
            ]
          },
          "metadata": {},
          "execution_count": 79
        }
      ],
      "source": [
        "#calculate accuracy\n",
        "from sklearn.metrics import accuracy_score\n",
        "daccu_score1 = accuracy_score(y_val2, dpred)\n",
        "daccu_score1"
      ]
    },
    {
      "cell_type": "code",
      "execution_count": null,
      "metadata": {
        "colab": {
          "base_uri": "https://localhost:8080/"
        },
        "id": "VIGBJk8tZPc-",
        "outputId": "41bc0744-df3c-4dd6-b0b1-2df64799e949"
      },
      "outputs": [
        {
          "output_type": "execute_result",
          "data": {
            "text/plain": [
              "array([[42792,  2863,  7275],\n",
              "       [ 2178, 46202,  4154],\n",
              "       [14878,  3375, 34322]])"
            ]
          },
          "metadata": {},
          "execution_count": 80
        }
      ],
      "source": [
        "#confusion matrix\n",
        "from sklearn import metrics\n",
        "\n",
        "metrics.confusion_matrix(y_val2, dpred)"
      ]
    },
    {
      "cell_type": "code",
      "execution_count": null,
      "metadata": {
        "colab": {
          "base_uri": "https://localhost:8080/"
        },
        "id": "zA8lH6PqMIFJ",
        "outputId": "66a4f9b9-e582-40bf-c5f3-88bb95259a21"
      },
      "outputs": [
        {
          "output_type": "stream",
          "name": "stdout",
          "text": [
            "              precision    recall  f1-score   support\n",
            "\n",
            "           0       0.72      0.81      0.76     52930\n",
            "           1       0.88      0.88      0.88     52534\n",
            "           2       0.75      0.65      0.70     52575\n",
            "\n",
            "    accuracy                           0.78    158039\n",
            "   macro avg       0.78      0.78      0.78    158039\n",
            "weighted avg       0.78      0.78      0.78    158039\n",
            "\n"
          ]
        }
      ],
      "source": [
        "print(metrics.classification_report(list(y_val2), list(dpred)))"
      ]
    },
    {
      "cell_type": "code",
      "execution_count": null,
      "metadata": {
        "colab": {
          "base_uri": "https://localhost:8080/"
        },
        "id": "FzX-E9tdqG_Y",
        "outputId": "8f30d43a-cb8b-4d21-d5ce-893c0d9591ab"
      },
      "outputs": [
        {
          "output_type": "execute_result",
          "data": {
            "text/plain": [
              "array([2, 0, 2, ..., 2, 0, 1])"
            ]
          },
          "metadata": {},
          "execution_count": 82
        }
      ],
      "source": [
        "dpred"
      ]
    },
    {
      "cell_type": "code",
      "execution_count": null,
      "metadata": {
        "colab": {
          "base_uri": "https://localhost:8080/"
        },
        "id": "f0n4yfpz81hJ",
        "outputId": "a846cc8c-139c-4c16-ea37-148975769b77"
      },
      "outputs": [
        {
          "output_type": "execute_result",
          "data": {
            "text/plain": [
              "array([0.77928435, 0.77861995, 0.7781047 , 0.77756234, 0.77866063])"
            ]
          },
          "metadata": {},
          "execution_count": 83
        }
      ],
      "source": [
        "from sklearn.model_selection import cross_val_score\n",
        "\n",
        "daccuracy1 = cross_val_score(nb2, x_train2_tfidf, y_train2.ravel(), scoring = 'accuracy', cv = 5)\n",
        "daccuracy1"
      ]
    },
    {
      "cell_type": "code",
      "execution_count": null,
      "metadata": {
        "id": "EwNaOF_8Q_zI"
      },
      "outputs": [],
      "source": [
        "#accu1 = np.mean(pred == y_val)\n",
        "\n",
        "#print(\"accuracy is \", accu1)"
      ]
    },
    {
      "cell_type": "code",
      "execution_count": null,
      "metadata": {
        "id": "lTtIzzmnCdSf"
      },
      "outputs": [],
      "source": [
        "from sklearn.linear_model import SGDClassifier\n",
        "\n",
        "#svm = SGDClassifier(loss='hinge', penalty='l2', alpha=1e-3, random_state=42, max_iter=5, tol=None).fit(x_train_tfidf, y_train)\n",
        "svm2 = SGDClassifier(loss='hinge', penalty='l2', alpha=1e-3, random_state=42, max_iter=5, tol=None).fit(x_train2_tfidf, y_train2.ravel())"
      ]
    },
    {
      "cell_type": "code",
      "execution_count": null,
      "metadata": {
        "colab": {
          "base_uri": "https://localhost:8080/"
        },
        "id": "iCbSqVuMFieT",
        "outputId": "5a230ca9-aa77-48af-bfb2-f2f3dc714e7f"
      },
      "outputs": [
        {
          "output_type": "stream",
          "name": "stdout",
          "text": [
            "[2 0 1 ... 1 0 1]\n"
          ]
        }
      ],
      "source": [
        "#predicting using SVM model for dataset \n",
        "dpred2 = svm2.predict(x_val2_tfidf)\n",
        "print(dpred2)"
      ]
    },
    {
      "cell_type": "code",
      "execution_count": null,
      "metadata": {
        "colab": {
          "base_uri": "https://localhost:8080/"
        },
        "id": "gezpdPRaYa0G",
        "outputId": "a8014ea7-65ca-42c1-928d-4bff12f8f85f"
      },
      "outputs": [
        {
          "output_type": "execute_result",
          "data": {
            "text/plain": [
              "0.6372034750915914"
            ]
          },
          "metadata": {},
          "execution_count": 87
        }
      ],
      "source": [
        "daccu_score2 = accuracy_score(y_val2, dpred2)\n",
        "daccu_score2"
      ]
    },
    {
      "cell_type": "code",
      "execution_count": null,
      "metadata": {
        "colab": {
          "base_uri": "https://localhost:8080/"
        },
        "id": "ImbxrMm9bpM2",
        "outputId": "87b02aaf-0565-428e-b5e1-49d70d022987"
      },
      "outputs": [
        {
          "output_type": "execute_result",
          "data": {
            "text/plain": [
              "array([[40895,  8287,  3748],\n",
              "       [ 2246, 49210,  1078],\n",
              "       [23369, 18608, 10598]])"
            ]
          },
          "metadata": {},
          "execution_count": 88
        }
      ],
      "source": [
        "#confusion matrix\n",
        "\n",
        "metrics.confusion_matrix(y_val2, dpred2)"
      ]
    },
    {
      "cell_type": "code",
      "execution_count": null,
      "metadata": {
        "colab": {
          "base_uri": "https://localhost:8080/"
        },
        "id": "ghLMcQ5nMWzp",
        "outputId": "f46be392-2ff4-4be3-c672-3b89378e103d"
      },
      "outputs": [
        {
          "output_type": "stream",
          "name": "stdout",
          "text": [
            "              precision    recall  f1-score   support\n",
            "\n",
            "           0       0.61      0.77      0.68     52930\n",
            "           1       0.65      0.94      0.77     52534\n",
            "           2       0.69      0.20      0.31     52575\n",
            "\n",
            "    accuracy                           0.64    158039\n",
            "   macro avg       0.65      0.64      0.59    158039\n",
            "weighted avg       0.65      0.64      0.59    158039\n",
            "\n"
          ]
        }
      ],
      "source": [
        "print(metrics.classification_report(list(y_val2), list(dpred2)))"
      ]
    },
    {
      "cell_type": "code",
      "execution_count": null,
      "metadata": {
        "colab": {
          "base_uri": "https://localhost:8080/"
        },
        "id": "uqyOZ_GyGE7Y",
        "outputId": "79d7efd3-4667-4cae-bb80-4b586de8f8f7"
      },
      "outputs": [
        {
          "output_type": "execute_result",
          "data": {
            "text/plain": [
              "array([0.63951675, 0.63862185, 0.63901506, 0.63740153, 0.63944896])"
            ]
          },
          "metadata": {},
          "execution_count": 90
        }
      ],
      "source": [
        "from sklearn.model_selection import cross_val_score\n",
        "#accuracy2 = cross_val_score(svm, x_val_tfidf, y_val.ravel(), scoring = 'accuracy', cv = 5)\n",
        "accuracy2 = cross_val_score(svm2, x_train2_tfidf, y_train2.ravel(), scoring = 'accuracy', cv = 5)\n",
        "accuracy2"
      ]
    },
    {
      "cell_type": "code",
      "execution_count": null,
      "metadata": {
        "colab": {
          "base_uri": "https://localhost:8080/"
        },
        "id": "e9z_Vz8r1xO2",
        "outputId": "8fb6f154-e440-4248-c601-f06330212879"
      },
      "outputs": [
        {
          "output_type": "stream",
          "name": "stdout",
          "text": [
            "[LibLinear][2 0 2 ... 2 0 1]\n"
          ]
        }
      ],
      "source": [
        "#Logistic Regression\n",
        "from sklearn.linear_model import LogisticRegression\n",
        "#lr = LogisticRegression(verbose=1, solver = 'liblinear', random_state=0, C=5, penalty='l2',max_iter=1000).fit(x_train_tfidf, y_train)\n",
        "lr2 = LogisticRegression(verbose=1, solver = 'liblinear', random_state=0, C=5, penalty='l2',max_iter=1000).fit(x_train2_tfidf, y_train2.ravel())\n",
        "#predicting using SVM model for dataset \n",
        "dpred3 = lr2.predict(x_val2_tfidf)\n",
        "print(dpred3)"
      ]
    },
    {
      "cell_type": "code",
      "execution_count": null,
      "metadata": {
        "colab": {
          "base_uri": "https://localhost:8080/"
        },
        "id": "jQ-KTjgXYmv_",
        "outputId": "5f7c644f-74e4-4cf3-bb27-b1fc932b44ce"
      },
      "outputs": [
        {
          "output_type": "execute_result",
          "data": {
            "text/plain": [
              "0.8584906257316232"
            ]
          },
          "metadata": {},
          "execution_count": 92
        }
      ],
      "source": [
        "daccu_score3 = accuracy_score(y_val2, dpred3)\n",
        "daccu_score3"
      ]
    },
    {
      "cell_type": "code",
      "execution_count": null,
      "metadata": {
        "colab": {
          "base_uri": "https://localhost:8080/"
        },
        "id": "OMzVBdUX778X",
        "outputId": "2214014d-3c21-4cc8-ca16-d5595477c0d3"
      },
      "outputs": [
        {
          "output_type": "execute_result",
          "data": {
            "text/plain": [
              "array([[44382,  2438,  6110],\n",
              "       [  813, 50924,   797],\n",
              "       [ 9680,  2526, 40369]])"
            ]
          },
          "metadata": {},
          "execution_count": 93
        }
      ],
      "source": [
        "metrics.confusion_matrix(y_val2, dpred3)"
      ]
    },
    {
      "cell_type": "code",
      "execution_count": null,
      "metadata": {
        "colab": {
          "base_uri": "https://localhost:8080/"
        },
        "id": "OpzER4tEMcxq",
        "outputId": "9a4a9ffc-3440-4c63-8405-3f5f02e1d03b"
      },
      "outputs": [
        {
          "output_type": "stream",
          "name": "stdout",
          "text": [
            "              precision    recall  f1-score   support\n",
            "\n",
            "           0       0.81      0.84      0.82     52930\n",
            "           1       0.91      0.97      0.94     52534\n",
            "           2       0.85      0.77      0.81     52575\n",
            "\n",
            "    accuracy                           0.86    158039\n",
            "   macro avg       0.86      0.86      0.86    158039\n",
            "weighted avg       0.86      0.86      0.86    158039\n",
            "\n"
          ]
        }
      ],
      "source": [
        "print(metrics.classification_report(list(y_val2), list(dpred3)))"
      ]
    },
    {
      "cell_type": "code",
      "execution_count": null,
      "metadata": {
        "colab": {
          "base_uri": "https://localhost:8080/"
        },
        "id": "MfZfWEuT6xCz",
        "outputId": "a30d1aeb-b34f-424c-9d81-2503ee85127b"
      },
      "outputs": [
        {
          "output_type": "stream",
          "name": "stdout",
          "text": [
            "[LibLinear][LibLinear][LibLinear][LibLinear][LibLinear]"
          ]
        },
        {
          "output_type": "execute_result",
          "data": {
            "text/plain": [
              "array([0.85434774, 0.85400876, 0.85357487, 0.8548901 , 0.85433418])"
            ]
          },
          "metadata": {},
          "execution_count": 95
        }
      ],
      "source": [
        "from sklearn.model_selection import cross_val_score\n",
        "daccuracy3 = cross_val_score(lr2, x_train2_tfidf, y_train2.ravel(), scoring = 'accuracy', cv = 5)\n",
        "daccuracy3"
      ]
    },
    {
      "cell_type": "code",
      "execution_count": null,
      "metadata": {
        "colab": {
          "base_uri": "https://localhost:8080/"
        },
        "id": "k1709i7atcc1",
        "outputId": "1f303664-892f-4d80-c775-30a4df7f334e"
      },
      "outputs": [
        {
          "output_type": "stream",
          "name": "stdout",
          "text": [
            "[2 2 2 ... 2 1 1]\n"
          ]
        }
      ],
      "source": [
        "#Ramdom Forest\n",
        "from sklearn.ensemble import RandomForestClassifier\n",
        "rf2 = RandomForestClassifier(max_depth = 2, random_state = 0).fit(x_train2_tfidf, y_train2.ravel())\n",
        "dpred4 = rf2.predict(x_val2_tfidf)\n",
        "print(dpred4)"
      ]
    },
    {
      "cell_type": "code",
      "execution_count": null,
      "metadata": {
        "colab": {
          "base_uri": "https://localhost:8080/"
        },
        "id": "esN4P9vB8VBd",
        "outputId": "d1b9f118-0908-47bd-e87e-d14115c26dc0"
      },
      "outputs": [
        {
          "output_type": "execute_result",
          "data": {
            "text/plain": [
              "array([[ 9422, 20299, 23209],\n",
              "       [  715, 44660,  7159],\n",
              "       [ 5182, 16012, 31381]])"
            ]
          },
          "metadata": {},
          "execution_count": 97
        }
      ],
      "source": [
        "metrics.confusion_matrix(y_val2, dpred4)"
      ]
    },
    {
      "cell_type": "code",
      "execution_count": null,
      "metadata": {
        "colab": {
          "base_uri": "https://localhost:8080/"
        },
        "id": "NHdusSUnvkTf",
        "outputId": "b7c0a0da-3239-4d36-b3ac-85f6e51daeb1"
      },
      "outputs": [
        {
          "output_type": "execute_result",
          "data": {
            "text/plain": [
              "0.5407715816981884"
            ]
          },
          "metadata": {},
          "execution_count": 98
        }
      ],
      "source": [
        "daccu_score4 = accuracy_score(y_val2, dpred4)\n",
        "daccu_score4"
      ]
    },
    {
      "cell_type": "code",
      "execution_count": null,
      "metadata": {
        "colab": {
          "base_uri": "https://localhost:8080/"
        },
        "id": "HjUBnQyKMl6d",
        "outputId": "23c33baa-c067-472b-8b6d-6169ded17766"
      },
      "outputs": [
        {
          "output_type": "stream",
          "name": "stdout",
          "text": [
            "              precision    recall  f1-score   support\n",
            "\n",
            "           0       0.62      0.18      0.28     52930\n",
            "           1       0.55      0.85      0.67     52534\n",
            "           2       0.51      0.60      0.55     52575\n",
            "\n",
            "    accuracy                           0.54    158039\n",
            "   macro avg       0.56      0.54      0.50    158039\n",
            "weighted avg       0.56      0.54      0.50    158039\n",
            "\n"
          ]
        }
      ],
      "source": [
        "print(metrics.classification_report(list(y_val2), list(dpred4)))"
      ]
    },
    {
      "cell_type": "code",
      "execution_count": null,
      "metadata": {
        "colab": {
          "base_uri": "https://localhost:8080/"
        },
        "id": "BmthQtz7xc5W",
        "outputId": "f465803d-98e1-4327-8172-8975811097b9"
      },
      "outputs": [
        {
          "output_type": "execute_result",
          "data": {
            "text/plain": [
              "array([0.53254871, 0.54237909, 0.54015539, 0.52496915, 0.55220946])"
            ]
          },
          "metadata": {},
          "execution_count": 100
        }
      ],
      "source": [
        "daccuracy4 = cross_val_score(rf2, x_train2_tfidf, y_train2.ravel(), scoring = 'accuracy', cv = 5)\n",
        "daccuracy4"
      ]
    },
    {
      "cell_type": "code",
      "execution_count": null,
      "metadata": {
        "colab": {
          "base_uri": "https://localhost:8080/"
        },
        "id": "rNIJ2qUaNwtK",
        "outputId": "78eb1197-61a2-433d-95e9-c4c5a4c92849"
      },
      "outputs": [
        {
          "output_type": "stream",
          "name": "stdout",
          "text": [
            "[2 0 2 ... 2 0 1]\n"
          ]
        }
      ],
      "source": [
        "#Support Vector Classifier\n",
        "from sklearn.svm import LinearSVC\n",
        "svc2 = LinearSVC(random_state = 0).fit(x_train2_tfidf, y_train2)\n",
        "dpred5 = svc2.predict(x_val2_tfidf)\n",
        "print(dpred5)"
      ]
    },
    {
      "cell_type": "code",
      "execution_count": null,
      "metadata": {
        "colab": {
          "base_uri": "https://localhost:8080/"
        },
        "id": "J_S3YgL0VCQx",
        "outputId": "c1072dd8-0b43-4ecd-f2a4-f18935b7b880"
      },
      "outputs": [
        {
          "output_type": "execute_result",
          "data": {
            "text/plain": [
              "0.8656913799758288"
            ]
          },
          "metadata": {},
          "execution_count": 102
        }
      ],
      "source": [
        "daccu_score5 = accuracy_score(y_val2, dpred5)\n",
        "daccu_score5"
      ]
    },
    {
      "cell_type": "code",
      "execution_count": null,
      "metadata": {
        "colab": {
          "base_uri": "https://localhost:8080/"
        },
        "id": "ANYhFFoAVqwP",
        "outputId": "f68b08ae-dc80-4092-aed6-dd00a5ecb52b"
      },
      "outputs": [
        {
          "output_type": "execute_result",
          "data": {
            "text/plain": [
              "array([0.86122222, 0.86105951, 0.86112731, 0.86255102, 0.86122222])"
            ]
          },
          "metadata": {},
          "execution_count": 103
        }
      ],
      "source": [
        "daccuracy5 = cross_val_score(svc2, x_train2_tfidf, y_train2.ravel(), scoring = 'accuracy', cv = 5)\n",
        "daccuracy5"
      ]
    },
    {
      "cell_type": "code",
      "execution_count": null,
      "metadata": {
        "colab": {
          "base_uri": "https://localhost:8080/"
        },
        "id": "AWFqOwskViMu",
        "outputId": "b3feea76-b9c0-4118-d8bb-d64a96fdcb15"
      },
      "outputs": [
        {
          "output_type": "execute_result",
          "data": {
            "text/plain": [
              "array([[45029,  2490,  5411],\n",
              "       [  639, 51247,   648],\n",
              "       [ 9666,  2372, 40537]])"
            ]
          },
          "metadata": {},
          "execution_count": 104
        }
      ],
      "source": [
        "metrics.confusion_matrix(y_val2, dpred5)"
      ]
    },
    {
      "cell_type": "code",
      "execution_count": null,
      "metadata": {
        "colab": {
          "base_uri": "https://localhost:8080/"
        },
        "id": "iIV8CuTEVO9s",
        "outputId": "d903800d-6baa-4823-e2e6-edb36faa5c42"
      },
      "outputs": [
        {
          "output_type": "stream",
          "name": "stdout",
          "text": [
            "              precision    recall  f1-score   support\n",
            "\n",
            "           0       0.81      0.85      0.83     52930\n",
            "           1       0.91      0.98      0.94     52534\n",
            "           2       0.87      0.77      0.82     52575\n",
            "\n",
            "    accuracy                           0.87    158039\n",
            "   macro avg       0.87      0.87      0.86    158039\n",
            "weighted avg       0.87      0.87      0.86    158039\n",
            "\n"
          ]
        }
      ],
      "source": [
        "print(metrics.classification_report(list(y_val2), list(dpred5)))"
      ]
    },
    {
      "cell_type": "code",
      "execution_count": null,
      "metadata": {
        "colab": {
          "base_uri": "https://localhost:8080/"
        },
        "id": "gn6onVuYk9hw",
        "outputId": "f5402352-a743-4d5a-ae63-b76f0fb80013"
      },
      "outputs": [
        {
          "output_type": "execute_result",
          "data": {
            "text/plain": [
              "0        great coat brother zhu zhu wen mandarin love s...\n",
              "1        nasa reveals fact ufo wreckage found moonufo f...\n",
              "2        hollow tomato loaded hormoneli chenfan bingbin...\n",
              "3        ange pavilion geoshui accurate matrimony match...\n",
              "4        50yearold busbus blow 8yearold child rumor rum...\n",
              "                               ...                        \n",
              "64105    lead content domestic faucet exceeds standard ...\n",
              "64106    2018 household registration system changed 3 t...\n",
              "64107    onion eaten this serious also cause eye blindn...\n",
              "64108    grassroot teacher salary last increase end yea...\n",
              "64109    li weijia weeping cry drug sick see respondsli...\n",
              "Name: com_title, Length: 64110, dtype: object"
            ]
          },
          "metadata": {},
          "execution_count": 106
        }
      ],
      "source": [
        "x_test = fake_test[\"com_title\"]\n",
        "x_test"
      ]
    },
    {
      "cell_type": "code",
      "execution_count": null,
      "metadata": {
        "colab": {
          "base_uri": "https://localhost:8080/"
        },
        "id": "cMX5aUJWj95E",
        "outputId": "ae83deed-cb95-4334-a63d-4f39f93e6406"
      },
      "outputs": [
        {
          "output_type": "stream",
          "name": "stdout",
          "text": [
            "(64110, 197530)\n",
            "[2 0 2 ... 0 2 0]\n"
          ]
        }
      ],
      "source": [
        "x_test_counts = count_vect2.transform(fake_test[[\"com_title\"]].iloc[:,0])\n",
        "x_test_tfidf = tfidf2.transform(x_test_counts)\n",
        "tpred = svc2.predict(x_test_tfidf)\n",
        "print(x_test_counts.shape)\n",
        "print(tpred)"
      ]
    },
    {
      "cell_type": "code",
      "execution_count": null,
      "metadata": {
        "colab": {
          "base_uri": "https://localhost:8080/"
        },
        "id": "7L49BsLGlefL",
        "outputId": "b61caccc-94c1-4e0f-d83e-61a968ac055c"
      },
      "outputs": [
        {
          "output_type": "execute_result",
          "data": {
            "text/plain": [
              "numpy.ndarray"
            ]
          },
          "metadata": {},
          "execution_count": 108
        }
      ],
      "source": [
        "type(tpred)\n"
      ]
    },
    {
      "cell_type": "code",
      "execution_count": null,
      "metadata": {
        "colab": {
          "base_uri": "https://localhost:8080/"
        },
        "id": "5MMEOJJjm3WO",
        "outputId": "3bd97fa5-72b9-4db9-ce28-c3d1bbf5399b"
      },
      "outputs": [
        {
          "output_type": "execute_result",
          "data": {
            "text/plain": [
              "64110"
            ]
          },
          "metadata": {},
          "execution_count": 109
        }
      ],
      "source": [
        "len(tpred)"
      ]
    },
    {
      "cell_type": "code",
      "execution_count": null,
      "metadata": {
        "colab": {
          "base_uri": "https://localhost:8080/"
        },
        "id": "Iwse-t-Xjnlw",
        "outputId": "e700375f-b714-4445-83ee-75510e81fff5"
      },
      "outputs": [
        {
          "output_type": "execute_result",
          "data": {
            "text/plain": [
              "['unrelated',\n",
              " 'agreed',\n",
              " 'unrelated',\n",
              " 'unrelated',\n",
              " 'unrelated',\n",
              " 'unrelated',\n",
              " 'unrelated',\n",
              " 'unrelated',\n",
              " 'agreed',\n",
              " 'unrelated',\n",
              " 'agreed',\n",
              " 'agreed',\n",
              " 'unrelated',\n",
              " 'unrelated',\n",
              " 'unrelated',\n",
              " 'unrelated',\n",
              " 'agreed',\n",
              " 'unrelated',\n",
              " 'unrelated',\n",
              " 'agreed',\n",
              " 'unrelated',\n",
              " 'unrelated',\n",
              " 'unrelated',\n",
              " 'unrelated',\n",
              " 'unrelated',\n",
              " 'agreed',\n",
              " 'unrelated',\n",
              " 'unrelated',\n",
              " 'agreed',\n",
              " 'unrelated',\n",
              " 'unrelated',\n",
              " 'agreed',\n",
              " 'agreed',\n",
              " 'unrelated',\n",
              " 'agreed',\n",
              " 'agreed',\n",
              " 'unrelated',\n",
              " 'unrelated',\n",
              " 'unrelated',\n",
              " 'agreed',\n",
              " 'unrelated',\n",
              " 'unrelated',\n",
              " 'agreed',\n",
              " 'unrelated',\n",
              " 'agreed',\n",
              " 'unrelated',\n",
              " 'unrelated',\n",
              " 'unrelated',\n",
              " 'agreed',\n",
              " 'agreed',\n",
              " 'agreed',\n",
              " 'unrelated',\n",
              " 'agreed',\n",
              " 'agreed',\n",
              " 'unrelated',\n",
              " 'unrelated',\n",
              " 'unrelated',\n",
              " 'agreed',\n",
              " 'disagreed',\n",
              " 'unrelated',\n",
              " 'unrelated',\n",
              " 'unrelated',\n",
              " 'agreed',\n",
              " 'agreed',\n",
              " 'unrelated',\n",
              " 'unrelated',\n",
              " 'unrelated',\n",
              " 'agreed',\n",
              " 'unrelated',\n",
              " 'unrelated',\n",
              " 'unrelated',\n",
              " 'agreed',\n",
              " 'unrelated',\n",
              " 'unrelated',\n",
              " 'agreed',\n",
              " 'unrelated',\n",
              " 'unrelated',\n",
              " 'unrelated',\n",
              " 'unrelated',\n",
              " 'unrelated',\n",
              " 'agreed',\n",
              " 'unrelated',\n",
              " 'unrelated',\n",
              " 'unrelated',\n",
              " 'agreed',\n",
              " 'agreed',\n",
              " 'unrelated',\n",
              " 'agreed',\n",
              " 'unrelated',\n",
              " 'unrelated',\n",
              " 'agreed',\n",
              " 'unrelated',\n",
              " 'unrelated',\n",
              " 'unrelated',\n",
              " 'agreed',\n",
              " 'unrelated',\n",
              " 'agreed',\n",
              " 'agreed',\n",
              " 'agreed',\n",
              " 'unrelated',\n",
              " 'unrelated',\n",
              " 'agreed',\n",
              " 'unrelated',\n",
              " 'unrelated',\n",
              " 'unrelated',\n",
              " 'unrelated',\n",
              " 'agreed',\n",
              " 'unrelated',\n",
              " 'disagreed',\n",
              " 'unrelated',\n",
              " 'unrelated',\n",
              " 'agreed',\n",
              " 'agreed',\n",
              " 'unrelated',\n",
              " 'unrelated',\n",
              " 'unrelated',\n",
              " 'unrelated',\n",
              " 'unrelated',\n",
              " 'unrelated',\n",
              " 'agreed',\n",
              " 'agreed',\n",
              " 'unrelated',\n",
              " 'unrelated',\n",
              " 'unrelated',\n",
              " 'unrelated',\n",
              " 'unrelated',\n",
              " 'agreed',\n",
              " 'disagreed',\n",
              " 'unrelated',\n",
              " 'unrelated',\n",
              " 'agreed',\n",
              " 'agreed',\n",
              " 'unrelated',\n",
              " 'unrelated',\n",
              " 'unrelated',\n",
              " 'unrelated',\n",
              " 'agreed',\n",
              " 'unrelated',\n",
              " 'agreed',\n",
              " 'agreed',\n",
              " 'unrelated',\n",
              " 'unrelated',\n",
              " 'unrelated',\n",
              " 'unrelated',\n",
              " 'unrelated',\n",
              " 'unrelated',\n",
              " 'agreed',\n",
              " 'agreed',\n",
              " 'unrelated',\n",
              " 'unrelated',\n",
              " 'agreed',\n",
              " 'agreed',\n",
              " 'unrelated',\n",
              " 'unrelated',\n",
              " 'unrelated',\n",
              " 'unrelated',\n",
              " 'unrelated',\n",
              " 'disagreed',\n",
              " 'unrelated',\n",
              " 'agreed',\n",
              " 'agreed',\n",
              " 'agreed',\n",
              " 'agreed',\n",
              " 'unrelated',\n",
              " 'unrelated',\n",
              " 'agreed',\n",
              " 'agreed',\n",
              " 'unrelated',\n",
              " 'unrelated',\n",
              " 'unrelated',\n",
              " 'agreed',\n",
              " 'unrelated',\n",
              " 'unrelated',\n",
              " 'unrelated',\n",
              " 'unrelated',\n",
              " 'unrelated',\n",
              " 'unrelated',\n",
              " 'unrelated',\n",
              " 'unrelated',\n",
              " 'agreed',\n",
              " 'disagreed',\n",
              " 'agreed',\n",
              " 'unrelated',\n",
              " 'unrelated',\n",
              " 'unrelated',\n",
              " 'unrelated',\n",
              " 'unrelated',\n",
              " 'unrelated',\n",
              " 'agreed',\n",
              " 'unrelated',\n",
              " 'unrelated',\n",
              " 'unrelated',\n",
              " 'unrelated',\n",
              " 'unrelated',\n",
              " 'unrelated',\n",
              " 'agreed',\n",
              " 'unrelated',\n",
              " 'agreed',\n",
              " 'unrelated',\n",
              " 'unrelated',\n",
              " 'agreed',\n",
              " 'agreed',\n",
              " 'unrelated',\n",
              " 'agreed',\n",
              " 'unrelated',\n",
              " 'unrelated',\n",
              " 'unrelated',\n",
              " 'unrelated',\n",
              " 'agreed',\n",
              " 'unrelated',\n",
              " 'agreed',\n",
              " 'unrelated',\n",
              " 'unrelated',\n",
              " 'unrelated',\n",
              " 'unrelated',\n",
              " 'agreed',\n",
              " 'unrelated',\n",
              " 'agreed',\n",
              " 'unrelated',\n",
              " 'unrelated',\n",
              " 'unrelated',\n",
              " 'agreed',\n",
              " 'unrelated',\n",
              " 'unrelated',\n",
              " 'unrelated',\n",
              " 'unrelated',\n",
              " 'agreed',\n",
              " 'unrelated',\n",
              " 'disagreed',\n",
              " 'unrelated',\n",
              " 'unrelated',\n",
              " 'unrelated',\n",
              " 'unrelated',\n",
              " 'unrelated',\n",
              " 'agreed',\n",
              " 'unrelated',\n",
              " 'disagreed',\n",
              " 'unrelated',\n",
              " 'unrelated',\n",
              " 'agreed',\n",
              " 'unrelated',\n",
              " 'unrelated',\n",
              " 'unrelated',\n",
              " 'agreed',\n",
              " 'unrelated',\n",
              " 'unrelated',\n",
              " 'agreed',\n",
              " 'unrelated',\n",
              " 'agreed',\n",
              " 'unrelated',\n",
              " 'unrelated',\n",
              " 'agreed',\n",
              " 'unrelated',\n",
              " 'agreed',\n",
              " 'agreed',\n",
              " 'agreed',\n",
              " 'agreed',\n",
              " 'unrelated',\n",
              " 'agreed',\n",
              " 'unrelated',\n",
              " 'unrelated',\n",
              " 'agreed',\n",
              " 'agreed',\n",
              " 'agreed',\n",
              " 'agreed',\n",
              " 'unrelated',\n",
              " 'agreed',\n",
              " 'unrelated',\n",
              " 'agreed',\n",
              " 'unrelated',\n",
              " 'unrelated',\n",
              " 'agreed',\n",
              " 'unrelated',\n",
              " 'agreed',\n",
              " 'unrelated',\n",
              " 'agreed',\n",
              " 'agreed',\n",
              " 'agreed',\n",
              " 'unrelated',\n",
              " 'agreed',\n",
              " 'unrelated',\n",
              " 'unrelated',\n",
              " 'agreed',\n",
              " 'agreed',\n",
              " 'agreed',\n",
              " 'agreed',\n",
              " 'unrelated',\n",
              " 'agreed',\n",
              " 'unrelated',\n",
              " 'agreed',\n",
              " 'agreed',\n",
              " 'agreed',\n",
              " 'unrelated',\n",
              " 'unrelated',\n",
              " 'unrelated',\n",
              " 'agreed',\n",
              " 'disagreed',\n",
              " 'unrelated',\n",
              " 'agreed',\n",
              " 'unrelated',\n",
              " 'agreed',\n",
              " 'unrelated',\n",
              " 'unrelated',\n",
              " 'unrelated',\n",
              " 'unrelated',\n",
              " 'disagreed',\n",
              " 'unrelated',\n",
              " 'unrelated',\n",
              " 'unrelated',\n",
              " 'unrelated',\n",
              " 'agreed',\n",
              " 'unrelated',\n",
              " 'unrelated',\n",
              " 'agreed',\n",
              " 'disagreed',\n",
              " 'unrelated',\n",
              " 'agreed',\n",
              " 'agreed',\n",
              " 'unrelated',\n",
              " 'unrelated',\n",
              " 'agreed',\n",
              " 'agreed',\n",
              " 'agreed',\n",
              " 'unrelated',\n",
              " 'agreed',\n",
              " 'unrelated',\n",
              " 'agreed',\n",
              " 'agreed',\n",
              " 'agreed',\n",
              " 'unrelated',\n",
              " 'unrelated',\n",
              " 'unrelated',\n",
              " 'agreed',\n",
              " 'unrelated',\n",
              " 'agreed',\n",
              " 'unrelated',\n",
              " 'unrelated',\n",
              " 'agreed',\n",
              " 'unrelated',\n",
              " 'unrelated',\n",
              " 'unrelated',\n",
              " 'unrelated',\n",
              " 'unrelated',\n",
              " 'unrelated',\n",
              " 'unrelated',\n",
              " 'unrelated',\n",
              " 'agreed',\n",
              " 'agreed',\n",
              " 'agreed',\n",
              " 'unrelated',\n",
              " 'unrelated',\n",
              " 'unrelated',\n",
              " 'agreed',\n",
              " 'unrelated',\n",
              " 'unrelated',\n",
              " 'agreed',\n",
              " 'unrelated',\n",
              " 'unrelated',\n",
              " 'unrelated',\n",
              " 'agreed',\n",
              " 'unrelated',\n",
              " 'unrelated',\n",
              " 'unrelated',\n",
              " 'disagreed',\n",
              " 'unrelated',\n",
              " 'unrelated',\n",
              " 'unrelated',\n",
              " 'unrelated',\n",
              " 'agreed',\n",
              " 'unrelated',\n",
              " 'agreed',\n",
              " 'unrelated',\n",
              " 'agreed',\n",
              " 'unrelated',\n",
              " 'agreed',\n",
              " 'unrelated',\n",
              " 'unrelated',\n",
              " 'unrelated',\n",
              " 'agreed',\n",
              " 'unrelated',\n",
              " 'agreed',\n",
              " 'agreed',\n",
              " 'unrelated',\n",
              " 'agreed',\n",
              " 'disagreed',\n",
              " 'unrelated',\n",
              " 'unrelated',\n",
              " 'agreed',\n",
              " 'agreed',\n",
              " 'unrelated',\n",
              " 'agreed',\n",
              " 'unrelated',\n",
              " 'unrelated',\n",
              " 'agreed',\n",
              " 'unrelated',\n",
              " 'unrelated',\n",
              " 'disagreed',\n",
              " 'unrelated',\n",
              " 'agreed',\n",
              " 'unrelated',\n",
              " 'unrelated',\n",
              " 'agreed',\n",
              " 'unrelated',\n",
              " 'unrelated',\n",
              " 'unrelated',\n",
              " 'agreed',\n",
              " 'agreed',\n",
              " 'agreed',\n",
              " 'agreed',\n",
              " 'unrelated',\n",
              " 'unrelated',\n",
              " 'unrelated',\n",
              " 'unrelated',\n",
              " 'unrelated',\n",
              " 'agreed',\n",
              " 'unrelated',\n",
              " 'disagreed',\n",
              " 'agreed',\n",
              " 'unrelated',\n",
              " 'unrelated',\n",
              " 'unrelated',\n",
              " 'unrelated',\n",
              " 'agreed',\n",
              " 'agreed',\n",
              " 'unrelated',\n",
              " 'unrelated',\n",
              " 'agreed',\n",
              " 'unrelated',\n",
              " 'unrelated',\n",
              " 'agreed',\n",
              " 'agreed',\n",
              " 'agreed',\n",
              " 'unrelated',\n",
              " 'unrelated',\n",
              " 'unrelated',\n",
              " 'unrelated',\n",
              " 'agreed',\n",
              " 'agreed',\n",
              " 'unrelated',\n",
              " 'unrelated',\n",
              " 'agreed',\n",
              " 'agreed',\n",
              " 'agreed',\n",
              " 'unrelated',\n",
              " 'disagreed',\n",
              " 'unrelated',\n",
              " 'unrelated',\n",
              " 'unrelated',\n",
              " 'agreed',\n",
              " 'unrelated',\n",
              " 'agreed',\n",
              " 'agreed',\n",
              " 'unrelated',\n",
              " 'unrelated',\n",
              " 'unrelated',\n",
              " 'unrelated',\n",
              " 'agreed',\n",
              " 'unrelated',\n",
              " 'agreed',\n",
              " 'unrelated',\n",
              " 'unrelated',\n",
              " 'agreed',\n",
              " 'unrelated',\n",
              " 'agreed',\n",
              " 'unrelated',\n",
              " 'unrelated',\n",
              " 'unrelated',\n",
              " 'unrelated',\n",
              " 'unrelated',\n",
              " 'unrelated',\n",
              " 'unrelated',\n",
              " 'agreed',\n",
              " 'unrelated',\n",
              " 'unrelated',\n",
              " 'agreed',\n",
              " 'agreed',\n",
              " 'unrelated',\n",
              " 'unrelated',\n",
              " 'agreed',\n",
              " 'unrelated',\n",
              " 'agreed',\n",
              " 'agreed',\n",
              " 'unrelated',\n",
              " 'agreed',\n",
              " 'unrelated',\n",
              " 'agreed',\n",
              " 'unrelated',\n",
              " 'unrelated',\n",
              " 'unrelated',\n",
              " 'unrelated',\n",
              " 'unrelated',\n",
              " 'unrelated',\n",
              " 'unrelated',\n",
              " 'agreed',\n",
              " 'unrelated',\n",
              " 'unrelated',\n",
              " 'unrelated',\n",
              " 'agreed',\n",
              " 'unrelated',\n",
              " 'agreed',\n",
              " 'unrelated',\n",
              " 'unrelated',\n",
              " 'agreed',\n",
              " 'disagreed',\n",
              " 'unrelated',\n",
              " 'unrelated',\n",
              " 'unrelated',\n",
              " 'unrelated',\n",
              " 'unrelated',\n",
              " 'disagreed',\n",
              " 'unrelated',\n",
              " 'agreed',\n",
              " 'agreed',\n",
              " 'agreed',\n",
              " 'unrelated',\n",
              " 'unrelated',\n",
              " 'unrelated',\n",
              " 'unrelated',\n",
              " 'unrelated',\n",
              " 'unrelated',\n",
              " 'agreed',\n",
              " 'agreed',\n",
              " 'unrelated',\n",
              " 'unrelated',\n",
              " 'unrelated',\n",
              " 'unrelated',\n",
              " 'unrelated',\n",
              " 'disagreed',\n",
              " 'agreed',\n",
              " 'unrelated',\n",
              " 'agreed',\n",
              " 'unrelated',\n",
              " 'agreed',\n",
              " 'agreed',\n",
              " 'unrelated',\n",
              " 'disagreed',\n",
              " 'unrelated',\n",
              " 'unrelated',\n",
              " 'agreed',\n",
              " 'agreed',\n",
              " 'unrelated',\n",
              " 'unrelated',\n",
              " 'unrelated',\n",
              " 'agreed',\n",
              " 'disagreed',\n",
              " 'unrelated',\n",
              " 'unrelated',\n",
              " 'unrelated',\n",
              " 'unrelated',\n",
              " 'disagreed',\n",
              " 'unrelated',\n",
              " 'disagreed',\n",
              " 'unrelated',\n",
              " 'unrelated',\n",
              " 'unrelated',\n",
              " 'agreed',\n",
              " 'agreed',\n",
              " 'disagreed',\n",
              " 'unrelated',\n",
              " 'unrelated',\n",
              " 'agreed',\n",
              " 'unrelated',\n",
              " 'unrelated',\n",
              " 'unrelated',\n",
              " 'unrelated',\n",
              " 'disagreed',\n",
              " 'unrelated',\n",
              " 'unrelated',\n",
              " 'unrelated',\n",
              " 'agreed',\n",
              " 'unrelated',\n",
              " 'agreed',\n",
              " 'unrelated',\n",
              " 'agreed',\n",
              " 'unrelated',\n",
              " 'agreed',\n",
              " 'agreed',\n",
              " 'unrelated',\n",
              " 'unrelated',\n",
              " 'unrelated',\n",
              " 'unrelated',\n",
              " 'unrelated',\n",
              " 'unrelated',\n",
              " 'unrelated',\n",
              " 'agreed',\n",
              " 'unrelated',\n",
              " 'agreed',\n",
              " 'agreed',\n",
              " 'unrelated',\n",
              " 'agreed',\n",
              " 'unrelated',\n",
              " 'agreed',\n",
              " 'unrelated',\n",
              " 'unrelated',\n",
              " 'unrelated',\n",
              " 'agreed',\n",
              " 'unrelated',\n",
              " 'unrelated',\n",
              " 'agreed',\n",
              " 'unrelated',\n",
              " 'unrelated',\n",
              " 'unrelated',\n",
              " 'agreed',\n",
              " 'unrelated',\n",
              " 'disagreed',\n",
              " 'unrelated',\n",
              " 'unrelated',\n",
              " 'unrelated',\n",
              " 'unrelated',\n",
              " 'agreed',\n",
              " 'agreed',\n",
              " 'unrelated',\n",
              " 'unrelated',\n",
              " 'unrelated',\n",
              " 'unrelated',\n",
              " 'unrelated',\n",
              " 'unrelated',\n",
              " 'unrelated',\n",
              " 'unrelated',\n",
              " 'unrelated',\n",
              " 'agreed',\n",
              " 'unrelated',\n",
              " 'agreed',\n",
              " 'disagreed',\n",
              " 'unrelated',\n",
              " 'unrelated',\n",
              " 'agreed',\n",
              " 'unrelated',\n",
              " 'unrelated',\n",
              " 'agreed',\n",
              " 'unrelated',\n",
              " 'unrelated',\n",
              " 'agreed',\n",
              " 'agreed',\n",
              " 'unrelated',\n",
              " 'agreed',\n",
              " 'disagreed',\n",
              " 'unrelated',\n",
              " 'agreed',\n",
              " 'unrelated',\n",
              " 'unrelated',\n",
              " 'agreed',\n",
              " 'agreed',\n",
              " 'unrelated',\n",
              " 'disagreed',\n",
              " 'agreed',\n",
              " 'agreed',\n",
              " 'unrelated',\n",
              " 'unrelated',\n",
              " 'unrelated',\n",
              " 'unrelated',\n",
              " 'unrelated',\n",
              " 'unrelated',\n",
              " 'disagreed',\n",
              " 'unrelated',\n",
              " 'agreed',\n",
              " 'unrelated',\n",
              " 'unrelated',\n",
              " 'unrelated',\n",
              " 'agreed',\n",
              " 'unrelated',\n",
              " 'unrelated',\n",
              " 'unrelated',\n",
              " 'unrelated',\n",
              " 'agreed',\n",
              " 'unrelated',\n",
              " 'unrelated',\n",
              " 'unrelated',\n",
              " 'unrelated',\n",
              " 'agreed',\n",
              " 'unrelated',\n",
              " 'unrelated',\n",
              " 'agreed',\n",
              " 'agreed',\n",
              " 'unrelated',\n",
              " 'unrelated',\n",
              " 'unrelated',\n",
              " 'unrelated',\n",
              " 'unrelated',\n",
              " 'unrelated',\n",
              " 'agreed',\n",
              " 'unrelated',\n",
              " 'agreed',\n",
              " 'unrelated',\n",
              " 'agreed',\n",
              " 'agreed',\n",
              " 'unrelated',\n",
              " 'agreed',\n",
              " 'agreed',\n",
              " 'unrelated',\n",
              " 'unrelated',\n",
              " 'unrelated',\n",
              " 'agreed',\n",
              " 'unrelated',\n",
              " 'unrelated',\n",
              " 'agreed',\n",
              " 'agreed',\n",
              " 'unrelated',\n",
              " 'unrelated',\n",
              " 'agreed',\n",
              " 'unrelated',\n",
              " 'unrelated',\n",
              " 'agreed',\n",
              " 'unrelated',\n",
              " 'unrelated',\n",
              " 'agreed',\n",
              " 'agreed',\n",
              " 'disagreed',\n",
              " 'unrelated',\n",
              " 'agreed',\n",
              " 'agreed',\n",
              " 'unrelated',\n",
              " 'unrelated',\n",
              " 'unrelated',\n",
              " 'agreed',\n",
              " 'unrelated',\n",
              " 'unrelated',\n",
              " 'unrelated',\n",
              " 'agreed',\n",
              " 'unrelated',\n",
              " 'unrelated',\n",
              " 'unrelated',\n",
              " 'unrelated',\n",
              " 'unrelated',\n",
              " 'agreed',\n",
              " 'unrelated',\n",
              " 'unrelated',\n",
              " 'disagreed',\n",
              " 'unrelated',\n",
              " 'unrelated',\n",
              " 'agreed',\n",
              " 'unrelated',\n",
              " 'unrelated',\n",
              " 'agreed',\n",
              " 'unrelated',\n",
              " 'unrelated',\n",
              " 'unrelated',\n",
              " 'unrelated',\n",
              " 'unrelated',\n",
              " 'agreed',\n",
              " 'disagreed',\n",
              " 'unrelated',\n",
              " 'unrelated',\n",
              " 'disagreed',\n",
              " 'unrelated',\n",
              " 'agreed',\n",
              " 'unrelated',\n",
              " 'agreed',\n",
              " 'unrelated',\n",
              " 'unrelated',\n",
              " 'unrelated',\n",
              " 'unrelated',\n",
              " 'agreed',\n",
              " 'unrelated',\n",
              " 'unrelated',\n",
              " 'agreed',\n",
              " 'agreed',\n",
              " 'unrelated',\n",
              " 'unrelated',\n",
              " 'unrelated',\n",
              " 'agreed',\n",
              " 'unrelated',\n",
              " 'agreed',\n",
              " 'unrelated',\n",
              " 'unrelated',\n",
              " 'unrelated',\n",
              " 'unrelated',\n",
              " 'unrelated',\n",
              " 'agreed',\n",
              " 'unrelated',\n",
              " 'agreed',\n",
              " 'unrelated',\n",
              " 'agreed',\n",
              " 'agreed',\n",
              " 'unrelated',\n",
              " 'unrelated',\n",
              " 'agreed',\n",
              " 'agreed',\n",
              " 'agreed',\n",
              " 'unrelated',\n",
              " 'unrelated',\n",
              " 'unrelated',\n",
              " 'agreed',\n",
              " 'unrelated',\n",
              " 'unrelated',\n",
              " 'unrelated',\n",
              " 'unrelated',\n",
              " 'unrelated',\n",
              " 'unrelated',\n",
              " 'unrelated',\n",
              " 'agreed',\n",
              " 'agreed',\n",
              " 'agreed',\n",
              " 'agreed',\n",
              " 'agreed',\n",
              " 'disagreed',\n",
              " 'unrelated',\n",
              " 'disagreed',\n",
              " 'unrelated',\n",
              " 'agreed',\n",
              " 'unrelated',\n",
              " 'unrelated',\n",
              " 'unrelated',\n",
              " 'agreed',\n",
              " 'unrelated',\n",
              " 'unrelated',\n",
              " 'agreed',\n",
              " 'disagreed',\n",
              " 'agreed',\n",
              " 'unrelated',\n",
              " 'agreed',\n",
              " 'disagreed',\n",
              " 'agreed',\n",
              " 'agreed',\n",
              " 'unrelated',\n",
              " 'agreed',\n",
              " 'unrelated',\n",
              " 'agreed',\n",
              " 'unrelated',\n",
              " 'agreed',\n",
              " 'agreed',\n",
              " 'agreed',\n",
              " 'unrelated',\n",
              " 'unrelated',\n",
              " 'agreed',\n",
              " 'agreed',\n",
              " 'disagreed',\n",
              " 'disagreed',\n",
              " 'agreed',\n",
              " 'unrelated',\n",
              " 'agreed',\n",
              " 'unrelated',\n",
              " 'unrelated',\n",
              " 'agreed',\n",
              " 'unrelated',\n",
              " 'agreed',\n",
              " 'unrelated',\n",
              " 'unrelated',\n",
              " 'agreed',\n",
              " 'agreed',\n",
              " 'unrelated',\n",
              " 'unrelated',\n",
              " 'agreed',\n",
              " 'disagreed',\n",
              " 'unrelated',\n",
              " 'agreed',\n",
              " 'agreed',\n",
              " 'unrelated',\n",
              " 'unrelated',\n",
              " 'agreed',\n",
              " 'unrelated',\n",
              " 'agreed',\n",
              " 'unrelated',\n",
              " 'unrelated',\n",
              " 'disagreed',\n",
              " 'unrelated',\n",
              " 'agreed',\n",
              " 'unrelated',\n",
              " 'agreed',\n",
              " 'unrelated',\n",
              " 'unrelated',\n",
              " 'agreed',\n",
              " 'unrelated',\n",
              " 'unrelated',\n",
              " 'agreed',\n",
              " 'agreed',\n",
              " 'disagreed',\n",
              " 'agreed',\n",
              " 'unrelated',\n",
              " 'agreed',\n",
              " 'agreed',\n",
              " 'agreed',\n",
              " 'agreed',\n",
              " 'unrelated',\n",
              " 'agreed',\n",
              " 'unrelated',\n",
              " 'agreed',\n",
              " 'unrelated',\n",
              " 'agreed',\n",
              " 'agreed',\n",
              " 'agreed',\n",
              " 'unrelated',\n",
              " 'agreed',\n",
              " 'agreed',\n",
              " 'unrelated',\n",
              " 'unrelated',\n",
              " 'unrelated',\n",
              " 'unrelated',\n",
              " 'unrelated',\n",
              " 'unrelated',\n",
              " 'unrelated',\n",
              " 'disagreed',\n",
              " 'unrelated',\n",
              " 'disagreed',\n",
              " 'agreed',\n",
              " 'unrelated',\n",
              " 'agreed',\n",
              " 'agreed',\n",
              " 'unrelated',\n",
              " 'agreed',\n",
              " 'unrelated',\n",
              " 'unrelated',\n",
              " 'unrelated',\n",
              " 'agreed',\n",
              " 'unrelated',\n",
              " 'agreed',\n",
              " 'agreed',\n",
              " 'agreed',\n",
              " 'agreed',\n",
              " 'disagreed',\n",
              " 'agreed',\n",
              " 'unrelated',\n",
              " 'unrelated',\n",
              " 'agreed',\n",
              " 'agreed',\n",
              " 'agreed',\n",
              " 'agreed',\n",
              " 'agreed',\n",
              " 'agreed',\n",
              " 'agreed',\n",
              " 'unrelated',\n",
              " 'agreed',\n",
              " 'unrelated',\n",
              " 'unrelated',\n",
              " 'unrelated',\n",
              " 'agreed',\n",
              " 'agreed',\n",
              " 'unrelated',\n",
              " 'unrelated',\n",
              " 'unrelated',\n",
              " 'unrelated',\n",
              " 'unrelated',\n",
              " 'agreed',\n",
              " 'unrelated',\n",
              " 'unrelated',\n",
              " 'unrelated',\n",
              " 'agreed',\n",
              " 'agreed',\n",
              " 'agreed',\n",
              " 'agreed',\n",
              " 'unrelated',\n",
              " 'unrelated',\n",
              " 'unrelated',\n",
              " 'agreed',\n",
              " 'unrelated',\n",
              " 'unrelated',\n",
              " 'unrelated',\n",
              " 'agreed',\n",
              " 'unrelated',\n",
              " 'unrelated',\n",
              " 'agreed',\n",
              " 'unrelated',\n",
              " 'agreed',\n",
              " 'agreed',\n",
              " 'unrelated',\n",
              " 'unrelated',\n",
              " 'unrelated',\n",
              " 'unrelated',\n",
              " 'unrelated',\n",
              " 'unrelated',\n",
              " 'agreed',\n",
              " 'unrelated',\n",
              " 'agreed',\n",
              " 'agreed',\n",
              " 'agreed',\n",
              " 'agreed',\n",
              " 'agreed',\n",
              " 'agreed',\n",
              " 'unrelated',\n",
              " 'unrelated',\n",
              " 'unrelated',\n",
              " 'unrelated',\n",
              " 'agreed',\n",
              " 'unrelated',\n",
              " 'disagreed',\n",
              " 'agreed',\n",
              " 'agreed',\n",
              " 'agreed',\n",
              " 'unrelated',\n",
              " 'unrelated',\n",
              " 'unrelated',\n",
              " 'unrelated',\n",
              " 'unrelated',\n",
              " 'agreed',\n",
              " 'disagreed',\n",
              " 'unrelated',\n",
              " 'unrelated',\n",
              " 'unrelated',\n",
              " 'unrelated',\n",
              " 'unrelated',\n",
              " 'unrelated',\n",
              " 'agreed',\n",
              " 'agreed',\n",
              " 'agreed',\n",
              " 'unrelated',\n",
              " 'disagreed',\n",
              " 'unrelated',\n",
              " 'unrelated',\n",
              " 'unrelated',\n",
              " 'unrelated',\n",
              " ...]"
            ]
          },
          "metadata": {},
          "execution_count": 124
        }
      ],
      "source": [
        "#write to output file\n",
        "tpred2 = [None] * 64110\n",
        "for i in range(len(tpred)):\n",
        "  if tpred[i] == 0:\n",
        "    tpred2[i] = 'agreed'\n",
        "  elif tpred[i] == 1:\n",
        "    tpred2[i] = 'disagreed'\n",
        "  else:\n",
        "    tpred2[i] = 'unrelated'\n",
        "tpred2"
      ]
    },
    {
      "cell_type": "code",
      "source": [
        "tpred2[0]"
      ],
      "metadata": {
        "colab": {
          "base_uri": "https://localhost:8080/",
          "height": 35
        },
        "id": "aZBUPl3_iP35",
        "outputId": "be16b7cd-c00b-4566-d54e-34bc67f885f6"
      },
      "execution_count": null,
      "outputs": [
        {
          "output_type": "execute_result",
          "data": {
            "text/plain": [
              "'unrelated'"
            ],
            "application/vnd.google.colaboratory.intrinsic+json": {
              "type": "string"
            }
          },
          "metadata": {},
          "execution_count": 125
        }
      ]
    },
    {
      "cell_type": "code",
      "source": [
        "tpred[1]"
      ],
      "metadata": {
        "colab": {
          "base_uri": "https://localhost:8080/"
        },
        "id": "ozIznWupih1q",
        "outputId": "580d25d4-f4d1-4302-a35c-3e0afc8cb050"
      },
      "execution_count": null,
      "outputs": [
        {
          "output_type": "execute_result",
          "data": {
            "text/plain": [
              "0"
            ]
          },
          "metadata": {},
          "execution_count": 126
        }
      ]
    },
    {
      "cell_type": "code",
      "execution_count": null,
      "metadata": {
        "id": "IGJlPg-4o8Dr"
      },
      "outputs": [],
      "source": [
        "import csv\n",
        "list_1 = fake_test['id'].tolist()\n",
        "list_1.insert(0, 'id')\n",
        "list_2 = tpred2\n",
        "list_2.insert(0, 'label')\n",
        "with open('submission.csv', 'w') as f:\n",
        "  writer = csv.writer(f, delimiter='\\t')\n",
        "  writer.writerows(zip(list_1,list_2))"
      ]
    },
    {
      "cell_type": "code",
      "source": [
        "tpred2[0]"
      ],
      "metadata": {
        "colab": {
          "base_uri": "https://localhost:8080/",
          "height": 35
        },
        "id": "S7e6mueOhc1t",
        "outputId": "bc5249d7-19b7-4ec4-c4f3-9640cf1f75af"
      },
      "execution_count": null,
      "outputs": [
        {
          "output_type": "execute_result",
          "data": {
            "text/plain": [
              "'label'"
            ],
            "application/vnd.google.colaboratory.intrinsic+json": {
              "type": "string"
            }
          },
          "metadata": {},
          "execution_count": 128
        }
      ]
    },
    {
      "cell_type": "code",
      "execution_count": null,
      "metadata": {
        "colab": {
          "base_uri": "https://localhost:8080/"
        },
        "id": "FzyVwHFr-rq6",
        "outputId": "90cb3254-8b1b-4d82-d93c-791f487004c6"
      },
      "outputs": [
        {
          "name": "stdout",
          "output_type": "stream",
          "text": [
            "Found 197803 unique tokens.\n"
          ]
        }
      ],
      "source": [
        "#Importing LSTM libraries\n",
        "from keras.preprocessing.text import Tokenizer\n",
        "from keras.preprocessing.sequence import pad_sequences\n",
        "from keras.models import Sequential, load_model\n",
        "from keras.layers import Dense, Embedding, LSTM, SpatialDropout1D\n",
        "from sklearn.model_selection import train_test_split\n",
        "from keras.utils.np_utils import to_categorical\n",
        "from keras.callbacks import EarlyStopping\n",
        "from keras.layers import Dropout\n",
        "\n",
        "#Docs\n",
        "\n",
        "#LSTM Model 1\n",
        "# The maximum number of words to be used for vocabulary\n",
        "MAX_NB_WORDS = 50000\n",
        "# Max number of words in each title.\n",
        "MAX_SEQUENCE_LENGTH = 250\n",
        "# Fixed word embeding layer dimension\n",
        "EMBEDDING_DIM = 100\n",
        "\n",
        "#Set up our Tokenizer for Keras\n",
        "tokenizer = Tokenizer(num_words=MAX_NB_WORDS, filters='!\"#$%&()*+,-./:;<=>?@[\\]^_`{|}~', lower=True)\n",
        "\n",
        "#Update our internal vocabulary for tokenizer based on 'com_titles'\n",
        "tokenizer.fit_on_texts(fake['com_title'].values)\n",
        "word_index = tokenizer.word_index\n",
        "print('Found %s unique tokens.' % len(word_index))"
      ]
    },
    {
      "cell_type": "code",
      "execution_count": null,
      "metadata": {
        "colab": {
          "base_uri": "https://localhost:8080/"
        },
        "id": "c50vPLeL-1vc",
        "outputId": "2c7146f5-ee1e-45e7-8d23-cf8b631639fc"
      },
      "outputs": [
        {
          "name": "stdout",
          "output_type": "stream",
          "text": [
            "Shape of data tensor: (256442, 250)\n"
          ]
        }
      ],
      "source": [
        "#Truncate and pad our input sentences to max sentence value so that they are in the same length\n",
        "X = tokenizer.texts_to_sequences(fake['com_title'].values)\n",
        "X = pad_sequences(X, maxlen=MAX_SEQUENCE_LENGTH,padding='post')\n",
        "print('Shape of data tensor:', X.shape)"
      ]
    },
    {
      "cell_type": "code",
      "execution_count": null,
      "metadata": {
        "colab": {
          "base_uri": "https://localhost:8080/"
        },
        "id": "CXgBXcJ7-6q4",
        "outputId": "8c92fefb-f84d-4ffa-e502-ad46020f5870"
      },
      "outputs": [
        {
          "name": "stdout",
          "output_type": "stream",
          "text": [
            "Shape of label tensor: (256442, 3)\n"
          ]
        }
      ],
      "source": [
        "#Convert categorical label into number\n",
        "Y = pd.get_dummies(fake['label']).values\n",
        "print('Shape of label tensor:', Y.shape)"
      ]
    },
    {
      "cell_type": "code",
      "execution_count": null,
      "metadata": {
        "colab": {
          "base_uri": "https://localhost:8080/"
        },
        "id": "8XQWj1H-_3Q9",
        "outputId": "a6dfb0ae-3e47-41ce-c759-92e04d8d4b22",
        "scrolled": true
      },
      "outputs": [
        {
          "name": "stdout",
          "output_type": "stream",
          "text": [
            "(230797, 250) (230797, 3)\n",
            "(25645, 250) (25645, 3)\n"
          ]
        }
      ],
      "source": [
        "#Split our training to train and test set\n",
        "X_train, X_test, Y_train, Y_test = train_test_split(X,Y, test_size = 0.10, random_state = 30)\n",
        "print(X_train.shape,Y_train.shape)\n",
        "print(X_test.shape,Y_test.shape)"
      ]
    },
    {
      "cell_type": "code",
      "execution_count": null,
      "metadata": {
        "id": "UdJfuTILjhMg"
      },
      "outputs": [],
      "source": [
        "#LSTM with 100 length vectors for word embedding, with LSTM of 100 memory units, and softmax for activation function\n",
        "#With categorical_crossentropy as the loss function\n",
        "model = Sequential()\n",
        "model.add(Embedding(MAX_NB_WORDS, EMBEDDING_DIM, input_length=X.shape[1]))\n",
        "model.add(SpatialDropout1D(0.2))\n",
        "model.add(LSTM(100, dropout=0.2, recurrent_dropout=0.2))\n",
        "model.add(Dense(3, activation='softmax'))\n",
        "model.compile(loss='categorical_crossentropy', optimizer='adam', metrics=['accuracy'])\n",
        "\n",
        "epochs = 5\n",
        "batch_size = 64\n",
        "\n",
        "history = model.fit(X_train, Y_train, epochs=epochs, batch_size=batch_size,validation_split=0.1,\n",
        "                    callbacks=[EarlyStopping(monitor='val_loss', patience=3, min_delta=0.0001)])"
      ]
    },
    {
      "cell_type": "code",
      "execution_count": null,
      "metadata": {
        "id": "fJV_bmiqjhMg"
      },
      "outputs": [],
      "source": [
        "#If using google colab\n",
        "# !unzip '/content/LSTM_Classification_Model.zip' \n",
        "# model = load_model('/content/index_model')\n",
        "\n",
        "#If model is in local file system\n",
        "model = load_model('index_model')"
      ]
    },
    {
      "cell_type": "code",
      "execution_count": null,
      "metadata": {
        "colab": {
          "base_uri": "https://localhost:8080/"
        },
        "id": "q2oeFI_EG3dd",
        "outputId": "bffefd63-18f2-45bb-cd51-dc3e8467345d",
        "scrolled": true
      },
      "outputs": [
        {
          "name": "stdout",
          "output_type": "stream",
          "text": [
            "Model: \"sequential\"\n",
            "_________________________________________________________________\n",
            "Layer (type)                 Output Shape              Param #   \n",
            "=================================================================\n",
            "embedding (Embedding)        (None, 250, 100)          5000000   \n",
            "_________________________________________________________________\n",
            "spatial_dropout1d (SpatialDr (None, 250, 100)          0         \n",
            "_________________________________________________________________\n",
            "lstm (LSTM)                  (None, 100)               80400     \n",
            "_________________________________________________________________\n",
            "dense (Dense)                (None, 3)                 303       \n",
            "=================================================================\n",
            "Total params: 5,080,703\n",
            "Trainable params: 5,080,703\n",
            "Non-trainable params: 0\n",
            "_________________________________________________________________\n"
          ]
        }
      ],
      "source": [
        "model.summary()"
      ]
    },
    {
      "cell_type": "code",
      "execution_count": null,
      "metadata": {
        "id": "gR8lXX4WqG_e",
        "scrolled": true
      },
      "outputs": [],
      "source": [
        "pred=model.predict(X_test)"
      ]
    },
    {
      "cell_type": "code",
      "execution_count": null,
      "metadata": {
        "id": "e89urZk3qG_e",
        "outputId": "8cf91568-3580-41d0-b625-5d8d0f2795d1",
        "scrolled": true
      },
      "outputs": [
        {
          "data": {
            "text/plain": [
              "array([[0, 0, 1],\n",
              "       [0, 0, 1],\n",
              "       [1, 0, 0],\n",
              "       ...,\n",
              "       [0, 0, 1],\n",
              "       [1, 0, 0],\n",
              "       [0, 0, 1]], dtype=uint8)"
            ]
          },
          "execution_count": 257,
          "metadata": {},
          "output_type": "execute_result"
        }
      ],
      "source": [
        "Y_test"
      ]
    },
    {
      "cell_type": "code",
      "execution_count": null,
      "metadata": {
        "id": "vmJ4mwqvqG_f",
        "outputId": "5c64412d-407e-41b4-9a9a-9ae672253d6a"
      },
      "outputs": [
        {
          "name": "stdout",
          "output_type": "stream",
          "text": [
            "              precision    recall  f1-score   support\n",
            "\n",
            "           0       0.00      0.00      0.00      7418\n",
            "           1       0.00      0.00      0.00       666\n",
            "           2       0.68      1.00      0.81     17561\n",
            "\n",
            "    accuracy                           0.68     25645\n",
            "   macro avg       0.23      0.33      0.27     25645\n",
            "weighted avg       0.47      0.68      0.56     25645\n",
            "\n"
          ]
        },
        {
          "name": "stderr",
          "output_type": "stream",
          "text": [
            "C:\\Users\\caoti\\anaconda3\\envs\\tf\\lib\\site-packages\\sklearn\\metrics\\_classification.py:1318: UndefinedMetricWarning: Precision and F-score are ill-defined and being set to 0.0 in labels with no predicted samples. Use `zero_division` parameter to control this behavior.\n",
            "  _warn_prf(average, modifier, msg_start, len(result))\n",
            "C:\\Users\\caoti\\anaconda3\\envs\\tf\\lib\\site-packages\\sklearn\\metrics\\_classification.py:1318: UndefinedMetricWarning: Precision and F-score are ill-defined and being set to 0.0 in labels with no predicted samples. Use `zero_division` parameter to control this behavior.\n",
            "  _warn_prf(average, modifier, msg_start, len(result))\n",
            "C:\\Users\\caoti\\anaconda3\\envs\\tf\\lib\\site-packages\\sklearn\\metrics\\_classification.py:1318: UndefinedMetricWarning: Precision and F-score are ill-defined and being set to 0.0 in labels with no predicted samples. Use `zero_division` parameter to control this behavior.\n",
            "  _warn_prf(average, modifier, msg_start, len(result))\n"
          ]
        }
      ],
      "source": [
        "print(metrics.classification_report(np.argmax(Y_test, axis=1), np.argmax(pred, axis=1)))"
      ]
    },
    {
      "cell_type": "code",
      "execution_count": null,
      "metadata": {
        "id": "rj-ddwxgFn5j"
      },
      "outputs": [],
      "source": [
        "#Save model for later prediction\n",
        "# model.save(\"/content/index_model\") \n",
        "\n",
        "# #Zip saved folder and download it to local pc as 1 file\n",
        "# !zip -r /content/file.zip /content/index_model\n",
        "# from google.colab import files\n",
        "# files.download(\"/content/file.zip\")"
      ]
    },
    {
      "cell_type": "code",
      "execution_count": null,
      "metadata": {
        "id": "zPhKjlzqjhMi"
      },
      "outputs": [],
      "source": [
        "import matplotlib.pyplot as plt\n",
        "\n",
        "plt.title('Loss')\n",
        "plt.plot(model.history['loss'], label='train')\n",
        "plt.plot(model.history['val_loss'], label='test')\n",
        "plt.legend()\n",
        "plt.show();"
      ]
    },
    {
      "cell_type": "code",
      "execution_count": null,
      "metadata": {
        "id": "anfKjLfmjhMj"
      },
      "outputs": [],
      "source": [
        "plt.title('Accuracy')\n",
        "plt.plot(history.history['accuracy'], label='train')\n",
        "plt.plot(history.history['val_accuracy'], label='test')\n",
        "plt.legend()\n",
        "plt.show();"
      ]
    },
    {
      "cell_type": "code",
      "execution_count": null,
      "metadata": {
        "id": "jQb_zkP3_4oR",
        "scrolled": true
      },
      "outputs": [],
      "source": [
        "#LSTM updated with 100 length vectors for word embedding, with 3 LSTM of 32,64,128 memory units, and softmax for activation function\n",
        "#With categorical_crossentropy as the loss function\n",
        "model = Sequential()\n",
        "model.add(Embedding(MAX_NB_WORDS, EMBEDDING_DIM, input_length=X.shape[1]))\n",
        "model.add(SpatialDropout1D(0.2))\n",
        "model.add(LSTM(32, return_sequences=True, dropout=0.2, recurrent_dropout=0.2))\n",
        "model.add(LSTM(64, return_sequences=True, dropout=0.2, recurrent_dropout=0.2))\n",
        "model.add(LSTM(128, dropout=0.2, recurrent_dropout=0.2))\n",
        "model.add(Dense(3, activation='softmax'))\n",
        "model.compile(loss='categorical_crossentropy', optimizer='adam', metrics=['accuracy'])\n",
        "\n",
        "epochs = 1\n",
        "batch_size = 64\n",
        "\n",
        "history = model.fit(X_train, Y_train, epochs=epochs, batch_size=batch_size,validation_split=0.1,\n",
        "                    callbacks=[EarlyStopping(monitor='val_loss', patience=3, min_delta=0.0001)])"
      ]
    },
    {
      "cell_type": "code",
      "execution_count": null,
      "metadata": {
        "id": "VF0X-KyqjhMk"
      },
      "outputs": [],
      "source": [
        "#Only run if using google colab\n",
        "# !unzip '/content/newLSTM_updated.zip' \n",
        "#If model is in local file system\n",
        "model = load_model('newLSTM_updated')"
      ]
    },
    {
      "cell_type": "code",
      "execution_count": null,
      "metadata": {
        "id": "bo3dPUYjjhMk",
        "outputId": "cb9c3609-2378-40e6-905c-aaea8ad9a4d6"
      },
      "outputs": [
        {
          "name": "stdout",
          "output_type": "stream",
          "text": [
            "Model: \"sequential_10\"\n",
            "_________________________________________________________________\n",
            "Layer (type)                 Output Shape              Param #   \n",
            "=================================================================\n",
            "embedding_9 (Embedding)      (None, 250, 100)          5000000   \n",
            "_________________________________________________________________\n",
            "spatial_dropout1d_9 (Spatial (None, 250, 100)          0         \n",
            "_________________________________________________________________\n",
            "lstm_22 (LSTM)               (None, 250, 32)           17024     \n",
            "_________________________________________________________________\n",
            "lstm_23 (LSTM)               (None, 250, 64)           24832     \n",
            "_________________________________________________________________\n",
            "lstm_24 (LSTM)               (None, 128)               98816     \n",
            "_________________________________________________________________\n",
            "dense_5 (Dense)              (None, 3)                 387       \n",
            "=================================================================\n",
            "Total params: 5,141,059\n",
            "Trainable params: 5,141,059\n",
            "Non-trainable params: 0\n",
            "_________________________________________________________________\n"
          ]
        }
      ],
      "source": [
        "model.summary()"
      ]
    },
    {
      "cell_type": "code",
      "execution_count": null,
      "metadata": {
        "id": "_M9lJ6p6jhMk"
      },
      "outputs": [],
      "source": [
        "import matplotlib.pyplot as plt\n",
        "\n",
        "plt.title('Loss')\n",
        "plt.plot(model.history['loss'], label='train')\n",
        "plt.plot(model.history['val_loss'], label='test')\n",
        "plt.legend()\n",
        "plt.show();"
      ]
    },
    {
      "cell_type": "code",
      "execution_count": null,
      "metadata": {
        "id": "dOOFZF_PAW4a"
      },
      "outputs": [],
      "source": [
        "plt.title('Accuracy')\n",
        "plt.plot(history.history['accuracy'], label='train')\n",
        "plt.plot(history.history['val_accuracy'], label='test')\n",
        "plt.legend()\n",
        "plt.show();"
      ]
    },
    {
      "cell_type": "code",
      "execution_count": null,
      "metadata": {
        "id": "PUbH5xO_AQHP",
        "outputId": "3515e0a1-3bab-4039-e41d-148925e9e2ce"
      },
      "outputs": [
        {
          "name": "stdout",
          "output_type": "stream",
          "text": [
            "802/802 [==============================] - 325s 390ms/step - loss: 0.7137 - accuracy: 0.6848\n",
            "Test set\n",
            "  Loss: 0.714\n",
            "  Accuracy: 0.685\n"
          ]
        }
      ],
      "source": [
        "accr = model.evaluate(X_test,Y_test)\n",
        "print('Test set\\n  Loss: {:0.3f}\\n  Accuracy: {:0.3f}'.format(accr[0],accr[1]))"
      ]
    },
    {
      "cell_type": "code",
      "execution_count": null,
      "metadata": {
        "id": "UZa9mOq6jhMl"
      },
      "outputs": [],
      "source": [
        "pred=model.predict(X_test)"
      ]
    },
    {
      "cell_type": "code",
      "execution_count": null,
      "metadata": {
        "id": "s8il5WLijhMl",
        "outputId": "247d8568-a8ab-4c2f-bf15-2883fe41176c"
      },
      "outputs": [
        {
          "name": "stdout",
          "output_type": "stream",
          "text": [
            "              precision    recall  f1-score   support\n",
            "\n",
            "           0       0.00      0.00      0.00      7418\n",
            "           1       0.00      0.00      0.00       666\n",
            "           2       0.68      1.00      0.81     17561\n",
            "\n",
            "    accuracy                           0.68     25645\n",
            "   macro avg       0.23      0.33      0.27     25645\n",
            "weighted avg       0.47      0.68      0.56     25645\n",
            "\n"
          ]
        },
        {
          "name": "stderr",
          "output_type": "stream",
          "text": [
            "C:\\Users\\caoti\\anaconda3\\envs\\tf\\lib\\site-packages\\sklearn\\metrics\\_classification.py:1318: UndefinedMetricWarning: Precision and F-score are ill-defined and being set to 0.0 in labels with no predicted samples. Use `zero_division` parameter to control this behavior.\n",
            "  _warn_prf(average, modifier, msg_start, len(result))\n",
            "C:\\Users\\caoti\\anaconda3\\envs\\tf\\lib\\site-packages\\sklearn\\metrics\\_classification.py:1318: UndefinedMetricWarning: Precision and F-score are ill-defined and being set to 0.0 in labels with no predicted samples. Use `zero_division` parameter to control this behavior.\n",
            "  _warn_prf(average, modifier, msg_start, len(result))\n",
            "C:\\Users\\caoti\\anaconda3\\envs\\tf\\lib\\site-packages\\sklearn\\metrics\\_classification.py:1318: UndefinedMetricWarning: Precision and F-score are ill-defined and being set to 0.0 in labels with no predicted samples. Use `zero_division` parameter to control this behavior.\n",
            "  _warn_prf(average, modifier, msg_start, len(result))\n"
          ]
        }
      ],
      "source": [
        "print(metrics.classification_report(np.argmax(Y_test, axis=1), np.argmax(pred, axis=1)))"
      ]
    },
    {
      "cell_type": "code",
      "execution_count": null,
      "metadata": {
        "id": "rIuNf7pSAXAk",
        "outputId": "ecc29675-cc37-4e25-9b38-315e1e10330c"
      },
      "outputs": [
        {
          "name": "stdout",
          "output_type": "stream",
          "text": [
            "[[0.30675995 0.02732092 0.66591907]\n",
            " [0.30675995 0.02732092 0.66591907]] disagreed\n",
            "['disagreed', 'disagreed']\n"
          ]
        }
      ],
      "source": [
        "#Start to predict model (Testing)\n",
        "predict_set = [['The great coat brother Zhu Zhu Wen, in the mandarin love song to sing the song is really the lanca- talent is very sweet! Lin xinsheng after the birth of \"hard milking,\" Huo jianhua is not seen, \"forced marriage\" is real?'],[\"How to discriminate oil from gutter oil by means of garlic. It's very practical to use a single piece of garlic to distinguish oil from oil! \"]]\n",
        "seq = tokenizer.texts_to_sequences(predict_set)\n",
        "padded = pad_sequences(seq, maxlen=MAX_SEQUENCE_LENGTH)\n",
        "pred = model.predict(padded)\n",
        "labels = ['unrelated','agreed','disagreed']\n",
        "print(pred, labels[np.argmax(pred)])\n",
        "classes = np.argmax(pred, axis =1 )\n",
        "answer=[labels[x] for x in classes]\n",
        "print(answer)"
      ]
    }
  ],
  "metadata": {
    "colab": {
      "collapsed_sections": [],
      "name": "FakeNewsDetection.ipynb",
      "provenance": []
    },
    "kernelspec": {
      "display_name": "Python 3 (ipykernel)",
      "language": "python",
      "name": "python3"
    },
    "language_info": {
      "codemirror_mode": {
        "name": "ipython",
        "version": 3
      },
      "file_extension": ".py",
      "mimetype": "text/x-python",
      "name": "python",
      "nbconvert_exporter": "python",
      "pygments_lexer": "ipython3",
      "version": "3.9.11"
    }
  },
  "nbformat": 4,
  "nbformat_minor": 0
}